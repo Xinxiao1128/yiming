{
  "cells": [
    {
      "cell_type": "code",
      "execution_count": 1,
      "id": "BRLZH1TCt7jLFhocvi2S5q9d",
      "metadata": {
        "colab": {
          "base_uri": "https://localhost:8080/"
        },
        "id": "BRLZH1TCt7jLFhocvi2S5q9d",
        "outputId": "e505746e-177c-494b-ad1c-4c71cf6d9768"
      },
      "outputs": [
        {
          "output_type": "stream",
          "name": "stdout",
          "text": [
            "fatal: destination path 'HPO' already exists and is not an empty directory.\n"
          ]
        }
      ],
      "source": [
        "!git clone https://github.com/Xinxiao1128/HPO"
      ]
    },
    {
      "cell_type": "code",
      "execution_count": 2,
      "id": "yZFvOdEOsBEh",
      "metadata": {
        "colab": {
          "base_uri": "https://localhost:8080/"
        },
        "id": "yZFvOdEOsBEh",
        "outputId": "2f425caa-6f4c-46d1-c96a-16cdeef6ca08"
      },
      "outputs": [
        {
          "output_type": "stream",
          "name": "stdout",
          "text": [
            "/content\n"
          ]
        }
      ],
      "source": [
        "!pwd"
      ]
    },
    {
      "cell_type": "code",
      "execution_count": 3,
      "id": "JdNyx-W-NTqT",
      "metadata": {
        "colab": {
          "base_uri": "https://localhost:8080/"
        },
        "id": "JdNyx-W-NTqT",
        "outputId": "79941766-ebb3-4d2a-98f9-59f36ad52d6c"
      },
      "outputs": [
        {
          "output_type": "stream",
          "name": "stdout",
          "text": [
            "/content/HPO\n"
          ]
        }
      ],
      "source": [
        "cd HPO/"
      ]
    },
    {
      "cell_type": "code",
      "execution_count": 4,
      "id": "MsypW31bdjmH",
      "metadata": {
        "colab": {
          "base_uri": "https://localhost:8080/"
        },
        "id": "MsypW31bdjmH",
        "outputId": "a7bcd455-fb0a-4d0f-8fd5-0521f96bdc30"
      },
      "outputs": [
        {
          "output_type": "stream",
          "name": "stdout",
          "text": [
            "final_model.py          README.md                  step2_data_preprocessing.py\n",
            "main.py                 requirements.txt           step3_train_model.py\n",
            "pipeline_from_tasks.py  step1_dataset_artifact.py  task_hpo.py\n"
          ]
        }
      ],
      "source": [
        "ls"
      ]
    },
    {
      "cell_type": "code",
      "execution_count": 5,
      "id": "MW7PLF2_sBNL",
      "metadata": {
        "colab": {
          "base_uri": "https://localhost:8080/"
        },
        "id": "MW7PLF2_sBNL",
        "outputId": "d5089e2c-088c-4008-9c04-ad3d327c666a"
      },
      "outputs": [
        {
          "output_type": "stream",
          "name": "stdout",
          "text": [
            "Requirement already satisfied: clearml in /usr/local/lib/python3.11/dist-packages (1.18.0)\n",
            "Requirement already satisfied: attrs>=18.0 in /usr/local/lib/python3.11/dist-packages (from clearml) (25.1.0)\n",
            "Requirement already satisfied: furl>=2.0.0 in /usr/local/lib/python3.11/dist-packages (from clearml) (2.1.4)\n",
            "Requirement already satisfied: jsonschema>=2.6.0 in /usr/local/lib/python3.11/dist-packages (from clearml) (4.23.0)\n",
            "Requirement already satisfied: numpy>=1.10 in /usr/local/lib/python3.11/dist-packages (from clearml) (1.25.0)\n",
            "Requirement already satisfied: pathlib2>=2.3.0 in /usr/local/lib/python3.11/dist-packages (from clearml) (2.3.7.post1)\n",
            "Requirement already satisfied: Pillow>=4.1.1 in /usr/local/lib/python3.11/dist-packages (from clearml) (11.1.0)\n",
            "Requirement already satisfied: psutil>=3.4.2 in /usr/local/lib/python3.11/dist-packages (from clearml) (5.9.5)\n",
            "Requirement already satisfied: pyparsing>=2.0.3 in /usr/local/lib/python3.11/dist-packages (from clearml) (3.2.1)\n",
            "Requirement already satisfied: python-dateutil>=2.6.1 in /usr/local/lib/python3.11/dist-packages (from clearml) (2.8.2)\n",
            "Requirement already satisfied: PyYAML>=3.12 in /usr/local/lib/python3.11/dist-packages (from clearml) (6.0.2)\n",
            "Requirement already satisfied: requests>=2.20.0 in /usr/local/lib/python3.11/dist-packages (from clearml) (2.32.3)\n",
            "Requirement already satisfied: six>=1.16.0 in /usr/local/lib/python3.11/dist-packages (from clearml) (1.17.0)\n",
            "Requirement already satisfied: urllib3>=1.21.1 in /usr/local/lib/python3.11/dist-packages (from clearml) (2.3.0)\n",
            "Requirement already satisfied: pyjwt<2.10.0,>=2.4.0 in /usr/local/lib/python3.11/dist-packages (from clearml) (2.9.0)\n",
            "Requirement already satisfied: referencing<0.40 in /usr/local/lib/python3.11/dist-packages (from clearml) (0.36.2)\n",
            "Requirement already satisfied: orderedmultidict>=1.0.1 in /usr/local/lib/python3.11/dist-packages (from furl>=2.0.0->clearml) (1.0.1)\n",
            "Requirement already satisfied: jsonschema-specifications>=2023.03.6 in /usr/local/lib/python3.11/dist-packages (from jsonschema>=2.6.0->clearml) (2024.10.1)\n",
            "Requirement already satisfied: rpds-py>=0.7.1 in /usr/local/lib/python3.11/dist-packages (from jsonschema>=2.6.0->clearml) (0.23.1)\n",
            "Requirement already satisfied: typing-extensions>=4.4.0 in /usr/local/lib/python3.11/dist-packages (from referencing<0.40->clearml) (4.12.2)\n",
            "Requirement already satisfied: charset-normalizer<4,>=2 in /usr/local/lib/python3.11/dist-packages (from requests>=2.20.0->clearml) (3.4.1)\n",
            "Requirement already satisfied: idna<4,>=2.5 in /usr/local/lib/python3.11/dist-packages (from requests>=2.20.0->clearml) (3.10)\n",
            "Requirement already satisfied: certifi>=2017.4.17 in /usr/local/lib/python3.11/dist-packages (from requests>=2.20.0->clearml) (2025.1.31)\n"
          ]
        }
      ],
      "source": [
        "!pip install clearml"
      ]
    },
    {
      "cell_type": "code",
      "execution_count": 6,
      "id": "fOKk9LibsBPN",
      "metadata": {
        "colab": {
          "base_uri": "https://localhost:8080/"
        },
        "id": "fOKk9LibsBPN",
        "outputId": "6f6066c6-6211-4304-ce0c-c6b3ba7d5752"
      },
      "outputs": [
        {
          "output_type": "stream",
          "name": "stdout",
          "text": [
            "ClearML SDK setup process\n",
            "Configuration file already exists: /root/clearml.conf\n",
            "Leaving setup, feel free to edit the configuration file.\n"
          ]
        }
      ],
      "source": [
        "!clearml-init"
      ]
    },
    {
      "cell_type": "code",
      "execution_count": 7,
      "id": "A1e_ZdV-njR_",
      "metadata": {
        "colab": {
          "base_uri": "https://localhost:8080/"
        },
        "id": "A1e_ZdV-njR_",
        "outputId": "897a223a-126e-47d0-902e-cd1fa9b57db9"
      },
      "outputs": [
        {
          "output_type": "stream",
          "name": "stdout",
          "text": [
            "Requirement already satisfied: clearml==1.18.0 in /usr/local/lib/python3.11/dist-packages (from -r requirements.txt (line 1)) (1.18.0)\n",
            "Requirement already satisfied: matplotlib==3.7.1 in /usr/local/lib/python3.11/dist-packages (from -r requirements.txt (line 2)) (3.7.1)\n",
            "Requirement already satisfied: numpy==1.25.0 in /usr/local/lib/python3.11/dist-packages (from -r requirements.txt (line 3)) (1.25.0)\n",
            "Requirement already satisfied: pandas==1.5.3 in /usr/local/lib/python3.11/dist-packages (from -r requirements.txt (line 4)) (1.5.3)\n",
            "Requirement already satisfied: scikit_learn==1.4.2 in /usr/local/lib/python3.11/dist-packages (from -r requirements.txt (line 5)) (1.4.2)\n",
            "Requirement already satisfied: torch==2.3.1 in /usr/local/lib/python3.11/dist-packages (from -r requirements.txt (line 6)) (2.3.1)\n",
            "Requirement already satisfied: optuna==4.3.0 in /usr/local/lib/python3.11/dist-packages (from -r requirements.txt (line 7)) (4.3.0)\n",
            "Requirement already satisfied: attrs>=18.0 in /usr/local/lib/python3.11/dist-packages (from clearml==1.18.0->-r requirements.txt (line 1)) (25.1.0)\n",
            "Requirement already satisfied: furl>=2.0.0 in /usr/local/lib/python3.11/dist-packages (from clearml==1.18.0->-r requirements.txt (line 1)) (2.1.4)\n",
            "Requirement already satisfied: jsonschema>=2.6.0 in /usr/local/lib/python3.11/dist-packages (from clearml==1.18.0->-r requirements.txt (line 1)) (4.23.0)\n",
            "Requirement already satisfied: pathlib2>=2.3.0 in /usr/local/lib/python3.11/dist-packages (from clearml==1.18.0->-r requirements.txt (line 1)) (2.3.7.post1)\n",
            "Requirement already satisfied: Pillow>=4.1.1 in /usr/local/lib/python3.11/dist-packages (from clearml==1.18.0->-r requirements.txt (line 1)) (11.1.0)\n",
            "Requirement already satisfied: psutil>=3.4.2 in /usr/local/lib/python3.11/dist-packages (from clearml==1.18.0->-r requirements.txt (line 1)) (5.9.5)\n",
            "Requirement already satisfied: pyparsing>=2.0.3 in /usr/local/lib/python3.11/dist-packages (from clearml==1.18.0->-r requirements.txt (line 1)) (3.2.1)\n",
            "Requirement already satisfied: python-dateutil>=2.6.1 in /usr/local/lib/python3.11/dist-packages (from clearml==1.18.0->-r requirements.txt (line 1)) (2.8.2)\n",
            "Requirement already satisfied: PyYAML>=3.12 in /usr/local/lib/python3.11/dist-packages (from clearml==1.18.0->-r requirements.txt (line 1)) (6.0.2)\n",
            "Requirement already satisfied: requests>=2.20.0 in /usr/local/lib/python3.11/dist-packages (from clearml==1.18.0->-r requirements.txt (line 1)) (2.32.3)\n",
            "Requirement already satisfied: six>=1.16.0 in /usr/local/lib/python3.11/dist-packages (from clearml==1.18.0->-r requirements.txt (line 1)) (1.17.0)\n",
            "Requirement already satisfied: urllib3>=1.21.1 in /usr/local/lib/python3.11/dist-packages (from clearml==1.18.0->-r requirements.txt (line 1)) (2.3.0)\n",
            "Requirement already satisfied: pyjwt<2.10.0,>=2.4.0 in /usr/local/lib/python3.11/dist-packages (from clearml==1.18.0->-r requirements.txt (line 1)) (2.9.0)\n",
            "Requirement already satisfied: referencing<0.40 in /usr/local/lib/python3.11/dist-packages (from clearml==1.18.0->-r requirements.txt (line 1)) (0.36.2)\n",
            "Requirement already satisfied: contourpy>=1.0.1 in /usr/local/lib/python3.11/dist-packages (from matplotlib==3.7.1->-r requirements.txt (line 2)) (1.3.1)\n",
            "Requirement already satisfied: cycler>=0.10 in /usr/local/lib/python3.11/dist-packages (from matplotlib==3.7.1->-r requirements.txt (line 2)) (0.12.1)\n",
            "Requirement already satisfied: fonttools>=4.22.0 in /usr/local/lib/python3.11/dist-packages (from matplotlib==3.7.1->-r requirements.txt (line 2)) (4.56.0)\n",
            "Requirement already satisfied: kiwisolver>=1.0.1 in /usr/local/lib/python3.11/dist-packages (from matplotlib==3.7.1->-r requirements.txt (line 2)) (1.4.8)\n",
            "Requirement already satisfied: packaging>=20.0 in /usr/local/lib/python3.11/dist-packages (from matplotlib==3.7.1->-r requirements.txt (line 2)) (24.2)\n",
            "Requirement already satisfied: pytz>=2020.1 in /usr/local/lib/python3.11/dist-packages (from pandas==1.5.3->-r requirements.txt (line 4)) (2025.1)\n",
            "Requirement already satisfied: scipy>=1.6.0 in /usr/local/lib/python3.11/dist-packages (from scikit_learn==1.4.2->-r requirements.txt (line 5)) (1.13.1)\n",
            "Requirement already satisfied: joblib>=1.2.0 in /usr/local/lib/python3.11/dist-packages (from scikit_learn==1.4.2->-r requirements.txt (line 5)) (1.4.2)\n",
            "Requirement already satisfied: threadpoolctl>=2.0.0 in /usr/local/lib/python3.11/dist-packages (from scikit_learn==1.4.2->-r requirements.txt (line 5)) (3.5.0)\n",
            "Requirement already satisfied: filelock in /usr/local/lib/python3.11/dist-packages (from torch==2.3.1->-r requirements.txt (line 6)) (3.17.0)\n",
            "Requirement already satisfied: typing-extensions>=4.8.0 in /usr/local/lib/python3.11/dist-packages (from torch==2.3.1->-r requirements.txt (line 6)) (4.12.2)\n",
            "Requirement already satisfied: sympy in /usr/local/lib/python3.11/dist-packages (from torch==2.3.1->-r requirements.txt (line 6)) (1.13.1)\n",
            "Requirement already satisfied: networkx in /usr/local/lib/python3.11/dist-packages (from torch==2.3.1->-r requirements.txt (line 6)) (3.4.2)\n",
            "Requirement already satisfied: jinja2 in /usr/local/lib/python3.11/dist-packages (from torch==2.3.1->-r requirements.txt (line 6)) (3.1.5)\n",
            "Requirement already satisfied: fsspec in /usr/local/lib/python3.11/dist-packages (from torch==2.3.1->-r requirements.txt (line 6)) (2024.10.0)\n",
            "Requirement already satisfied: nvidia-cuda-nvrtc-cu12==12.1.105 in /usr/local/lib/python3.11/dist-packages (from torch==2.3.1->-r requirements.txt (line 6)) (12.1.105)\n",
            "Requirement already satisfied: nvidia-cuda-runtime-cu12==12.1.105 in /usr/local/lib/python3.11/dist-packages (from torch==2.3.1->-r requirements.txt (line 6)) (12.1.105)\n",
            "Requirement already satisfied: nvidia-cuda-cupti-cu12==12.1.105 in /usr/local/lib/python3.11/dist-packages (from torch==2.3.1->-r requirements.txt (line 6)) (12.1.105)\n",
            "Requirement already satisfied: nvidia-cudnn-cu12==8.9.2.26 in /usr/local/lib/python3.11/dist-packages (from torch==2.3.1->-r requirements.txt (line 6)) (8.9.2.26)\n",
            "Requirement already satisfied: nvidia-cublas-cu12==12.1.3.1 in /usr/local/lib/python3.11/dist-packages (from torch==2.3.1->-r requirements.txt (line 6)) (12.1.3.1)\n",
            "Requirement already satisfied: nvidia-cufft-cu12==11.0.2.54 in /usr/local/lib/python3.11/dist-packages (from torch==2.3.1->-r requirements.txt (line 6)) (11.0.2.54)\n",
            "Requirement already satisfied: nvidia-curand-cu12==10.3.2.106 in /usr/local/lib/python3.11/dist-packages (from torch==2.3.1->-r requirements.txt (line 6)) (10.3.2.106)\n",
            "Requirement already satisfied: nvidia-cusolver-cu12==11.4.5.107 in /usr/local/lib/python3.11/dist-packages (from torch==2.3.1->-r requirements.txt (line 6)) (11.4.5.107)\n",
            "Requirement already satisfied: nvidia-cusparse-cu12==12.1.0.106 in /usr/local/lib/python3.11/dist-packages (from torch==2.3.1->-r requirements.txt (line 6)) (12.1.0.106)\n",
            "Requirement already satisfied: nvidia-nccl-cu12==2.20.5 in /usr/local/lib/python3.11/dist-packages (from torch==2.3.1->-r requirements.txt (line 6)) (2.20.5)\n",
            "Requirement already satisfied: nvidia-nvtx-cu12==12.1.105 in /usr/local/lib/python3.11/dist-packages (from torch==2.3.1->-r requirements.txt (line 6)) (12.1.105)\n",
            "Requirement already satisfied: triton==2.3.1 in /usr/local/lib/python3.11/dist-packages (from torch==2.3.1->-r requirements.txt (line 6)) (2.3.1)\n",
            "Requirement already satisfied: alembic>=1.5.0 in /usr/local/lib/python3.11/dist-packages (from optuna==4.3.0->-r requirements.txt (line 7)) (1.16.1)\n",
            "Requirement already satisfied: colorlog in /usr/local/lib/python3.11/dist-packages (from optuna==4.3.0->-r requirements.txt (line 7)) (6.9.0)\n",
            "Requirement already satisfied: sqlalchemy>=1.4.2 in /usr/local/lib/python3.11/dist-packages (from optuna==4.3.0->-r requirements.txt (line 7)) (2.0.38)\n",
            "Requirement already satisfied: tqdm in /usr/local/lib/python3.11/dist-packages (from optuna==4.3.0->-r requirements.txt (line 7)) (4.67.1)\n",
            "Requirement already satisfied: nvidia-nvjitlink-cu12 in /usr/local/lib/python3.11/dist-packages (from nvidia-cusolver-cu12==11.4.5.107->torch==2.3.1->-r requirements.txt (line 6)) (12.5.82)\n",
            "Requirement already satisfied: Mako in /usr/local/lib/python3.11/dist-packages (from alembic>=1.5.0->optuna==4.3.0->-r requirements.txt (line 7)) (1.3.10)\n",
            "Requirement already satisfied: orderedmultidict>=1.0.1 in /usr/local/lib/python3.11/dist-packages (from furl>=2.0.0->clearml==1.18.0->-r requirements.txt (line 1)) (1.0.1)\n",
            "Requirement already satisfied: jsonschema-specifications>=2023.03.6 in /usr/local/lib/python3.11/dist-packages (from jsonschema>=2.6.0->clearml==1.18.0->-r requirements.txt (line 1)) (2024.10.1)\n",
            "Requirement already satisfied: rpds-py>=0.7.1 in /usr/local/lib/python3.11/dist-packages (from jsonschema>=2.6.0->clearml==1.18.0->-r requirements.txt (line 1)) (0.23.1)\n",
            "Requirement already satisfied: charset-normalizer<4,>=2 in /usr/local/lib/python3.11/dist-packages (from requests>=2.20.0->clearml==1.18.0->-r requirements.txt (line 1)) (3.4.1)\n",
            "Requirement already satisfied: idna<4,>=2.5 in /usr/local/lib/python3.11/dist-packages (from requests>=2.20.0->clearml==1.18.0->-r requirements.txt (line 1)) (3.10)\n",
            "Requirement already satisfied: certifi>=2017.4.17 in /usr/local/lib/python3.11/dist-packages (from requests>=2.20.0->clearml==1.18.0->-r requirements.txt (line 1)) (2025.1.31)\n",
            "Requirement already satisfied: greenlet!=0.4.17 in /usr/local/lib/python3.11/dist-packages (from sqlalchemy>=1.4.2->optuna==4.3.0->-r requirements.txt (line 7)) (3.1.1)\n",
            "Requirement already satisfied: MarkupSafe>=2.0 in /usr/local/lib/python3.11/dist-packages (from jinja2->torch==2.3.1->-r requirements.txt (line 6)) (3.0.2)\n",
            "Requirement already satisfied: mpmath<1.4,>=1.1.0 in /usr/local/lib/python3.11/dist-packages (from sympy->torch==2.3.1->-r requirements.txt (line 6)) (1.3.0)\n"
          ]
        }
      ],
      "source": [
        "!pip install -r requirements.txt"
      ]
    },
    {
      "cell_type": "code",
      "source": [
        "!pip install protobuf==3.20.*"
      ],
      "metadata": {
        "colab": {
          "base_uri": "https://localhost:8080/"
        },
        "id": "KEJW2sTIOIqp",
        "outputId": "381cec4b-ca68-4e96-8379-fce75c7f6a1e"
      },
      "id": "KEJW2sTIOIqp",
      "execution_count": 8,
      "outputs": [
        {
          "output_type": "stream",
          "name": "stdout",
          "text": [
            "Requirement already satisfied: protobuf==3.20.* in /usr/local/lib/python3.11/dist-packages (3.20.3)\n"
          ]
        }
      ]
    },
    {
      "cell_type": "code",
      "source": [
        "!pip install -U clearml"
      ],
      "metadata": {
        "colab": {
          "base_uri": "https://localhost:8080/"
        },
        "id": "Jl6qVa_cN1M4",
        "outputId": "657d2851-19d2-488a-e8d2-f996af31aff2"
      },
      "id": "Jl6qVa_cN1M4",
      "execution_count": 9,
      "outputs": [
        {
          "output_type": "stream",
          "name": "stdout",
          "text": [
            "Requirement already satisfied: clearml in /usr/local/lib/python3.11/dist-packages (1.18.0)\n",
            "Collecting clearml\n",
            "  Using cached clearml-2.0.0-py2.py3-none-any.whl.metadata (17 kB)\n",
            "Requirement already satisfied: attrs>=18.0 in /usr/local/lib/python3.11/dist-packages (from clearml) (25.1.0)\n",
            "Requirement already satisfied: furl>=2.0.0 in /usr/local/lib/python3.11/dist-packages (from clearml) (2.1.4)\n",
            "Requirement already satisfied: jsonschema>=2.6.0 in /usr/local/lib/python3.11/dist-packages (from clearml) (4.23.0)\n",
            "Requirement already satisfied: numpy>=1.10 in /usr/local/lib/python3.11/dist-packages (from clearml) (1.25.0)\n",
            "Requirement already satisfied: pathlib2>=2.3.0 in /usr/local/lib/python3.11/dist-packages (from clearml) (2.3.7.post1)\n",
            "Requirement already satisfied: psutil>=3.4.2 in /usr/local/lib/python3.11/dist-packages (from clearml) (5.9.5)\n",
            "Requirement already satisfied: pyparsing>=2.0.3 in /usr/local/lib/python3.11/dist-packages (from clearml) (3.2.1)\n",
            "Requirement already satisfied: python-dateutil>=2.6.1 in /usr/local/lib/python3.11/dist-packages (from clearml) (2.8.2)\n",
            "Requirement already satisfied: pyjwt<2.11.0,>=2.4.0 in /usr/local/lib/python3.11/dist-packages (from clearml) (2.9.0)\n",
            "Requirement already satisfied: PyYAML>=3.12 in /usr/local/lib/python3.11/dist-packages (from clearml) (6.0.2)\n",
            "Requirement already satisfied: six>=1.16.0 in /usr/local/lib/python3.11/dist-packages (from clearml) (1.17.0)\n",
            "Requirement already satisfied: urllib3>=1.21.1 in /usr/local/lib/python3.11/dist-packages (from clearml) (2.3.0)\n",
            "Requirement already satisfied: Pillow>=10.3.0 in /usr/local/lib/python3.11/dist-packages (from clearml) (11.1.0)\n",
            "Requirement already satisfied: referencing<0.40 in /usr/local/lib/python3.11/dist-packages (from clearml) (0.36.2)\n",
            "Requirement already satisfied: requests>=2.32.0 in /usr/local/lib/python3.11/dist-packages (from clearml) (2.32.3)\n",
            "Requirement already satisfied: orderedmultidict>=1.0.1 in /usr/local/lib/python3.11/dist-packages (from furl>=2.0.0->clearml) (1.0.1)\n",
            "Requirement already satisfied: jsonschema-specifications>=2023.03.6 in /usr/local/lib/python3.11/dist-packages (from jsonschema>=2.6.0->clearml) (2024.10.1)\n",
            "Requirement already satisfied: rpds-py>=0.7.1 in /usr/local/lib/python3.11/dist-packages (from jsonschema>=2.6.0->clearml) (0.23.1)\n",
            "Requirement already satisfied: typing-extensions>=4.4.0 in /usr/local/lib/python3.11/dist-packages (from referencing<0.40->clearml) (4.12.2)\n",
            "Requirement already satisfied: charset-normalizer<4,>=2 in /usr/local/lib/python3.11/dist-packages (from requests>=2.32.0->clearml) (3.4.1)\n",
            "Requirement already satisfied: idna<4,>=2.5 in /usr/local/lib/python3.11/dist-packages (from requests>=2.32.0->clearml) (3.10)\n",
            "Requirement already satisfied: certifi>=2017.4.17 in /usr/local/lib/python3.11/dist-packages (from requests>=2.32.0->clearml) (2025.1.31)\n",
            "Using cached clearml-2.0.0-py2.py3-none-any.whl (1.2 MB)\n",
            "Installing collected packages: clearml\n",
            "  Attempting uninstall: clearml\n",
            "    Found existing installation: clearml 1.18.0\n",
            "    Uninstalling clearml-1.18.0:\n",
            "      Successfully uninstalled clearml-1.18.0\n",
            "Successfully installed clearml-2.0.0\n"
          ]
        }
      ]
    },
    {
      "cell_type": "code",
      "source": [
        "import clearml\n",
        "print(\"ClearML version:\", clearml.__version__)"
      ],
      "metadata": {
        "colab": {
          "base_uri": "https://localhost:8080/"
        },
        "id": "tFY-jaykODje",
        "outputId": "ff8e0426-a189-4a42-87c9-7374c6c46ae6"
      },
      "id": "tFY-jaykODje",
      "execution_count": 10,
      "outputs": [
        {
          "output_type": "stream",
          "name": "stdout",
          "text": [
            "ClearML version: 2.0.0\n"
          ]
        }
      ]
    },
    {
      "cell_type": "code",
      "execution_count": null,
      "id": "Yti93S8XsBTI",
      "metadata": {
        "colab": {
          "base_uri": "https://localhost:8080/"
        },
        "id": "Yti93S8XsBTI",
        "outputId": "ca11cc5b-46e2-44af-a7c6-e331c57bba21"
      },
      "outputs": [
        {
          "output_type": "stream",
          "name": "stdout",
          "text": [
            "ClearML Task: created new task id=fa69a02c2ac24a138be352981141b9c2\n",
            "2025-05-28 00:11:00.583549: E external/local_xla/xla/stream_executor/cuda/cuda_fft.cc:477] Unable to register cuFFT factory: Attempting to register factory for plugin cuFFT when one has already been registered\n",
            "WARNING: All log messages before absl::InitializeLog() is called are written to STDERR\n",
            "E0000 00:00:1748391060.597825    9575 cuda_dnn.cc:8310] Unable to register cuDNN factory: Attempting to register factory for plugin cuDNN when one has already been registered\n",
            "E0000 00:00:1748391060.601952    9575 cuda_blas.cc:1418] Unable to register cuBLAS factory: Attempting to register factory for plugin cuBLAS when one has already been registered\n",
            "2025-05-28 00:11:00.617399: I tensorflow/core/platform/cpu_feature_guard.cc:210] This TensorFlow binary is optimized to use available CPU instructions in performance-critical operations.\n",
            "To enable the following instructions: AVX2 FMA, in other operations, rebuild TensorFlow with the appropriate compiler flags.\n",
            "ClearML results page: https://app.clear.ml/projects/dff39841e6c5453e90e8365dd7a56b7e/experiments/fa69a02c2ac24a138be352981141b9c2/output/log\n",
            "🔍 Loading Dataset: Pest Image Dataset vv1.0\n",
            "2025-05-28 00:11:05,476 - clearml - INFO - Dataset.get() did not specify alias. Dataset information will not be automatically logged in ClearML Server.\n",
            "ClearML Monitor: GPU monitoring failed getting GPU reading, switching off GPU monitoring\n",
            "2025-05-28 00:11:09,329 - clearml.storage - INFO - Downloading: 6.28MB from https://files.clear.ml/Agricultural%20identification/.datasets/Pest%20Image%20Dataset/Pest%20Image%20Dataset.cfb7ab80bbf648588080c5e1e62a7f87/artifacts/state/state.json\n",
            "████████████████████████████████ 100% | 6.28/6.28 MB [00:00<00:00, 162.66MB/s]: \n",
            "2025-05-28 00:11:09,371 - clearml.storage - INFO - Downloaded 6.28 MB successfully from https://files.clear.ml/Agricultural%20identification/.datasets/Pest%20Image%20Dataset/Pest%20Image%20Dataset.cfb7ab80bbf648588080c5e1e62a7f87/artifacts/state/state.json , saved to /root/.clearml/cache/storage_manager/datasets/8a37b48149a75c8584d93c28f8777a02.state.json\n",
            "2025-05-28 00:11:15,298 - clearml.storage - INFO - Downloading: 515.77MB from https://files.clear.ml/Agricultural%20identification/.datasets/Pest%20Image%20Dataset/Pest%20Image%20Dataset.cfb7ab80bbf648588080c5e1e62a7f87/artifacts/data/dataset.cfb7ab80bbf648588080c5e1e62a7f87.mc65vdyu.zip\n",
            "█████████████████████████████ 100% | 515.77/515.77 MB [00:13<00:00, 38.62MB/s]: \n",
            "2025-05-28 00:11:28,655 - clearml.storage - INFO - Downloaded 515.77 MB successfully from https://files.clear.ml/Agricultural%20identification/.datasets/Pest%20Image%20Dataset/Pest%20Image%20Dataset.cfb7ab80bbf648588080c5e1e62a7f87/artifacts/data/dataset.cfb7ab80bbf648588080c5e1e62a7f87.mc65vdyu.zip , saved to /root/.clearml/cache/storage_manager/datasets/96d868f5cdadb005b65b416694704f5c.dataset.cfb7ab80bbf648588080c5e1e62a7f87.mc65vdyu.zip\n",
            "2025-05-28 00:11:29,770 - clearml.storage - INFO - Downloading: 515.79MB from https://files.clear.ml/Agricultural%20identification/.datasets/Pest%20Image%20Dataset/Pest%20Image%20Dataset.cfb7ab80bbf648588080c5e1e62a7f87/artifacts/data_001/dataset.cfb7ab80bbf648588080c5e1e62a7f87.5e__coly.zip\n",
            "████████████████████████████▋  99% | 510.00/515.79 MB [00:12<00:00, 39.53MB/s]: /usr/local/lib/python3.11/dist-packages/tqdm/std.py:636: TqdmWarning:\n",
            "\n",
            "clamping frac to range [0, 1]\n",
            "\n",
            "█████████████████████████████ 100% | 515.79/515.79 MB [00:12<00:00, 42.27MB/s]: \n",
            "2025-05-28 00:11:41,974 - clearml.storage - INFO - Downloaded 515.79 MB successfully from https://files.clear.ml/Agricultural%20identification/.datasets/Pest%20Image%20Dataset/Pest%20Image%20Dataset.cfb7ab80bbf648588080c5e1e62a7f87/artifacts/data_001/dataset.cfb7ab80bbf648588080c5e1e62a7f87.5e__coly.zip , saved to /root/.clearml/cache/storage_manager/datasets/000af47384f7d24fe3a9e608c520f7bf.dataset.cfb7ab80bbf648588080c5e1e62a7f87.5e__coly.zip\n",
            "2025-05-28 00:11:43,187 - clearml.storage - INFO - Downloading: 336.71MB from https://files.clear.ml/Agricultural%20identification/.datasets/Pest%20Image%20Dataset/Pest%20Image%20Dataset.cfb7ab80bbf648588080c5e1e62a7f87/artifacts/data_002/dataset.cfb7ab80bbf648588080c5e1e62a7f87.va2uuyzf.zip\n",
            "█████████████████████████████ 100% | 336.71/336.71 MB [00:07<00:00, 45.08MB/s]: \n",
            "2025-05-28 00:11:50,657 - clearml.storage - INFO - Downloaded 336.71 MB successfully from https://files.clear.ml/Agricultural%20identification/.datasets/Pest%20Image%20Dataset/Pest%20Image%20Dataset.cfb7ab80bbf648588080c5e1e62a7f87/artifacts/data_002/dataset.cfb7ab80bbf648588080c5e1e62a7f87.va2uuyzf.zip , saved to /root/.clearml/cache/storage_manager/datasets/2978943c9e172ab278b706b47981ba1d.dataset.cfb7ab80bbf648588080c5e1e62a7f87.va2uuyzf.zip\n",
            "✅ Dataset retrieved, local path: /root/.clearml/cache/storage_manager/datasets/ds_cfb7ab80bbf648588080c5e1e62a7f87\n",
            "📁 'train' directory detected: /root/.clearml/cache/storage_manager/datasets/ds_cfb7ab80bbf648588080c5e1e62a7f87/train\n",
            "✅ Successfully uploaded artifact: image_dataset_dir ✅\n",
            "2025-05-28 00:12:45,828 - clearml.storage - INFO - Uploading: 1365.33MB from /tmp/ds_cfb7ab80bbf648588080c5e1e62a7f87.leab3gcv.zip\n",
            "███████████████████████████ 100% | 1365.33/1365.33 MB [01:12<00:00, 18.90MB/s]: \n"
          ]
        }
      ],
      "source": [
        "!python step1_dataset_artifact.py"
      ]
    },
    {
      "cell_type": "code",
      "execution_count": null,
      "id": "dn2PH1bQuCW6",
      "metadata": {
        "colab": {
          "base_uri": "https://localhost:8080/"
        },
        "id": "dn2PH1bQuCW6",
        "outputId": "afa8e910-8170-4181-e46c-d44f3780c024"
      },
      "outputs": [
        {
          "output_type": "stream",
          "name": "stdout",
          "text": [
            "2025-05-28 00:15:24.077984: E external/local_xla/xla/stream_executor/cuda/cuda_fft.cc:477] Unable to register cuFFT factory: Attempting to register factory for plugin cuFFT when one has already been registered\n",
            "WARNING: All log messages before absl::InitializeLog() is called are written to STDERR\n",
            "E0000 00:00:1748391324.093402   10773 cuda_dnn.cc:8310] Unable to register cuDNN factory: Attempting to register factory for plugin cuDNN when one has already been registered\n",
            "E0000 00:00:1748391324.097782   10773 cuda_blas.cc:1418] Unable to register cuBLAS factory: Attempting to register factory for plugin cuBLAS when one has already been registered\n",
            "2025-05-28 00:15:24.113912: I tensorflow/core/platform/cpu_feature_guard.cc:210] This TensorFlow binary is optimized to use available CPU instructions in performance-critical operations.\n",
            "To enable the following instructions: AVX2 FMA, in other operations, rebuild TensorFlow with the appropriate compiler flags.\n",
            "ClearML Task: overwriting (reusing) task id=70ab72ce49124e298163ea45d640a9c3\n",
            "ClearML results page: https://app.clear.ml/projects/dff39841e6c5453e90e8365dd7a56b7e/experiments/70ab72ce49124e298163ea45d640a9c3/output/log\n",
            "ClearML Monitor: GPU monitoring failed getting GPU reading, switching off GPU monitoring\n",
            "2025-05-28 00:15:37,969 - clearml.storage - INFO - Downloading: 1365.33MB from https://files.clear.ml/Agri-Pest-Detection/Step%201%20-%20Load%20Uncompressed%20Pest%20Image%20Dataset.fa69a02c2ac24a138be352981141b9c2/artifacts/image_dataset_dir/ds_cfb7ab80bbf648588080c5e1e62a7f87.zip\n",
            "███████████████████████████ 100% | 1365.33/1365.33 MB [00:30<00:00, 45.42MB/s]: \n",
            "2025-05-28 00:16:08,034 - clearml.storage - INFO - Downloaded 1365.33 MB successfully from https://files.clear.ml/Agri-Pest-Detection/Step%201%20-%20Load%20Uncompressed%20Pest%20Image%20Dataset.fa69a02c2ac24a138be352981141b9c2/artifacts/image_dataset_dir/ds_cfb7ab80bbf648588080c5e1e62a7f87.zip , saved to /root/.clearml/cache/storage_manager/global/76d08f200860c121dcca059b9cc93116.ds_cfb7ab80bbf648588080c5e1e62a7f87.zip\n",
            "✅ Preprocessing complete. 5 .npy files uploaded as artifacts, ready for Step 3.\n",
            "2025-05-28 00:16:45,526 - clearml.storage - INFO - Uploading: 91.88MB from /content/HPO/X_test.npy\n",
            "                                           0% | 0.00/91.88 MB [00:00<?, ?MB/s]: 2025-05-28 00:16:45,542 - clearml.storage - INFO - Uploading: 366.94MB from /content/HPO/X_train.npy\n",
            "\n",
            "███▎                             11% | 10.00/91.88 MB [00:00<00:01, 56.54MB/s]: \n",
            "██████▋                          22% | 20.00/91.88 MB [00:00<00:01, 36.23MB/s]: \n",
            "████████▍                        27% | 25.00/91.88 MB [00:00<00:01, 33.76MB/s]: \n",
            "██████████                       33% | 30.00/91.88 MB [00:00<00:01, 32.15MB/s]: \n",
            "███████████▊                     38% | 35.00/91.88 MB [00:01<00:01, 31.16MB/s]: \n",
            "█████████████▍                   44% | 40.00/91.88 MB [00:01<00:01, 30.43MB/s]: \n",
            "███████████████▏                 49% | 45.00/91.88 MB [00:01<00:01, 29.98MB/s]: \n",
            "████████████████▊                54% | 50.00/91.88 MB [00:01<00:01, 29.70MB/s]: \n",
            "██████████████████▌              60% | 55.00/91.88 MB [00:01<00:01, 29.50MB/s]: \n",
            "████████████████████▏            65% | 60.00/91.88 MB [00:01<00:01, 29.34MB/s]: \n",
            "█████████████████████▉           71% | 65.00/91.88 MB [00:02<00:00, 29.24MB/s]: \n",
            "███████████████████████▌         76% | 70.00/91.88 MB [00:02<00:00, 29.18MB/s]: \n",
            "█████████████████████████▎       82% | 75.00/91.88 MB [00:02<00:00, 29.11MB/s]: \n",
            "██████████████████████████▉      87% | 80.00/91.88 MB [00:02<00:00, 29.08MB/s]: \n",
            "████████████████████████████▋    93% | 85.00/91.88 MB [00:02<00:00, 29.04MB/s]: \n",
            "██████████████████████████████▎  98% | 90.00/91.88 MB [00:02<00:00, 29.04MB/s]: \n",
            "███████▎                        25% | 90.00/366.94 MB [00:02<00:09, 28.83MB/s]: \u001b[A\n",
            "███████▊                        26% | 95.00/366.94 MB [00:03<00:09, 28.83MB/s]: \u001b[A\n",
            "███████████████████████████████ 100% | 91.88/91.88 MB [00:03<00:00, 26.52MB/s]: \n",
            "\n",
            "████████▎                      29% | 105.00/366.94 MB [00:03<00:10, 24.78MB/s]: \u001b[A\n",
            "████████▋                      30% | 110.00/366.94 MB [00:03<00:09, 25.86MB/s]: \u001b[A\n",
            "█████████                      31% | 115.00/366.94 MB [00:03<00:09, 26.71MB/s]: \u001b[A\n",
            "█████████▍                     33% | 120.00/366.94 MB [00:04<00:09, 27.34MB/s]: \u001b[A\n",
            "█████████▉                     34% | 125.00/366.94 MB [00:04<00:08, 27.79MB/s]: \u001b[A\n",
            "██████████▎                    35% | 130.00/366.94 MB [00:04<00:08, 28.11MB/s]: \u001b[A\n",
            "██████████▋                    37% | 135.00/366.94 MB [00:04<00:08, 28.35MB/s]: \u001b[A\n",
            "███████████                    38% | 140.00/366.94 MB [00:04<00:07, 28.54MB/s]: \u001b[A\n",
            "███████████▍                   40% | 145.00/366.94 MB [00:04<00:07, 28.65MB/s]: \u001b[A\n",
            "███████████▊                   41% | 150.00/366.94 MB [00:05<00:07, 28.72MB/s]: \u001b[A\n",
            "████████████▏                  42% | 155.00/366.94 MB [00:05<00:07, 28.80MB/s]: \u001b[A\n",
            "████████████▋                  44% | 160.00/366.94 MB [00:05<00:07, 28.85MB/s]: \u001b[A\n",
            "█████████████                  45% | 165.00/366.94 MB [00:05<00:06, 28.89MB/s]: \u001b[A\n",
            "█████████████▍                 46% | 170.00/366.94 MB [00:05<00:06, 28.91MB/s]: \u001b[A\n",
            "█████████████▊                 48% | 175.00/366.94 MB [00:05<00:06, 28.91MB/s]: \u001b[A\n",
            "██████████████▏                49% | 180.00/366.94 MB [00:06<00:06, 28.90MB/s]: \u001b[A\n",
            "██████████████▌                50% | 185.00/366.94 MB [00:06<00:06, 28.91MB/s]: \u001b[A\n",
            "███████████████                52% | 190.00/366.94 MB [00:06<00:06, 28.89MB/s]: \u001b[A\n",
            "███████████████▍               53% | 195.00/366.94 MB [00:06<00:05, 28.91MB/s]: \u001b[A\n",
            "███████████████▊               55% | 200.00/366.94 MB [00:06<00:06, 26.13MB/s]: \u001b[A\n",
            "████████████████▏              56% | 205.00/366.94 MB [00:07<00:06, 26.92MB/s]: \u001b[A\n",
            "████████████████▌              57% | 210.00/366.94 MB [00:07<00:05, 27.49MB/s]: \u001b[A\n",
            "████████████████▉              59% | 215.00/366.94 MB [00:07<00:05, 27.89MB/s]: \u001b[A\n",
            "█████████████████▍             60% | 220.00/366.94 MB [00:07<00:05, 28.19MB/s]: \u001b[A\n",
            "█████████████████▊             61% | 225.00/366.94 MB [00:07<00:04, 28.41MB/s]: \u001b[A\n",
            "██████████████████▏            63% | 230.00/366.94 MB [00:07<00:04, 28.58MB/s]: \u001b[A\n",
            "██████████████████▌            64% | 235.00/366.94 MB [00:08<00:04, 28.70MB/s]: \u001b[A\n",
            "██████████████████▉            65% | 240.00/366.94 MB [00:08<00:04, 28.77MB/s]: \u001b[A\n",
            "███████████████████▎           67% | 245.00/366.94 MB [00:08<00:04, 28.84MB/s]: \u001b[A\n",
            "███████████████████▊           68% | 250.00/366.94 MB [00:08<00:04, 28.86MB/s]: \u001b[A\n",
            "████████████████████▏          69% | 255.00/366.94 MB [00:08<00:04, 26.20MB/s]: \u001b[A\n",
            "████████████████████▌          71% | 260.00/366.94 MB [00:09<00:04, 26.64MB/s]: \u001b[A\n",
            "████████████████████▉          72% | 265.00/366.94 MB [00:09<00:03, 27.29MB/s]: \u001b[A\n",
            "█████████████████████▎         74% | 270.00/366.94 MB [00:09<00:03, 27.76MB/s]: \u001b[A\n",
            "█████████████████████▋         75% | 275.00/366.94 MB [00:09<00:03, 28.11MB/s]: \u001b[A\n",
            "██████████████████████▏        76% | 280.00/366.94 MB [00:09<00:03, 28.36MB/s]: \u001b[A\n",
            "██████████████████████▌        78% | 285.00/366.94 MB [00:09<00:02, 28.48MB/s]: \u001b[A\n",
            "██████████████████████▉        79% | 290.00/366.94 MB [00:10<00:02, 28.63MB/s]: \u001b[A\n",
            "███████████████████████▎       80% | 295.00/366.94 MB [00:10<00:02, 28.70MB/s]: \u001b[A\n",
            "███████████████████████▋       82% | 300.00/366.94 MB [00:10<00:02, 28.77MB/s]: \u001b[A\n",
            "████████████████████████       83% | 305.00/366.94 MB [00:10<00:02, 28.83MB/s]: \u001b[A\n",
            "████████████████████████▍      84% | 310.00/366.94 MB [00:10<00:01, 28.87MB/s]: \u001b[A\n",
            "████████████████████████▉      86% | 315.00/366.94 MB [00:10<00:01, 28.87MB/s]: \u001b[A\n",
            "█████████████████████████▎     87% | 320.00/366.94 MB [00:11<00:01, 28.90MB/s]: \u001b[A\n",
            "█████████████████████████▋     89% | 325.00/366.94 MB [00:11<00:01, 28.91MB/s]: \u001b[A\n",
            "██████████████████████████     90% | 330.00/366.94 MB [00:11<00:01, 28.92MB/s]: \u001b[A\n",
            "██████████████████████████▍    91% | 335.00/366.94 MB [00:11<00:01, 28.92MB/s]: \u001b[A\n",
            "██████████████████████████▊    93% | 340.00/366.94 MB [00:11<00:00, 28.93MB/s]: \u001b[A\n",
            "███████████████████████████▎   94% | 345.00/366.94 MB [00:12<00:00, 28.92MB/s]: \u001b[A\n",
            "███████████████████████████▋   95% | 350.00/366.94 MB [00:12<00:00, 28.51MB/s]: \u001b[A\n",
            "████████████████████████████   97% | 355.00/366.94 MB [00:12<00:00, 28.61MB/s]: \u001b[A\n",
            "████████████████████████████▍  98% | 360.00/366.94 MB [00:12<00:00, 28.68MB/s]: \u001b[A\n",
            "█████████████████████████████ 100% | 366.94/366.94 MB [00:15<00:00, 24.00MB/s]: \n"
          ]
        }
      ],
      "source": [
        "#!python s2_data_preprocessing.py\n",
        "!python step2_data_preprocessing.py"
      ]
    },
    {
      "cell_type": "code",
      "execution_count": null,
      "id": "vAY3ayM8uCg3",
      "metadata": {
        "colab": {
          "base_uri": "https://localhost:8080/"
        },
        "id": "vAY3ayM8uCg3",
        "outputId": "ada7bcd0-2084-4149-c45b-d0e655849e87"
      },
      "outputs": [
        {
          "output_type": "stream",
          "name": "stdout",
          "text": [
            "ClearML Task: created new task id=488acb58022e403fa520f8537d249fc7\n",
            "2025-05-28 00:18:10.299927: E external/local_xla/xla/stream_executor/cuda/cuda_fft.cc:477] Unable to register cuFFT factory: Attempting to register factory for plugin cuFFT when one has already been registered\n",
            "WARNING: All log messages before absl::InitializeLog() is called are written to STDERR\n",
            "E0000 00:00:1748391490.315464   11487 cuda_dnn.cc:8310] Unable to register cuDNN factory: Attempting to register factory for plugin cuDNN when one has already been registered\n",
            "E0000 00:00:1748391490.319864   11487 cuda_blas.cc:1418] Unable to register cuBLAS factory: Attempting to register factory for plugin cuBLAS when one has already been registered\n",
            "2025-05-28 00:18:10.335806: I tensorflow/core/platform/cpu_feature_guard.cc:210] This TensorFlow binary is optimized to use available CPU instructions in performance-critical operations.\n",
            "To enable the following instructions: AVX2 FMA, in other operations, rebuild TensorFlow with the appropriate compiler flags.\n",
            "ClearML results page: https://app.clear.ml/projects/dff39841e6c5453e90e8365dd7a56b7e/experiments/488acb58022e403fa520f8537d249fc7/output/log\n",
            "ClearML Monitor: GPU monitoring failed getting GPU reading, switching off GPU monitoring\n",
            "INFO:__main__:Using Step 2 task ID: 70ab72ce49124e298163ea45d640a9c3\n",
            "INFO:__main__:Training configuration:\n",
            "INFO:__main__:  step2_task_id: 70ab72ce49124e298163ea45d640a9c3\n",
            "INFO:__main__:  processed_dataset_id: 70ab72ce49124e298163ea45d640a9c3\n",
            "INFO:__main__:  batch_size: 32\n",
            "INFO:__main__:  num_epochs: 10\n",
            "INFO:__main__:  learning_rate: 0.001\n",
            "INFO:__main__:  weight_decay: 1e-05\n",
            "INFO:__main__:  dropout_rate: 0.5\n",
            "INFO:__main__:  test_queue: pipeline\n",
            "INFO:__main__:  device: cpu\n",
            "2025-05-28 00:18:18,361 - clearml.storage - INFO - Downloading: 366.94MB from https://files.clear.ml/Agri-Pest-Detection/Step%202%20-%20Preprocessing%20%28artifact%20version%29.70ab72ce49124e298163ea45d640a9c3/artifacts/X_train.npy/X_train.npy\n",
            "████████████████████████████▊  99% | 365.00/366.94 MB [00:07<00:00, 43.98MB/s]: /usr/local/lib/python3.11/dist-packages/tqdm/std.py:636: TqdmWarning:\n",
            "\n",
            "clamping frac to range [0, 1]\n",
            "\n",
            "█████████████████████████████ 100% | 366.94/366.94 MB [00:07<00:00, 46.59MB/s]: \n",
            "2025-05-28 00:18:26,239 - clearml.storage - INFO - Downloaded 366.94 MB successfully from https://files.clear.ml/Agri-Pest-Detection/Step%202%20-%20Preprocessing%20%28artifact%20version%29.70ab72ce49124e298163ea45d640a9c3/artifacts/X_train.npy/X_train.npy , saved to /root/.clearml/cache/storage_manager/global/d4c16f6ae7b7c017151f3f64de5f2bdc.X_train.npy\n",
            "2025-05-28 00:18:27,473 - clearml.storage - INFO - Downloading: 91.88MB from https://files.clear.ml/Agri-Pest-Detection/Step%202%20-%20Preprocessing%20%28artifact%20version%29.70ab72ce49124e298163ea45d640a9c3/artifacts/X_test.npy/X_test.npy\n",
            "███████████████████████████████ 100% | 91.88/91.88 MB [00:02<00:00, 43.00MB/s]: \n",
            "2025-05-28 00:18:29,612 - clearml.storage - INFO - Downloaded 91.88 MB successfully from https://files.clear.ml/Agri-Pest-Detection/Step%202%20-%20Preprocessing%20%28artifact%20version%29.70ab72ce49124e298163ea45d640a9c3/artifacts/X_test.npy/X_test.npy , saved to /root/.clearml/cache/storage_manager/global/386a3926149b66d312bfe5912a76ef19.X_test.npy\n",
            "INFO:__main__:Loaded data - Train: (1957, 256, 256, 3), Test: (490, 256, 256, 3)\n",
            "INFO:__main__:Number of classes: 38\n",
            "INFO:__main__:Starting training for 10 epochs...\n",
            "ClearML Monitor: Could not detect iteration reporting, falling back to iterations as seconds-from-start\n",
            "2025-05-28 00:22:29,615 - clearml.frameworks - INFO - Found existing registered model id=7b9c7402d12340a9a0fa73b565b72d18 [/content/HPO/best_model_checkpoint.pth] reusing it.\n",
            "INFO:__main__:Epoch 1/10 - Train Loss: 0.6206, Train Acc: 0.8487, Val Loss: 0.4076, Val Acc: 0.8449\n",
            "INFO:__main__:Epoch 2/10 - Train Loss: 0.2730, Train Acc: 0.8835, Val Loss: 0.1832, Val Acc: 0.9327\n",
            "INFO:__main__:Epoch 3/10 - Train Loss: 0.2342, Train Acc: 0.8973, Val Loss: 0.3048, Val Acc: 0.8939\n",
            "INFO:__main__:Epoch 4/10 - Train Loss: 0.2277, Train Acc: 0.8958, Val Loss: 0.1964, Val Acc: 0.9204\n",
            "INFO:__main__:Epoch 5/10 - Train Loss: 0.2116, Train Acc: 0.9019, Val Loss: 0.1964, Val Acc: 0.8918\n",
            "INFO:__main__:Epoch 6/10 - Train Loss: 0.1934, Train Acc: 0.9096, Val Loss: 0.1766, Val Acc: 0.9224\n",
            "INFO:__main__:Epoch 7/10 - Train Loss: 0.1803, Train Acc: 0.9136, Val Loss: 0.1712, Val Acc: 0.9286\n",
            "INFO:__main__:Epoch 8/10 - Train Loss: 0.1731, Train Acc: 0.9223, Val Loss: 0.1539, Val Acc: 0.9490\n",
            "INFO:__main__:Epoch 9/10 - Train Loss: 0.1790, Train Acc: 0.9320, Val Loss: 0.1827, Val Acc: 0.9408\n",
            "INFO:__main__:Epoch 10/10 - Train Loss: 0.1558, Train Acc: 0.9453, Val Loss: 0.1363, Val Acc: 0.9510\n",
            "/usr/local/lib/python3.11/dist-packages/sklearn/metrics/_classification.py:1509: UndefinedMetricWarning:\n",
            "\n",
            "Precision is ill-defined and being set to 0.0 in labels with no predicted samples. Use `zero_division` parameter to control this behavior.\n",
            "\n",
            "INFO:__main__:\n",
            "Final Test Results:\n",
            "INFO:__main__:Test Loss: 0.1363\n",
            "INFO:__main__:Test Accuracy: 0.9510\n",
            "INFO:__main__:Precision: 0.7741\n",
            "INFO:__main__:Recall: 0.6258\n",
            "INFO:__main__:Best Validation Accuracy: 0.9510 at epoch 10\n",
            "2025-05-28 01:05:40,012 - clearml.frameworks - INFO - Found existing registered model id=c881472d91bd4ebca434b20e6dec6d44 [/content/HPO/pest_cnn_model.pth] reusing it.\n",
            "INFO:__main__:✅ Model training completed successfully!\n"
          ]
        }
      ],
      "source": [
        "!python step3_train_model.py"
      ]
    },
    {
      "cell_type": "code",
      "execution_count": null,
      "id": "45upDPrsnELe",
      "metadata": {
        "colab": {
          "base_uri": "https://localhost:8080/"
        },
        "id": "45upDPrsnELe",
        "outputId": "6dbc26bc-6539-487d-ad0f-10a92dd018ff"
      },
      "outputs": [
        {
          "output_type": "stream",
          "name": "stdout",
          "text": [
            "ClearML Task: created new task id=9ba347c73e4b43478ce73a9178b2b2d0\n",
            "2025-05-28 01:29:33.332225: E external/local_xla/xla/stream_executor/cuda/cuda_fft.cc:477] Unable to register cuFFT factory: Attempting to register factory for plugin cuFFT when one has already been registered\n",
            "WARNING: All log messages before absl::InitializeLog() is called are written to STDERR\n",
            "E0000 00:00:1748395773.349911   28758 cuda_dnn.cc:8310] Unable to register cuDNN factory: Attempting to register factory for plugin cuDNN when one has already been registered\n",
            "E0000 00:00:1748395773.355125   28758 cuda_blas.cc:1418] Unable to register cuBLAS factory: Attempting to register factory for plugin cuBLAS when one has already been registered\n",
            "2025-05-28 01:29:33.372604: I tensorflow/core/platform/cpu_feature_guard.cc:210] This TensorFlow binary is optimized to use available CPU instructions in performance-critical operations.\n",
            "To enable the following instructions: AVX2 FMA, in other operations, rebuild TensorFlow with the appropriate compiler flags.\n",
            "ClearML results page: https://app.clear.ml/projects/dff39841e6c5453e90e8365dd7a56b7e/experiments/9ba347c73e4b43478ce73a9178b2b2d0/output/log\n",
            "ClearML Monitor: GPU monitoring failed getting GPU reading, switching off GPU monitoring\n",
            "INFO:__main__:🚀 Starting HPO...\n",
            "\u001b[32m[I 2025-05-28 01:29:40,854]\u001b[0m A new study created in memory with name: 9ba347c73e4b43478ce73a9178b2b2d0\u001b[0m\n",
            "Progress report #0 completed, sleeping for 0.25 minutes\n",
            "2025-05-28 01:29:43,946 - clearml.automation.optimization - INFO - Creating new Task: {'General/learning_rate': 0.005, 'General/batch_size': 64, 'General/weight_decay': 0.0001, 'General/num_epochs': 10, 'General/dropout_rate': 0.5}\n",
            "2025-05-28 01:29:51.525273: E external/local_xla/xla/stream_executor/cuda/cuda_fft.cc:477] Unable to register cuFFT factory: Attempting to register factory for plugin cuFFT when one has already been registered\n",
            "WARNING: All log messages before absl::InitializeLog() is called are written to STDERR\n",
            "E0000 00:00:1748395791.541259   28844 cuda_dnn.cc:8310] Unable to register cuDNN factory: Attempting to register factory for plugin cuDNN when one has already been registered\n",
            "E0000 00:00:1748395791.546775   28844 cuda_blas.cc:1418] Unable to register cuBLAS factory: Attempting to register factory for plugin cuBLAS when one has already been registered\n",
            "ClearML results page: https://app.clear.ml/projects/dff39841e6c5453e90e8365dd7a56b7e/experiments/1dca4a1971ac40a8b456a2fe855807d1/output/log\n",
            "Progress report #1 completed, sleeping for 5.0 minutes\n",
            "INFO:__main__:Using Step 2 task ID: 70ab72ce49124e298163ea45d640a9c3\n",
            "INFO:__main__:Training configuration:\n",
            "INFO:__main__:  step2_task_id: 70ab72ce49124e298163ea45d640a9c3\n",
            "INFO:__main__:  processed_dataset_id: 70ab72ce49124e298163ea45d640a9c3\n",
            "INFO:__main__:  batch_size: 64\n",
            "INFO:__main__:  num_epochs: 10\n",
            "INFO:__main__:  learning_rate: 0.005\n",
            "INFO:__main__:  weight_decay: 0.0001\n",
            "INFO:__main__:  dropout_rate: 0.5\n",
            "INFO:__main__:  test_queue: pipeline\n",
            "INFO:__main__:  device: cpu\n",
            "INFO:__main__:Loaded data - Train: (1957, 256, 256, 3), Test: (490, 256, 256, 3)\n",
            "INFO:__main__:Number of classes: 38\n",
            "ClearML Monitor: GPU monitoring failed getting GPU reading, switching off GPU monitoring\n",
            "INFO:__main__:Starting training for 10 epochs...\n",
            "ClearML Monitor: Could not detect iteration reporting, falling back to iterations as seconds-from-start\n",
            "INFO:__main__:Epoch 1/10 - Train Loss: 0.6111, Train Acc: 0.8196, Val Loss: 0.4512, Val Acc: 0.8837\n",
            "Progress report #2 completed, sleeping for 5.0 minutes\n",
            "/usr/local/lib/python3.11/dist-packages/optuna/trial/_trial.py:497: UserWarning:\n",
            "\n",
            "The reported value is ignored because this `step` 0 is already reported.\n",
            "\n",
            "INFO:__main__:Epoch 2/10 - Train Loss: 0.2293, Train Acc: 0.9029, Val Loss: 0.2502, Val Acc: 0.8898\n",
            "Progress report #3 completed, sleeping for 5.0 minutes\n",
            "/usr/local/lib/python3.11/dist-packages/optuna/trial/_trial.py:497: UserWarning:\n",
            "\n",
            "The reported value is ignored because this `step` 1 is already reported.\n",
            "\n",
            "INFO:__main__:Epoch 3/10 - Train Loss: 0.2352, Train Acc: 0.9039, Val Loss: 0.1994, Val Acc: 0.8878\n",
            "Progress report #4 completed, sleeping for 5.0 minutes\n",
            "/usr/local/lib/python3.11/dist-packages/optuna/trial/_trial.py:497: UserWarning:\n",
            "\n",
            "The reported value is ignored because this `step` 2 is already reported.\n",
            "\n",
            "INFO:__main__:Epoch 4/10 - Train Loss: 0.2185, Train Acc: 0.8988, Val Loss: 0.2029, Val Acc: 0.9082\n",
            "Progress report #5 completed, sleeping for 5.0 minutes\n",
            "/usr/local/lib/python3.11/dist-packages/optuna/trial/_trial.py:497: UserWarning:\n",
            "\n",
            "The reported value is ignored because this `step` 3 is already reported.\n",
            "\n",
            "INFO:__main__:Epoch 5/10 - Train Loss: 0.2429, Train Acc: 0.9044, Val Loss: 5.4711, Val Acc: 0.8122\n",
            "/usr/local/lib/python3.11/dist-packages/optuna/trial/_trial.py:497: UserWarning:\n",
            "\n",
            "The reported value is ignored because this `step` 4 is already reported.\n",
            "\n",
            "Progress report #6 completed, sleeping for 5.0 minutes\n",
            "INFO:__main__:Epoch 6/10 - Train Loss: 0.2087, Train Acc: 0.9090, Val Loss: 0.1881, Val Acc: 0.9245\n",
            "/usr/local/lib/python3.11/dist-packages/optuna/trial/_trial.py:497: UserWarning:\n",
            "\n",
            "The reported value is ignored because this `step` 5 is already reported.\n",
            "\n",
            "INFO:__main__:Epoch 7/10 - Train Loss: 0.2040, Train Acc: 0.9096, Val Loss: 0.1970, Val Acc: 0.8939\n",
            "Progress report #7 completed, sleeping for 5.0 minutes\n",
            "/usr/local/lib/python3.11/dist-packages/optuna/trial/_trial.py:497: UserWarning:\n",
            "\n",
            "The reported value is ignored because this `step` 6 is already reported.\n",
            "\n",
            "INFO:__main__:Epoch 8/10 - Train Loss: 0.1727, Train Acc: 0.9157, Val Loss: 1.8832, Val Acc: 0.4878\n",
            "Progress report #8 completed, sleeping for 5.0 minutes\n",
            "/usr/local/lib/python3.11/dist-packages/optuna/trial/_trial.py:497: UserWarning:\n",
            "\n",
            "The reported value is ignored because this `step` 7 is already reported.\n",
            "\n",
            "INFO:__main__:Epoch 9/10 - Train Loss: 0.1841, Train Acc: 0.9244, Val Loss: 0.1769, Val Acc: 0.9327\n",
            "Progress report #9 completed, sleeping for 5.0 minutes\n",
            "/usr/local/lib/python3.11/dist-packages/optuna/trial/_trial.py:497: UserWarning:\n",
            "\n",
            "The reported value is ignored because this `step` 8 is already reported.\n",
            "\n",
            "INFO:__main__:Epoch 10/10 - Train Loss: 0.1733, Train Acc: 0.9193, Val Loss: 0.2847, Val Acc: 0.9000\n",
            "/usr/local/lib/python3.11/dist-packages/sklearn/metrics/_classification.py:1509: UndefinedMetricWarning:\n",
            "\n",
            "Precision is ill-defined and being set to 0.0 in labels with no predicted samples. Use `zero_division` parameter to control this behavior.\n",
            "\n",
            "INFO:__main__:\n",
            "Final Test Results:\n",
            "INFO:__main__:Test Loss: 0.2847\n",
            "INFO:__main__:Test Accuracy: 0.9000\n",
            "INFO:__main__:Precision: 0.5146\n",
            "INFO:__main__:Recall: 0.5542\n",
            "INFO:__main__:Best Validation Accuracy: 0.9327 at epoch 9\n",
            "INFO:__main__:✅ Model training completed successfully!\n",
            "/usr/local/lib/python3.11/dist-packages/optuna/trial/_trial.py:497: UserWarning:\n",
            "\n",
            "The reported value is ignored because this `step` 9 is already reported.\n",
            "\n",
            "OptunaObjective result metric=0.9, iteration (9, 0.8999999761581421)\n",
            "\u001b[32m[I 2025-05-28 02:14:46,822]\u001b[0m Trial 0 finished with value: 0.9 and parameters: {'General/learning_rate': 0.005, 'General/batch_size': 64, 'General/weight_decay': 0.0001, 'General/num_epochs': 10, 'General/dropout_rate': 0.5}. Best is trial 0 with value: 0.9.\u001b[0m\n",
            "2025-05-28 02:14:49,526 - clearml.automation.optimization - INFO - Creating new Task: {'General/learning_rate': 0.001, 'General/batch_size': 32, 'General/weight_decay': 1e-05, 'General/num_epochs': 10, 'General/dropout_rate': 0.3}\n",
            "2025-05-28 02:14:55.737354: E external/local_xla/xla/stream_executor/cuda/cuda_fft.cc:477] Unable to register cuFFT factory: Attempting to register factory for plugin cuFFT when one has already been registered\n",
            "WARNING: All log messages before absl::InitializeLog() is called are written to STDERR\n",
            "E0000 00:00:1748398495.753453   39681 cuda_dnn.cc:8310] Unable to register cuDNN factory: Attempting to register factory for plugin cuDNN when one has already been registered\n",
            "E0000 00:00:1748398495.758137   39681 cuda_blas.cc:1418] Unable to register cuBLAS factory: Attempting to register factory for plugin cuBLAS when one has already been registered\n",
            "ClearML results page: https://app.clear.ml/projects/dff39841e6c5453e90e8365dd7a56b7e/experiments/077f6da40c1949268616e9ccfe3f09e3/output/log\n",
            "INFO:__main__:Using Step 2 task ID: 70ab72ce49124e298163ea45d640a9c3\n",
            "INFO:__main__:Training configuration:\n",
            "INFO:__main__:  step2_task_id: 70ab72ce49124e298163ea45d640a9c3\n",
            "INFO:__main__:  processed_dataset_id: 70ab72ce49124e298163ea45d640a9c3\n",
            "INFO:__main__:  batch_size: 32\n",
            "INFO:__main__:  num_epochs: 10\n",
            "INFO:__main__:  learning_rate: 0.001\n",
            "INFO:__main__:  weight_decay: 1e-05\n",
            "INFO:__main__:  dropout_rate: 0.3\n",
            "INFO:__main__:  test_queue: pipeline\n",
            "INFO:__main__:  device: cpu\n",
            "INFO:__main__:Loaded data - Train: (1957, 256, 256, 3), Test: (490, 256, 256, 3)\n",
            "INFO:__main__:Number of classes: 38\n",
            "INFO:__main__:Starting training for 10 epochs...\n",
            "ClearML Monitor: GPU monitoring failed getting GPU reading, switching off GPU monitoring\n",
            "Updating job performance summary plot/table\n",
            "Progress report #10 completed, sleeping for 5.0 minutes\n",
            "ClearML Monitor: Could not detect iteration reporting, falling back to iterations as seconds-from-start\n",
            "INFO:__main__:Epoch 1/10 - Train Loss: 0.5776, Train Acc: 0.8605, Val Loss: 0.3179, Val Acc: 0.8755\n",
            "Progress report #11 completed, sleeping for 5.0 minutes\n",
            "INFO:__main__:Epoch 2/10 - Train Loss: 0.2572, Train Acc: 0.8983, Val Loss: 0.1981, Val Acc: 0.9224\n",
            "Progress report #12 completed, sleeping for 5.0 minutes\n",
            "INFO:__main__:Epoch 3/10 - Train Loss: 0.2133, Train Acc: 0.9085, Val Loss: 0.2147, Val Acc: 0.9082\n",
            "Progress report #13 completed, sleeping for 5.0 minutes\n",
            "INFO:__main__:Epoch 4/10 - Train Loss: 0.1794, Train Acc: 0.9325, Val Loss: 0.1659, Val Acc: 0.9571\n",
            "Progress report #14 completed, sleeping for 5.0 minutes\n",
            "INFO:__main__:Epoch 5/10 - Train Loss: 0.1990, Train Acc: 0.9290, Val Loss: 0.2600, Val Acc: 0.9429\n",
            "Progress report #15 completed, sleeping for 5.0 minutes\n",
            "INFO:__main__:Epoch 6/10 - Train Loss: 0.1535, Train Acc: 0.9407, Val Loss: 0.1442, Val Acc: 0.9551\n",
            "INFO:__main__:Epoch 7/10 - Train Loss: 0.1433, Train Acc: 0.9515, Val Loss: 0.1667, Val Acc: 0.9408\n",
            "Progress report #16 completed, sleeping for 5.0 minutes\n",
            "INFO:__main__:Epoch 8/10 - Train Loss: 0.1416, Train Acc: 0.9479, Val Loss: 0.1159, Val Acc: 0.9714\n",
            "Progress report #17 completed, sleeping for 5.0 minutes\n",
            "INFO:__main__:Epoch 9/10 - Train Loss: 0.1354, Train Acc: 0.9561, Val Loss: 0.1626, Val Acc: 0.9673\n",
            "Progress report #18 completed, sleeping for 5.0 minutes\n",
            "INFO:__main__:Epoch 10/10 - Train Loss: 0.1287, Train Acc: 0.9591, Val Loss: 0.4501, Val Acc: 0.8551\n",
            "/usr/local/lib/python3.11/dist-packages/sklearn/metrics/_classification.py:1509: UndefinedMetricWarning:\n",
            "\n",
            "Precision is ill-defined and being set to 0.0 in labels with no predicted samples. Use `zero_division` parameter to control this behavior.\n",
            "\n",
            "INFO:__main__:\n",
            "Final Test Results:\n",
            "INFO:__main__:Test Loss: 0.4501\n",
            "INFO:__main__:Test Accuracy: 0.8551\n",
            "INFO:__main__:Precision: 0.6604\n",
            "INFO:__main__:Recall: 0.6084\n",
            "INFO:__main__:Best Validation Accuracy: 0.9714 at epoch 8\n",
            "INFO:__main__:✅ Model training completed successfully!\n",
            "OptunaObjective result metric=0.8551020408163266, iteration (9, 0.8551020622253418)\n",
            "\u001b[32m[I 2025-05-28 02:59:45,983]\u001b[0m Trial 1 finished with value: 0.8551020408163266 and parameters: {'General/learning_rate': 0.001, 'General/batch_size': 32, 'General/weight_decay': 1e-05, 'General/num_epochs': 10, 'General/dropout_rate': 0.3}. Best is trial 0 with value: 0.9.\u001b[0m\n",
            "2025-05-28 02:59:48,876 - clearml.automation.optimization - INFO - Creating new Task: {'General/learning_rate': 0.005, 'General/batch_size': 16, 'General/weight_decay': 1e-06, 'General/num_epochs': 5, 'General/dropout_rate': 0.4}\n",
            "2025-05-28 02:59:55.193044: E external/local_xla/xla/stream_executor/cuda/cuda_fft.cc:477] Unable to register cuFFT factory: Attempting to register factory for plugin cuFFT when one has already been registered\n",
            "WARNING: All log messages before absl::InitializeLog() is called are written to STDERR\n",
            "E0000 00:00:1748401195.208580   50497 cuda_dnn.cc:8310] Unable to register cuDNN factory: Attempting to register factory for plugin cuDNN when one has already been registered\n",
            "E0000 00:00:1748401195.212985   50497 cuda_blas.cc:1418] Unable to register cuBLAS factory: Attempting to register factory for plugin cuBLAS when one has already been registered\n",
            "ClearML results page: https://app.clear.ml/projects/dff39841e6c5453e90e8365dd7a56b7e/experiments/1a8baf12bddb45058f525a181fa0b479/output/log\n",
            "INFO:__main__:Using Step 2 task ID: 70ab72ce49124e298163ea45d640a9c3\n",
            "INFO:__main__:Training configuration:\n",
            "INFO:__main__:  step2_task_id: 70ab72ce49124e298163ea45d640a9c3\n",
            "INFO:__main__:  processed_dataset_id: 70ab72ce49124e298163ea45d640a9c3\n",
            "INFO:__main__:  batch_size: 16\n",
            "INFO:__main__:  num_epochs: 5\n",
            "INFO:__main__:  learning_rate: 0.005\n",
            "INFO:__main__:  weight_decay: 1e-06\n",
            "INFO:__main__:  dropout_rate: 0.4\n",
            "INFO:__main__:  test_queue: pipeline\n",
            "INFO:__main__:  device: cpu\n",
            "INFO:__main__:Loaded data - Train: (1957, 256, 256, 3), Test: (490, 256, 256, 3)\n",
            "INFO:__main__:Number of classes: 38\n",
            "ClearML Monitor: GPU monitoring failed getting GPU reading, switching off GPU monitoring\n",
            "INFO:__main__:Starting training for 5 epochs...\n",
            "Updating job performance summary plot/table\n",
            "Progress report #19 completed, sleeping for 5.0 minutes\n",
            "ClearML Monitor: Could not detect iteration reporting, falling back to iterations as seconds-from-start\n",
            "INFO:__main__:Epoch 1/5 - Train Loss: 0.4369, Train Acc: 0.8544, Val Loss: 0.2867, Val Acc: 0.9020\n",
            "Progress report #20 completed, sleeping for 5.0 minutes\n",
            "INFO:__main__:Epoch 2/5 - Train Loss: 0.2972, Train Acc: 0.8830, Val Loss: 0.2231, Val Acc: 0.9286\n",
            "Progress report #21 completed, sleeping for 5.0 minutes\n",
            "INFO:__main__:Epoch 3/5 - Train Loss: 0.2698, Train Acc: 0.8825, Val Loss: 0.2171, Val Acc: 0.9061\n",
            "Progress report #22 completed, sleeping for 5.0 minutes\n",
            "INFO:__main__:Epoch 4/5 - Train Loss: 0.2750, Train Acc: 0.8769, Val Loss: 0.9102, Val Acc: 0.6082\n",
            "Progress report #23 completed, sleeping for 5.0 minutes\n",
            "INFO:__main__:Epoch 5/5 - Train Loss: 0.2527, Train Acc: 0.8881, Val Loss: 0.2612, Val Acc: 0.9061\n",
            "/usr/local/lib/python3.11/dist-packages/sklearn/metrics/_classification.py:1509: UndefinedMetricWarning:\n",
            "\n",
            "Precision is ill-defined and being set to 0.0 in labels with no predicted samples. Use `zero_division` parameter to control this behavior.\n",
            "\n",
            "INFO:__main__:\n",
            "Final Test Results:\n",
            "INFO:__main__:Test Loss: 0.2612\n",
            "INFO:__main__:Test Accuracy: 0.9061\n",
            "INFO:__main__:Precision: 0.5295\n",
            "INFO:__main__:Recall: 0.5111\n",
            "INFO:__main__:Best Validation Accuracy: 0.9286 at epoch 2\n",
            "INFO:__main__:✅ Model training completed successfully!\n",
            "OptunaObjective result metric=0.9061224489795918, iteration (4, 0.9061224460601807)\n",
            "\u001b[32m[I 2025-05-28 03:24:43,403]\u001b[0m Trial 2 finished with value: 0.9061224489795918 and parameters: {'General/learning_rate': 0.005, 'General/batch_size': 16, 'General/weight_decay': 1e-06, 'General/num_epochs': 5, 'General/dropout_rate': 0.4}. Best is trial 2 with value: 0.9061224489795918.\u001b[0m\n",
            "2025-05-28 03:24:46,104 - clearml.automation.optimization - INFO - Creating new Task: {'General/learning_rate': 0.001, 'General/batch_size': 32, 'General/weight_decay': 1e-06, 'General/num_epochs': 5, 'General/dropout_rate': 0.4}\n",
            "2025-05-28 03:24:52.386501: E external/local_xla/xla/stream_executor/cuda/cuda_fft.cc:477] Unable to register cuFFT factory: Attempting to register factory for plugin cuFFT when one has already been registered\n",
            "WARNING: All log messages before absl::InitializeLog() is called are written to STDERR\n",
            "E0000 00:00:1748402692.404165   56521 cuda_dnn.cc:8310] Unable to register cuDNN factory: Attempting to register factory for plugin cuDNN when one has already been registered\n",
            "E0000 00:00:1748402692.408926   56521 cuda_blas.cc:1418] Unable to register cuBLAS factory: Attempting to register factory for plugin cuBLAS when one has already been registered\n",
            "ClearML results page: https://app.clear.ml/projects/dff39841e6c5453e90e8365dd7a56b7e/experiments/70aee7fa64dd4ea7b37d07eb183dd549/output/log\n",
            "INFO:__main__:Using Step 2 task ID: 70ab72ce49124e298163ea45d640a9c3\n",
            "INFO:__main__:Training configuration:\n",
            "INFO:__main__:  step2_task_id: 70ab72ce49124e298163ea45d640a9c3\n",
            "INFO:__main__:  processed_dataset_id: 70ab72ce49124e298163ea45d640a9c3\n",
            "INFO:__main__:  batch_size: 32\n",
            "INFO:__main__:  num_epochs: 5\n",
            "INFO:__main__:  learning_rate: 0.001\n",
            "INFO:__main__:  weight_decay: 1e-06\n",
            "INFO:__main__:  dropout_rate: 0.4\n",
            "INFO:__main__:  test_queue: pipeline\n",
            "INFO:__main__:  device: cpu\n",
            "INFO:__main__:Loaded data - Train: (1957, 256, 256, 3), Test: (490, 256, 256, 3)\n",
            "INFO:__main__:Number of classes: 38\n",
            "INFO:__main__:Starting training for 5 epochs...\n",
            "ClearML Monitor: GPU monitoring failed getting GPU reading, switching off GPU monitoring\n",
            "Updating job performance summary plot/table\n",
            "Progress report #24 completed, sleeping for 5.0 minutes\n",
            "ClearML Monitor: Could not detect iteration reporting, falling back to iterations as seconds-from-start\n",
            "INFO:__main__:Epoch 1/5 - Train Loss: 0.5931, Train Acc: 0.8559, Val Loss: 1.9394, Val Acc: 0.4020\n",
            "Progress report #25 completed, sleeping for 5.0 minutes\n",
            "INFO:__main__:Epoch 2/5 - Train Loss: 0.2666, Train Acc: 0.8942, Val Loss: 0.1845, Val Acc: 0.8939\n",
            "Progress report #26 completed, sleeping for 5.0 minutes\n",
            "INFO:__main__:Epoch 3/5 - Train Loss: 0.2092, Train Acc: 0.9188, Val Loss: 0.2422, Val Acc: 0.9082\n",
            "Progress report #27 completed, sleeping for 5.0 minutes\n",
            "INFO:__main__:Epoch 4/5 - Train Loss: 0.1751, Train Acc: 0.9331, Val Loss: 0.1747, Val Acc: 0.9204\n",
            "Progress report #28 completed, sleeping for 5.0 minutes\n",
            "INFO:__main__:Epoch 5/5 - Train Loss: 0.1717, Train Acc: 0.9412, Val Loss: 0.3877, Val Acc: 0.9122\n",
            "/usr/local/lib/python3.11/dist-packages/sklearn/metrics/_classification.py:1509: UndefinedMetricWarning:\n",
            "\n",
            "Precision is ill-defined and being set to 0.0 in labels with no predicted samples. Use `zero_division` parameter to control this behavior.\n",
            "\n",
            "INFO:__main__:\n",
            "Final Test Results:\n",
            "INFO:__main__:Test Loss: 0.3877\n",
            "INFO:__main__:Test Accuracy: 0.9122\n",
            "INFO:__main__:Precision: 0.5731\n",
            "INFO:__main__:Recall: 0.5244\n",
            "INFO:__main__:Best Validation Accuracy: 0.9204 at epoch 4\n",
            "INFO:__main__:✅ Model training completed successfully!\n",
            "OptunaObjective result metric=0.9122448979591836, iteration (4, 0.9122449159622192)\n",
            "\u001b[32m[I 2025-05-28 03:47:30,048]\u001b[0m Trial 3 finished with value: 0.9122448979591836 and parameters: {'General/learning_rate': 0.001, 'General/batch_size': 32, 'General/weight_decay': 1e-06, 'General/num_epochs': 5, 'General/dropout_rate': 0.4}. Best is trial 3 with value: 0.9122448979591836.\u001b[0m\n",
            "2025-05-28 03:47:32,745 - clearml.automation.optimization - INFO - Creating new Task: {'General/learning_rate': 0.001, 'General/batch_size': 64, 'General/weight_decay': 1e-05, 'General/num_epochs': 10, 'General/dropout_rate': 0.5}\n",
            "2025-05-28 03:47:39.126558: E external/local_xla/xla/stream_executor/cuda/cuda_fft.cc:477] Unable to register cuFFT factory: Attempting to register factory for plugin cuFFT when one has already been registered\n",
            "WARNING: All log messages before absl::InitializeLog() is called are written to STDERR\n",
            "E0000 00:00:1748404059.141746   62025 cuda_dnn.cc:8310] Unable to register cuDNN factory: Attempting to register factory for plugin cuDNN when one has already been registered\n",
            "E0000 00:00:1748404059.146044   62025 cuda_blas.cc:1418] Unable to register cuBLAS factory: Attempting to register factory for plugin cuBLAS when one has already been registered\n",
            "ClearML results page: https://app.clear.ml/projects/dff39841e6c5453e90e8365dd7a56b7e/experiments/baf523a5531047e7b79b1946ec35ec99/output/log\n",
            "INFO:__main__:Using Step 2 task ID: 70ab72ce49124e298163ea45d640a9c3\n",
            "INFO:__main__:Training configuration:\n",
            "INFO:__main__:  step2_task_id: 70ab72ce49124e298163ea45d640a9c3\n",
            "INFO:__main__:  processed_dataset_id: 70ab72ce49124e298163ea45d640a9c3\n",
            "INFO:__main__:  batch_size: 64\n",
            "INFO:__main__:  num_epochs: 10\n",
            "INFO:__main__:  learning_rate: 0.001\n",
            "INFO:__main__:  weight_decay: 1e-05\n",
            "INFO:__main__:  dropout_rate: 0.5\n",
            "INFO:__main__:  test_queue: pipeline\n",
            "INFO:__main__:  device: cpu\n",
            "INFO:__main__:Loaded data - Train: (1957, 256, 256, 3), Test: (490, 256, 256, 3)\n",
            "INFO:__main__:Number of classes: 38\n",
            "ClearML Monitor: GPU monitoring failed getting GPU reading, switching off GPU monitoring\n",
            "INFO:__main__:Starting training for 10 epochs...\n",
            "Updating job performance summary plot/table\n",
            "Progress report #29 completed, sleeping for 5.0 minutes\n",
            "ClearML Monitor: Could not detect iteration reporting, falling back to iterations as seconds-from-start\n",
            "INFO:__main__:Epoch 1/10 - Train Loss: 0.8804, Train Acc: 0.8258, Val Loss: 0.3848, Val Acc: 0.8531\n",
            "Progress report #30 completed, sleeping for 5.0 minutes\n",
            "INFO:__main__:Epoch 2/10 - Train Loss: 0.2213, Train Acc: 0.9096, Val Loss: 0.3076, Val Acc: 0.8796\n",
            "Progress report #31 completed, sleeping for 5.0 minutes\n",
            "INFO:__main__:Epoch 3/10 - Train Loss: 0.1945, Train Acc: 0.9300, Val Loss: 0.2662, Val Acc: 0.8898\n",
            "INFO:__main__:Epoch 4/10 - Train Loss: 0.1798, Train Acc: 0.9280, Val Loss: 0.1339, Val Acc: 0.9592\n",
            "Progress report #32 completed, sleeping for 5.0 minutes\n",
            "INFO:__main__:Epoch 5/10 - Train Loss: 0.1816, Train Acc: 0.9366, Val Loss: 0.1454, Val Acc: 0.9408\n",
            "Progress report #33 completed, sleeping for 5.0 minutes\n",
            "INFO:__main__:Epoch 6/10 - Train Loss: 0.1334, Train Acc: 0.9525, Val Loss: 0.2549, Val Acc: 0.9163\n",
            "Progress report #34 completed, sleeping for 5.0 minutes\n",
            "INFO:__main__:Epoch 7/10 - Train Loss: 0.1692, Train Acc: 0.9407, Val Loss: 0.5067, Val Acc: 0.8837\n",
            "Progress report #35 completed, sleeping for 5.0 minutes\n",
            "INFO:__main__:Epoch 8/10 - Train Loss: 0.1272, Train Acc: 0.9504, Val Loss: 0.1197, Val Acc: 0.9592\n",
            "Progress report #36 completed, sleeping for 5.0 minutes\n",
            "INFO:__main__:Epoch 9/10 - Train Loss: 0.1116, Train Acc: 0.9632, Val Loss: 0.1684, Val Acc: 0.9286\n",
            "Progress report #37 completed, sleeping for 5.0 minutes\n",
            "INFO:__main__:Epoch 10/10 - Train Loss: 0.0997, Train Acc: 0.9663, Val Loss: 0.1222, Val Acc: 0.9633\n",
            "/usr/local/lib/python3.11/dist-packages/sklearn/metrics/_classification.py:1509: UndefinedMetricWarning:\n",
            "\n",
            "Precision is ill-defined and being set to 0.0 in labels with no predicted samples. Use `zero_division` parameter to control this behavior.\n",
            "\n",
            "INFO:__main__:\n",
            "Final Test Results:\n",
            "INFO:__main__:Test Loss: 0.1222\n",
            "INFO:__main__:Test Accuracy: 0.9633\n",
            "INFO:__main__:Precision: 0.6329\n",
            "INFO:__main__:Recall: 0.6133\n",
            "INFO:__main__:Best Validation Accuracy: 0.9633 at epoch 10\n",
            "INFO:__main__:✅ Model training completed successfully!\n",
            "OptunaObjective result metric=0.963265306122449, iteration (9, 0.9632652997970581)\n",
            "\u001b[32m[I 2025-05-28 04:32:33,803]\u001b[0m Trial 4 finished with value: 0.963265306122449 and parameters: {'General/learning_rate': 0.001, 'General/batch_size': 64, 'General/weight_decay': 1e-05, 'General/num_epochs': 10, 'General/dropout_rate': 0.5}. Best is trial 4 with value: 0.963265306122449.\u001b[0m\n",
            "INFO:__main__:✅ HPO Finished. Processing results...\n",
            "INFO:__main__:🏆 Best Model: 0.9633 (Step 3 - Model Training: General/batch_size=64 General/dropout_rate=0.5 General/learning_rate=0.001 General/num_epochs=10 General/weight_decay=1e-05)\n",
            "INFO:__main__:✅ Artifacts uploaded successfully in subtask.\n",
            "INFO:__main__:📦 Artifacts saved in subtask: {'best_accuracy': {'name': 'best_accuracy', 'size': 21, 'type': 'pickle', 'mode': <ArtifactModeEnum.output: 'output'>, 'url': 'https://files.clear.ml/Agri-Pest-Detection/Step%204%20-%20HPO%20Artifact%20Upload.ae00112c49a942b3b2a4e1bf40c6c638/artifacts/best_accuracy/best_accuracy.pkl', 'hash': '42beb9e10011e86300d437e4ee06eefa6cb696a5e63c6ce788e79c2435cb5289', 'timestamp': datetime.datetime(2025, 5, 28, 4, 32, 41), 'metadata': {}, 'preview': '0.963265306122449'}, 'best_experiment_id': {'name': 'best_experiment_id', 'size': 32, 'type': 'string', 'mode': <ArtifactModeEnum.output: 'output'>, 'url': 'https://files.clear.ml/Agri-Pest-Detection/Step%204%20-%20HPO%20Artifact%20Upload.ae00112c49a942b3b2a4e1bf40c6c638/artifacts/best_experiment_id/best_experiment_id.txt', 'hash': 'd2376c9b53e9d26e1890a08f269bc1de068c9716084aff90133dd592a778fd98', 'timestamp': datetime.datetime(2025, 5, 28, 4, 32, 40), 'metadata': {}, 'preview': 'baf523a5531047e7b79b1946ec35ec99'}, 'best_hyperparameters': {'name': 'best_hyperparameters', 'size': 2, 'type': 'dict', 'mode': <ArtifactModeEnum.output: 'output'>, 'url': 'https://files.clear.ml/Agri-Pest-Detection/Step%204%20-%20HPO%20Artifact%20Upload.ae00112c49a942b3b2a4e1bf40c6c638/artifacts/best_hyperparameters/best_hyperparameters.json', 'hash': '44136fa355b3678a1146ad16f7e8649e94fb4fc21fe77e8310c060f61caaff8a', 'timestamp': datetime.datetime(2025, 5, 28, 4, 32, 42), 'metadata': {}, 'preview': '{}'}}\n",
            "2025-05-28 04:32:43,776 - clearml.Task - ERROR - Action failed <400/110: tasks.add_or_update_artifacts/v2.10 (Invalid task status: expected=created, status=completed)> (task=077f6da40c1949268616e9ccfe3f09e3, artifacts=[{'key': 'best_hpo_task_id', 'type': 'string', 'uri': 'https://files.clear.ml/Agri-Pest-Detection/Step%203%20-%20Model%20Training%253A%20General/batch_size%3D32%20General/dropout_rate%3D0.3%20General/learning_rate%3D0.077f6da40c1949268616e9ccfe3f09e3/artifacts/best_hpo_task_id/best_hpo_task_id.txt', 'content_size': 32, 'hash': 'ed5fc938b8d72c0bb70b88aace615872cbec2ed0412f07698585b0b1ed5d91f7', 'timestamp': 1748406763, 'type_data': {'preview': 'ae00112c49a942b3b2a4e1bf40c6c638', 'content_type': 'text/plain'}}], force=True, method=get)\n",
            "INFO:__main__:✅ Step 4 - HPO completed.\n"
          ]
        }
      ],
      "source": [
        "!python task_hpo.py"
      ]
    },
    {
      "cell_type": "code",
      "execution_count": null,
      "id": "d9yp4AyJLvuD",
      "metadata": {
        "colab": {
          "base_uri": "https://localhost:8080/"
        },
        "id": "d9yp4AyJLvuD",
        "outputId": "5c2627a4-65cd-4be2-ef71-57f8e7150404"
      },
      "outputs": [
        {
          "output_type": "stream",
          "name": "stdout",
          "text": [
            "ClearML Task: created new task id=4fa57592c0d34c83a6b03d4049894863\n",
            "2025-05-28 05:20:54.578751: E external/local_xla/xla/stream_executor/cuda/cuda_fft.cc:477] Unable to register cuFFT factory: Attempting to register factory for plugin cuFFT when one has already been registered\n",
            "WARNING: All log messages before absl::InitializeLog() is called are written to STDERR\n",
            "E0000 00:00:1748409654.661140   84383 cuda_dnn.cc:8310] Unable to register cuDNN factory: Attempting to register factory for plugin cuDNN when one has already been registered\n",
            "E0000 00:00:1748409654.687432   84383 cuda_blas.cc:1418] Unable to register cuBLAS factory: Attempting to register factory for plugin cuBLAS when one has already been registered\n",
            "2025-05-28 05:20:54.803318: I tensorflow/core/platform/cpu_feature_guard.cc:210] This TensorFlow binary is optimized to use available CPU instructions in performance-critical operations.\n",
            "To enable the following instructions: AVX2 FMA, in other operations, rebuild TensorFlow with the appropriate compiler flags.\n",
            "ClearML results page: https://app.clear.ml/projects/dff39841e6c5453e90e8365dd7a56b7e/experiments/4fa57592c0d34c83a6b03d4049894863/output/log\n",
            "ClearML Monitor: GPU monitoring failed getting GPU reading, switching off GPU monitoring\n",
            "ClearML Monitor: Could not detect iteration reporting, falling back to iterations as seconds-from-start\n",
            "/usr/local/lib/python3.11/dist-packages/sklearn/metrics/_classification.py:1509: UndefinedMetricWarning:\n",
            "\n",
            "Precision is ill-defined and being set to 0.0 in labels with no predicted samples. Use `zero_division` parameter to control this behavior.\n",
            "\n",
            "[Epoch 1/10] Train Acc: 0.8436 | Val Acc: 0.8878\n",
            "/usr/local/lib/python3.11/dist-packages/sklearn/metrics/_classification.py:1509: UndefinedMetricWarning:\n",
            "\n",
            "Precision is ill-defined and being set to 0.0 in labels with no predicted samples. Use `zero_division` parameter to control this behavior.\n",
            "\n",
            "[Epoch 2/10] Train Acc: 0.8912 | Val Acc: 0.9347\n",
            "/usr/local/lib/python3.11/dist-packages/sklearn/metrics/_classification.py:1509: UndefinedMetricWarning:\n",
            "\n",
            "Precision is ill-defined and being set to 0.0 in labels with no predicted samples. Use `zero_division` parameter to control this behavior.\n",
            "\n",
            "[Epoch 3/10] Train Acc: 0.9019 | Val Acc: 0.8429\n",
            "/usr/local/lib/python3.11/dist-packages/sklearn/metrics/_classification.py:1509: UndefinedMetricWarning:\n",
            "\n",
            "Precision is ill-defined and being set to 0.0 in labels with no predicted samples. Use `zero_division` parameter to control this behavior.\n",
            "\n",
            "[Epoch 4/10] Train Acc: 0.8840 | Val Acc: 0.9184\n",
            "/usr/local/lib/python3.11/dist-packages/sklearn/metrics/_classification.py:1509: UndefinedMetricWarning:\n",
            "\n",
            "Precision is ill-defined and being set to 0.0 in labels with no predicted samples. Use `zero_division` parameter to control this behavior.\n",
            "\n",
            "[Epoch 5/10] Train Acc: 0.8988 | Val Acc: 0.9306\n",
            "/usr/local/lib/python3.11/dist-packages/sklearn/metrics/_classification.py:1509: UndefinedMetricWarning:\n",
            "\n",
            "Precision is ill-defined and being set to 0.0 in labels with no predicted samples. Use `zero_division` parameter to control this behavior.\n",
            "\n",
            "[Epoch 6/10] Train Acc: 0.9070 | Val Acc: 0.8449\n",
            "/usr/local/lib/python3.11/dist-packages/sklearn/metrics/_classification.py:1509: UndefinedMetricWarning:\n",
            "\n",
            "Precision is ill-defined and being set to 0.0 in labels with no predicted samples. Use `zero_division` parameter to control this behavior.\n",
            "\n",
            "[Epoch 7/10] Train Acc: 0.8993 | Val Acc: 0.9163\n",
            "/usr/local/lib/python3.11/dist-packages/sklearn/metrics/_classification.py:1509: UndefinedMetricWarning:\n",
            "\n",
            "Precision is ill-defined and being set to 0.0 in labels with no predicted samples. Use `zero_division` parameter to control this behavior.\n",
            "\n",
            "[Epoch 8/10] Train Acc: 0.9014 | Val Acc: 0.9224\n",
            "/usr/local/lib/python3.11/dist-packages/sklearn/metrics/_classification.py:1509: UndefinedMetricWarning:\n",
            "\n",
            "Precision is ill-defined and being set to 0.0 in labels with no predicted samples. Use `zero_division` parameter to control this behavior.\n",
            "\n",
            "[Epoch 9/10] Train Acc: 0.9060 | Val Acc: 0.9592\n",
            "/usr/local/lib/python3.11/dist-packages/sklearn/metrics/_classification.py:1509: UndefinedMetricWarning:\n",
            "\n",
            "Precision is ill-defined and being set to 0.0 in labels with no predicted samples. Use `zero_division` parameter to control this behavior.\n",
            "\n",
            "[Epoch 10/10] Train Acc: 0.8973 | Val Acc: 0.6245\n",
            "2025-05-28 06:05:14,769 - clearml.frameworks - INFO - Found existing registered model id=1ba6d9ab63eb4ca58e05d9d761913e77 [/content/HPO/final_model.pth] reusing it.\n",
            "✅ Final model training completed.\n"
          ]
        }
      ],
      "source": [
        "!python final_model.py"
      ]
    },
    {
      "cell_type": "code",
      "execution_count": 11,
      "id": "E1o1KyZPAxik",
      "metadata": {
        "colab": {
          "base_uri": "https://localhost:8080/"
        },
        "id": "E1o1KyZPAxik",
        "outputId": "83acf61d-9209-4904-e0f2-f5ee55e9e5eb"
      },
      "outputs": [
        {
          "output_type": "stream",
          "name": "stdout",
          "text": [
            "final_model.py          README.md                  step2_data_preprocessing.py\n",
            "main.py                 requirements.txt           step3_train_model.py\n",
            "pipeline_from_tasks.py  step1_dataset_artifact.py  task_hpo.py\n"
          ]
        }
      ],
      "source": [
        "ls"
      ]
    },
    {
      "cell_type": "code",
      "execution_count": 13,
      "id": "KHNoCjYuuCkr",
      "metadata": {
        "colab": {
          "base_uri": "https://localhost:8080/"
        },
        "id": "KHNoCjYuuCkr",
        "outputId": "2bc328e1-e814-4b03-b0d7-4a182f98c525"
      },
      "outputs": [
        {
          "output_type": "stream",
          "name": "stdout",
          "text": [
            "Hi, AI Studio\n",
            "ClearML Task: created new task id=12f2127de73c44698d6bcf53716896b4\n",
            "2025-05-29 04:30:55.496621: E external/local_xla/xla/stream_executor/cuda/cuda_fft.cc:477] Unable to register cuFFT factory: Attempting to register factory for plugin cuFFT when one has already been registered\n",
            "WARNING: All log messages before absl::InitializeLog() is called are written to STDERR\n",
            "E0000 00:00:1748493055.511782    4951 cuda_dnn.cc:8310] Unable to register cuDNN factory: Attempting to register factory for plugin cuDNN when one has already been registered\n",
            "E0000 00:00:1748493055.516190    4951 cuda_blas.cc:1418] Unable to register cuBLAS factory: Attempting to register factory for plugin cuBLAS when one has already been registered\n",
            "2025-05-29 04:30:55.532403: I tensorflow/core/platform/cpu_feature_guard.cc:210] This TensorFlow binary is optimized to use available CPU instructions in performance-critical operations.\n",
            "To enable the following instructions: AVX2 FMA, in other operations, rebuild TensorFlow with the appropriate compiler flags.\n",
            "ClearML results page: https://app.clear.ml/projects/e24d65d21da243178b14b9592f2ebd36/experiments/12f2127de73c44698d6bcf53716896b4/output/log\n",
            "ClearML pipeline page: https://app.clear.ml/pipelines/e24d65d21da243178b14b9592f2ebd36/experiments/12f2127de73c44698d6bcf53716896b4\n",
            "INFO:pipeline_from_tasks:Set default execution queue to: pipeline\n",
            "6 task found when searching for `{'project_name': 'Agri-Pest-Detection', 'task_name': 'Step 1 - Load Uncompressed Pest Image Dataset', 'include_archived': True, 'task_filter': {'status': ['created', 'queued', 'in_progress', 'published', 'stopped', 'completed', 'closed']}}`\n",
            "Selected task `Step 1 - Load Uncompressed Pest Image Dataset` (id=fa69a02c2ac24a138be352981141b9c2)\n",
            "44 task found when searching for `{'project_name': 'Agri-Pest-Detection', 'task_name': 'Step 2 - Preprocessing (artifact version)', 'include_archived': True, 'task_filter': {'status': ['created', 'queued', 'in_progress', 'published', 'stopped', 'completed', 'closed']}}`\n",
            "Selected task `Step 2 - Preprocessing (artifact version)` (id=70ab72ce49124e298163ea45d640a9c3)\n",
            "45 task found when searching for `{'project_name': 'Agri-Pest-Detection', 'task_name': 'Step 3 - Model Training', 'include_archived': True, 'task_filter': {'status': ['created', 'queued', 'in_progress', 'published', 'stopped', 'completed', 'closed']}}`\n",
            "Selected task `Step 3 - Model Training` (id=488acb58022e403fa520f8537d249fc7)\n",
            "31 task found when searching for `{'project_name': 'Agri-Pest-Detection', 'task_name': 'Step 4 - HPO: Train Model', 'include_archived': True, 'task_filter': {'status': ['created', 'queued', 'in_progress', 'published', 'stopped', 'completed', 'closed']}}`\n",
            "Selected task `Step 4 - HPO: Train Model` (id=ca781ff6bc9e48f4970c6e0e4827a7f6)\n",
            "13 task found when searching for `{'project_name': 'Agri-Pest-Detection', 'task_name': 'Step 5 - Final Model Training', 'include_archived': True, 'task_filter': {'status': ['created', 'queued', 'in_progress', 'published', 'stopped', 'completed', 'closed']}}`\n",
            "Selected task `Step 5 - Final Model Training` (id=4fa57592c0d34c83a6b03d4049894863)\n",
            "INFO:pipeline_from_tasks:Starting pipeline locally with tasks on queue: pipeline\n",
            "Launching the next 1 steps\n",
            "Launching step [stage_data]\n",
            "Launching step: stage_data\n",
            "Parameters:\n",
            "None\n",
            "Configurations:\n",
            "{}\n",
            "Overrides:\n",
            "{}\n",
            "Launching the next 1 steps\n",
            "Launching step [stage_process]\n",
            "Launching step: stage_process\n",
            "Parameters:\n",
            "{'General/dataset_task_id': '${stage_data.id}', 'General/test_size': 0.25, 'General/random_state': 42}\n",
            "Configurations:\n",
            "{}\n",
            "Overrides:\n",
            "{}\n",
            "Launching the next 1 steps\n",
            "Launching step [stage_train]\n",
            "Launching step: stage_train\n",
            "Parameters:\n",
            "{'General/processed_dataset_id': '${stage_process.id}', 'General/test_queue': 'pipeline', 'General/num_epochs': 10, 'General/batch_size': 16, 'General/learning_rate': 0.001, 'General/weight_decay': 1e-05}\n",
            "Configurations:\n",
            "{}\n",
            "Overrides:\n",
            "{}\n",
            "Launching the next 1 steps\n",
            "Launching step [stage_hpo]\n",
            "Launching step: stage_hpo\n",
            "Parameters:\n",
            "{'General/processed_dataset_id': '${stage_process.id}', 'General/test_queue': 'pipeline', 'General/num_trials': 5, 'General/time_limit_minutes': 20, 'General/run_as_service': False, 'General/dataset_task_id': '${stage_data.id}', 'General/base_train_task_id': '${stage_train.id}'}\n",
            "Configurations:\n",
            "{}\n",
            "Overrides:\n",
            "{}\n",
            "Launching the next 1 steps\n",
            "Launching step [stage_final_model]\n",
            "Launching step: stage_final_model\n",
            "Parameters:\n",
            "{'General/processed_dataset_id': '${stage_process.id}', 'General/learning_rate': 0.0001, 'General/batch_size': 16, 'General/num_epochs': 10, 'General/dropout_rate': 0.5, 'General/weight_decay': 1e-05, 'General/test_queue': 'pipeline'}\n",
            "Configurations:\n",
            "{}\n",
            "Overrides:\n",
            "{}\n",
            "Launching the next 0 steps\n",
            "INFO:pipeline_from_tasks:Pipeline started successfully\n"
          ]
        }
      ],
      "source": [
        "!python main.py"
      ]
    }
  ],
  "metadata": {
    "colab": {
      "machine_shape": "hm",
      "provenance": []
    },
    "kernelspec": {
      "display_name": "Python 3",
      "name": "python3"
    },
    "language_info": {
      "codemirror_mode": {
        "name": "ipython",
        "version": 3
      },
      "file_extension": ".py",
      "mimetype": "text/x-python",
      "name": "python",
      "nbconvert_exporter": "python",
      "pygments_lexer": "ipython3",
      "version": "3.10.10"
    }
  },
  "nbformat": 4,
  "nbformat_minor": 5
}