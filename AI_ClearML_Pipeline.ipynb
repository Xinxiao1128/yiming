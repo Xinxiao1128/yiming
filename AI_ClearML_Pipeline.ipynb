{
  "nbformat": 4,
  "nbformat_minor": 0,
  "metadata": {
    "colab": {
      "provenance": [],
      "gpuType": "T4",
      "machine_shape": "hm"
    },
    "kernelspec": {
      "name": "python3",
      "display_name": "Python 3"
    },
    "language_info": {
      "name": "python"
    },
    "accelerator": "GPU"
  },
  "cells": [
    {
      "cell_type": "code",
      "execution_count": null,
      "metadata": {
        "colab": {
          "base_uri": "https://localhost:8080/"
        },
        "id": "CzUpZUe8BtPx",
        "outputId": "238636f7-d168-4dc7-86bf-d081dee051ca"
      },
      "outputs": [
        {
          "output_type": "stream",
          "name": "stdout",
          "text": [
            "fatal: destination path 'yiming' already exists and is not an empty directory.\n"
          ]
        }
      ],
      "source": [
        "!git clone https://github.com/Xinxiao1128/yiming.git"
      ]
    },
    {
      "cell_type": "code",
      "source": [
        "!pwd"
      ],
      "metadata": {
        "colab": {
          "base_uri": "https://localhost:8080/"
        },
        "id": "1kNIFdh1pTb7",
        "outputId": "926848cf-6f78-40b2-b0d8-149e8c626010"
      },
      "execution_count": null,
      "outputs": [
        {
          "output_type": "stream",
          "name": "stdout",
          "text": [
            "/content\n"
          ]
        }
      ]
    },
    {
      "cell_type": "code",
      "source": [
        "cd yiming/"
      ],
      "metadata": {
        "colab": {
          "base_uri": "https://localhost:8080/"
        },
        "id": "pC64vGEppcby",
        "outputId": "a4724e25-cd85-40e1-aae3-27cb98cfa0cb"
      },
      "execution_count": null,
      "outputs": [
        {
          "output_type": "stream",
          "name": "stdout",
          "text": [
            "/content/yiming\n"
          ]
        }
      ]
    },
    {
      "cell_type": "code",
      "source": [
        "ls"
      ],
      "metadata": {
        "colab": {
          "base_uri": "https://localhost:8080/"
        },
        "id": "UjflA3uApd5H",
        "outputId": "73fce48e-0f02-491b-bbec-8b069b0fb5dd"
      },
      "execution_count": null,
      "outputs": [
        {
          "output_type": "stream",
          "name": "stdout",
          "text": [
            " accuracy_curve.png      'Sprint_1_(POC).ipynb'\n",
            " cnn_model.h5             step1_dataset_artifact.py\n",
            " Code.docx               'step1_dataset_artifact(R).py'\n",
            " Dataset.docx             step2_data_preprocessing.py\n",
            " label2id.npy            'step2_data_preprocessing(R).py'\n",
            " Libraries                step3_train_model.py\n",
            " loss_curve.png          'step3_train_model(R).py'\n",
            " main.py                  task_hpo.py\n",
            " pipeline_from_tasks.py   X_test.npy\n",
            " README.md                X_train.npy\n",
            " requirements.txt         y_test.npy\n",
            "'Sprint 1 (POC) Code'     y_train.npy\n"
          ]
        }
      ]
    },
    {
      "cell_type": "code",
      "source": [
        "pip install clearml"
      ],
      "metadata": {
        "colab": {
          "base_uri": "https://localhost:8080/"
        },
        "id": "0SLF4H71CBqW",
        "outputId": "ddc3386f-e2c3-42aa-9a4e-15d4fcac12b5"
      },
      "execution_count": null,
      "outputs": [
        {
          "output_type": "stream",
          "name": "stdout",
          "text": [
            "Requirement already satisfied: clearml in /usr/local/lib/python3.11/dist-packages (1.18.0)\n",
            "Requirement already satisfied: attrs>=18.0 in /usr/local/lib/python3.11/dist-packages (from clearml) (25.3.0)\n",
            "Requirement already satisfied: furl>=2.0.0 in /usr/local/lib/python3.11/dist-packages (from clearml) (2.1.4)\n",
            "Requirement already satisfied: jsonschema>=2.6.0 in /usr/local/lib/python3.11/dist-packages (from clearml) (4.23.0)\n",
            "Requirement already satisfied: numpy>=1.10 in /usr/local/lib/python3.11/dist-packages (from clearml) (1.25.0)\n",
            "Requirement already satisfied: pathlib2>=2.3.0 in /usr/local/lib/python3.11/dist-packages (from clearml) (2.3.7.post1)\n",
            "Requirement already satisfied: Pillow>=4.1.1 in /usr/local/lib/python3.11/dist-packages (from clearml) (11.2.1)\n",
            "Requirement already satisfied: psutil>=3.4.2 in /usr/local/lib/python3.11/dist-packages (from clearml) (5.9.5)\n",
            "Requirement already satisfied: pyparsing>=2.0.3 in /usr/local/lib/python3.11/dist-packages (from clearml) (3.2.3)\n",
            "Requirement already satisfied: python-dateutil>=2.6.1 in /usr/local/lib/python3.11/dist-packages (from clearml) (2.9.0.post0)\n",
            "Requirement already satisfied: PyYAML>=3.12 in /usr/local/lib/python3.11/dist-packages (from clearml) (6.0.2)\n",
            "Requirement already satisfied: requests>=2.20.0 in /usr/local/lib/python3.11/dist-packages (from clearml) (2.32.3)\n",
            "Requirement already satisfied: six>=1.16.0 in /usr/local/lib/python3.11/dist-packages (from clearml) (1.17.0)\n",
            "Requirement already satisfied: urllib3>=1.21.1 in /usr/local/lib/python3.11/dist-packages (from clearml) (2.4.0)\n",
            "Requirement already satisfied: pyjwt<2.10.0,>=2.4.0 in /usr/local/lib/python3.11/dist-packages (from clearml) (2.9.0)\n",
            "Requirement already satisfied: referencing<0.40 in /usr/local/lib/python3.11/dist-packages (from clearml) (0.36.2)\n",
            "Requirement already satisfied: orderedmultidict>=1.0.1 in /usr/local/lib/python3.11/dist-packages (from furl>=2.0.0->clearml) (1.0.1)\n",
            "Requirement already satisfied: jsonschema-specifications>=2023.03.6 in /usr/local/lib/python3.11/dist-packages (from jsonschema>=2.6.0->clearml) (2025.4.1)\n",
            "Requirement already satisfied: rpds-py>=0.7.1 in /usr/local/lib/python3.11/dist-packages (from jsonschema>=2.6.0->clearml) (0.24.0)\n",
            "Requirement already satisfied: typing-extensions>=4.4.0 in /usr/local/lib/python3.11/dist-packages (from referencing<0.40->clearml) (4.13.2)\n",
            "Requirement already satisfied: charset-normalizer<4,>=2 in /usr/local/lib/python3.11/dist-packages (from requests>=2.20.0->clearml) (3.4.1)\n",
            "Requirement already satisfied: idna<4,>=2.5 in /usr/local/lib/python3.11/dist-packages (from requests>=2.20.0->clearml) (3.10)\n",
            "Requirement already satisfied: certifi>=2017.4.17 in /usr/local/lib/python3.11/dist-packages (from requests>=2.20.0->clearml) (2025.4.26)\n"
          ]
        }
      ]
    },
    {
      "cell_type": "code",
      "source": [
        "!clearml-init"
      ],
      "metadata": {
        "colab": {
          "base_uri": "https://localhost:8080/"
        },
        "id": "UeIQ9XzvC1vp",
        "outputId": "28b87d85-a6ab-4a64-bbfb-0b49ba1e5c96"
      },
      "execution_count": null,
      "outputs": [
        {
          "output_type": "stream",
          "name": "stdout",
          "text": [
            "ClearML SDK setup process\n",
            "Configuration file already exists: /root/clearml.conf\n",
            "Leaving setup, feel free to edit the configuration file.\n"
          ]
        }
      ]
    },
    {
      "cell_type": "code",
      "source": [
        "!python /content/yiming/step1_dataset_artifact.py"
      ],
      "metadata": {
        "colab": {
          "base_uri": "https://localhost:8080/"
        },
        "id": "CvovePnyp7SS",
        "outputId": "ceda7fa0-34eb-4c99-8e00-6f014b4725f8"
      },
      "execution_count": null,
      "outputs": [
        {
          "output_type": "stream",
          "name": "stdout",
          "text": [
            "ClearML Task: created new task id=19baa4c44bf840a789ba158334aebbc6\n",
            "2025-05-03 20:24:55.007671: E external/local_xla/xla/stream_executor/cuda/cuda_fft.cc:477] Unable to register cuFFT factory: Attempting to register factory for plugin cuFFT when one has already been registered\n",
            "WARNING: All log messages before absl::InitializeLog() is called are written to STDERR\n",
            "E0000 00:00:1746303895.027231    9048 cuda_dnn.cc:8310] Unable to register cuDNN factory: Attempting to register factory for plugin cuDNN when one has already been registered\n",
            "E0000 00:00:1746303895.033310    9048 cuda_blas.cc:1418] Unable to register cuBLAS factory: Attempting to register factory for plugin cuBLAS when one has already been registered\n",
            "2025-05-03 20:24:55.052794: I tensorflow/core/platform/cpu_feature_guard.cc:210] This TensorFlow binary is optimized to use available CPU instructions in performance-critical operations.\n",
            "To enable the following instructions: AVX2 FMA, in other operations, rebuild TensorFlow with the appropriate compiler flags.\n",
            "ClearML results page: https://app.clear.ml/projects/2f3ca10377a544f7a1e06f4440fd0203/experiments/19baa4c44bf840a789ba158334aebbc6/output/log\n",
            "🔍 Loading Dataset: Pest Image Dataset vv1.0\n",
            "2025-05-03 20:24:59,074 - clearml - INFO - Dataset.get() did not specify alias. Dataset information will not be automatically logged in ClearML Server.\n",
            "✅ Dataset retrieved, local path: /root/.clearml/cache/storage_manager/datasets/ds_cfb7ab80bbf648588080c5e1e62a7f87\n",
            "📁 'train' directory detected: /root/.clearml/cache/storage_manager/datasets/ds_cfb7ab80bbf648588080c5e1e62a7f87/train\n",
            "✅ Successfully uploaded artifact: image_dataset_dir ✅\n",
            "2025-05-03 20:26:40,785 - clearml.storage - INFO - Uploading: 1365.33MB to /tmp/ds_cfb7ab80bbf648588080c5e1e62a7f87.ce9sw2nf.zip\n",
            "██████████████████████▊      85% | 1155.00/1365.33 MB [01:23<00:15, 13.79MB/s]: ClearML Monitor: Could not detect iteration reporting, falling back to iterations as seconds-from-start\n",
            "██████████████████████████▉ 100% | 1365.33/1365.33 MB [01:52<00:00, 12.10MB/s]: \n"
          ]
        }
      ]
    },
    {
      "cell_type": "code",
      "source": [
        "!python /content/yiming/step2_data_preprocessing.py"
      ],
      "metadata": {
        "colab": {
          "base_uri": "https://localhost:8080/"
        },
        "id": "Cih2Vt-Np-H4",
        "outputId": "890ee93b-5057-400f-9c3d-e40d4ddc7130"
      },
      "execution_count": null,
      "outputs": [
        {
          "output_type": "stream",
          "name": "stdout",
          "text": [
            "2025-05-03 20:31:05.381026: E external/local_xla/xla/stream_executor/cuda/cuda_fft.cc:477] Unable to register cuFFT factory: Attempting to register factory for plugin cuFFT when one has already been registered\n",
            "WARNING: All log messages before absl::InitializeLog() is called are written to STDERR\n",
            "E0000 00:00:1746304265.401242   10779 cuda_dnn.cc:8310] Unable to register cuDNN factory: Attempting to register factory for plugin cuDNN when one has already been registered\n",
            "E0000 00:00:1746304265.407534   10779 cuda_blas.cc:1418] Unable to register cuBLAS factory: Attempting to register factory for plugin cuBLAS when one has already been registered\n",
            "2025-05-03 20:31:05.427656: I tensorflow/core/platform/cpu_feature_guard.cc:210] This TensorFlow binary is optimized to use available CPU instructions in performance-critical operations.\n",
            "To enable the following instructions: AVX2 FMA, in other operations, rebuild TensorFlow with the appropriate compiler flags.\n",
            "ClearML Task: created new task id=5eb86e27ce1f44da9b2386f33abbb1ce\n",
            "ClearML results page: https://app.clear.ml/projects/dff39841e6c5453e90e8365dd7a56b7e/experiments/5eb86e27ce1f44da9b2386f33abbb1ce/output/log\n",
            "2025-05-03 20:31:23,420 - clearml.storage - INFO - Downloading: 1365.33MB from https://files.clear.ml/examples/Step%201%20-%20Load%20Uncompressed%20Pest%20Image%20Dataset.19baa4c44bf840a789ba158334aebbc6/artifacts/image_dataset_dir/ds_cfb7ab80bbf648588080c5e1e62a7f87.zip\n",
            "███████████████████████████ 100% | 1365.33/1365.33 MB [01:11<00:00, 19.21MB/s]: \n",
            "2025-05-03 20:32:34,496 - clearml.storage - INFO - Downloaded 1365.33 MB successfully from https://files.clear.ml/examples/Step%201%20-%20Load%20Uncompressed%20Pest%20Image%20Dataset.19baa4c44bf840a789ba158334aebbc6/artifacts/image_dataset_dir/ds_cfb7ab80bbf648588080c5e1e62a7f87.zip , saved to /root/.clearml/cache/storage_manager/global/f4a59df2ec3b90a1c324582a1ffecca5.ds_cfb7ab80bbf648588080c5e1e62a7f87.zip\n",
            "✅ Preprocessing complete. 5 .npy files uploaded as artifacts, ready for Step 3.\n",
            "2025-05-03 20:33:03,417 - clearml.storage - INFO - Uploading: 91.88MB to /content/yiming/X_test.npy\n",
            "                                           0% | 0.00/91.88 MB [00:00<?, ?MB/s]: 2025-05-03 20:33:03,422 - clearml.storage - INFO - Uploading: 366.94MB to /content/yiming/X_train.npy\n",
            "\n",
            "███▎                             11% | 10.00/91.88 MB [00:00<00:02, 27.57MB/s]: \n",
            "█████                            16% | 15.00/91.88 MB [00:00<00:03, 19.80MB/s]: \n",
            "██████▋                          22% | 20.00/91.88 MB [00:01<00:04, 17.25MB/s]: \n",
            "████████▍                        27% | 25.00/91.88 MB [00:01<00:04, 16.04MB/s]: \n",
            "██████████                       33% | 30.00/91.88 MB [00:01<00:04, 15.38MB/s]: \n",
            "███████████▊                     38% | 35.00/91.88 MB [00:02<00:03, 14.97MB/s]: \n",
            "██▊                             10% | 35.00/366.94 MB [00:02<00:22, 14.99MB/s]: \u001b[A\n",
            "█████████████▍                   44% | 40.00/91.88 MB [00:02<00:03, 14.70MB/s]: \n",
            "███████████████▏                 49% | 45.00/91.88 MB [00:02<00:03, 14.54MB/s]: \n",
            "████████████████▊                54% | 50.00/91.88 MB [00:03<00:02, 14.38MB/s]: \n",
            "██████████████████▌              60% | 55.00/91.88 MB [00:03<00:02, 14.33MB/s]: \n",
            "████████████████████▏            65% | 60.00/91.88 MB [00:03<00:02, 14.30MB/s]: \n",
            "█████████████████████▉           71% | 65.00/91.88 MB [00:04<00:01, 14.27MB/s]: \n",
            "███████████████████████▌         76% | 70.00/91.88 MB [00:04<00:01, 14.26MB/s]: \n",
            "█████████████████████████▎       82% | 75.00/91.88 MB [00:04<00:01, 14.25MB/s]: \n",
            "██████████████████████████▉      87% | 80.00/91.88 MB [00:05<00:00, 14.24MB/s]: \n",
            "████████████████████████████▋    93% | 85.00/91.88 MB [00:05<00:00, 14.24MB/s]: \n",
            "███████████████████████████████ 100% | 91.88/91.88 MB [00:06<00:00, 13.84MB/s]: \n",
            "███████▊                        26% | 95.00/366.94 MB [00:06<00:19, 14.23MB/s]: \u001b[A/usr/local/lib/python3.11/dist-packages/tqdm/std.py:636: TqdmWarning:\n",
            "\n",
            "clamping frac to range [0, 1]\n",
            "\n",
            "███████████████████████████████ 100% | 91.89/91.88 MB [00:06<00:00, 13.73MB/s]: \n",
            "\n",
            "███████▉                       27% | 100.00/366.94 MB [00:06<00:18, 14.23MB/s]: \u001b[A\n",
            "████████▎                      29% | 105.00/366.94 MB [00:07<00:18, 14.23MB/s]: \u001b[A\n",
            "████████▋                      30% | 110.00/366.94 MB [00:07<00:18, 14.24MB/s]: \u001b[A\n",
            "█████████                      31% | 115.00/366.94 MB [00:07<00:17, 14.24MB/s]: \u001b[A\n",
            "█████████▍                     33% | 120.00/366.94 MB [00:08<00:17, 14.24MB/s]: \u001b[A\n",
            "█████████▉                     34% | 125.00/366.94 MB [00:08<00:16, 14.24MB/s]: \u001b[A\n",
            "██████████▎                    35% | 130.00/366.94 MB [00:08<00:16, 14.24MB/s]: \u001b[A\n",
            "██████████▋                    37% | 135.00/366.94 MB [00:09<00:16, 14.24MB/s]: \u001b[A\n",
            "███████████                    38% | 140.00/366.94 MB [00:09<00:15, 14.24MB/s]: \u001b[A\n",
            "███████████▍                   40% | 145.00/366.94 MB [00:09<00:17, 12.79MB/s]: \u001b[A\n",
            "███████████▊                   41% | 150.00/366.94 MB [00:10<00:16, 13.20MB/s]: \u001b[A\n",
            "████████████▏                  42% | 155.00/366.94 MB [00:10<00:15, 13.49MB/s]: \u001b[A\n",
            "████████████▋                  44% | 160.00/366.94 MB [00:11<00:15, 13.71MB/s]: \u001b[A\n",
            "█████████████                  45% | 165.00/366.94 MB [00:11<00:14, 13.86MB/s]: \u001b[A\n",
            "█████████████▍                 46% | 170.00/366.94 MB [00:11<00:14, 13.97MB/s]: \u001b[A\n",
            "█████████████▊                 48% | 175.00/366.94 MB [00:12<00:13, 14.04MB/s]: \u001b[A\n",
            "██████████████▏                49% | 180.00/366.94 MB [00:12<00:13, 14.10MB/s]: \u001b[A\n",
            "██████████████▌                50% | 185.00/366.94 MB [00:12<00:12, 14.14MB/s]: \u001b[A\n",
            "███████████████                52% | 190.00/366.94 MB [00:13<00:12, 14.16MB/s]: \u001b[A\n",
            "███████████████▍               53% | 195.00/366.94 MB [00:13<00:12, 14.19MB/s]: \u001b[A\n",
            "███████████████▊               55% | 200.00/366.94 MB [00:13<00:11, 14.20MB/s]: \u001b[A\n",
            "████████████████▏              56% | 205.00/366.94 MB [00:14<00:11, 14.21MB/s]: \u001b[A\n",
            "████████████████▌              57% | 210.00/366.94 MB [00:14<00:11, 14.22MB/s]: \u001b[A\n",
            "████████████████▉              59% | 215.00/366.94 MB [00:14<00:10, 14.23MB/s]: \u001b[A\n",
            "█████████████████▍             60% | 220.00/366.94 MB [00:15<00:10, 14.23MB/s]: \u001b[A\n",
            "█████████████████▊             61% | 225.00/366.94 MB [00:15<00:09, 14.23MB/s]: \u001b[A\n",
            "██████████████████▏            63% | 230.00/366.94 MB [00:15<00:09, 14.23MB/s]: \u001b[A\n",
            "██████████████████▌            64% | 235.00/366.94 MB [00:16<00:09, 14.23MB/s]: \u001b[A\n",
            "██████████████████▉            65% | 240.00/366.94 MB [00:16<00:08, 14.23MB/s]: \u001b[A\n",
            "███████████████████▎           67% | 245.00/366.94 MB [00:17<00:08, 14.20MB/s]: \u001b[A\n",
            "███████████████████▊           68% | 250.00/366.94 MB [00:17<00:08, 14.22MB/s]: \u001b[A\n",
            "████████████████████▏          69% | 255.00/366.94 MB [00:17<00:07, 14.23MB/s]: \u001b[A\n",
            "████████████████████▌          71% | 260.00/366.94 MB [00:18<00:07, 14.23MB/s]: \u001b[A\n",
            "████████████████████▉          72% | 265.00/366.94 MB [00:18<00:07, 14.24MB/s]: \u001b[A\n",
            "█████████████████████▎         74% | 270.00/366.94 MB [00:18<00:06, 14.24MB/s]: \u001b[A\n",
            "█████████████████████▋         75% | 275.00/366.94 MB [00:19<00:06, 14.24MB/s]: \u001b[A\n",
            "██████████████████████▏        76% | 280.00/366.94 MB [00:19<00:06, 14.24MB/s]: \u001b[A\n",
            "██████████████████████▌        78% | 285.00/366.94 MB [00:19<00:05, 14.24MB/s]: \u001b[A\n",
            "██████████████████████▉        79% | 290.00/366.94 MB [00:20<00:05, 14.24MB/s]: \u001b[A\n",
            "███████████████████████▎       80% | 295.00/366.94 MB [00:20<00:05, 14.24MB/s]: \u001b[A\n",
            "███████████████████████▋       82% | 300.00/366.94 MB [00:20<00:04, 14.23MB/s]: \u001b[A\n",
            "████████████████████████       83% | 305.00/366.94 MB [00:21<00:04, 14.23MB/s]: \u001b[A\n",
            "████████████████████████▍      84% | 310.00/366.94 MB [00:21<00:03, 14.24MB/s]: \u001b[A\n",
            "████████████████████████▉      86% | 315.00/366.94 MB [00:21<00:03, 14.24MB/s]: \u001b[A\n",
            "█████████████████████████▎     87% | 320.00/366.94 MB [00:22<00:03, 14.24MB/s]: \u001b[A\n",
            "█████████████████████████▋     89% | 325.00/366.94 MB [00:22<00:02, 14.24MB/s]: \u001b[A\n",
            "██████████████████████████     90% | 330.00/366.94 MB [00:22<00:02, 14.23MB/s]: \u001b[A\n",
            "██████████████████████████▍    91% | 335.00/366.94 MB [00:23<00:02, 14.24MB/s]: \u001b[A\n",
            "██████████████████████████▊    93% | 340.00/366.94 MB [00:23<00:01, 14.24MB/s]: \u001b[A\n",
            "███████████████████████████▎   94% | 345.00/366.94 MB [00:24<00:01, 14.24MB/s]: \u001b[A\n",
            "███████████████████████████▋   95% | 350.00/366.94 MB [00:24<00:01, 14.24MB/s]: \u001b[A\n",
            "████████████████████████████   97% | 355.00/366.94 MB [00:24<00:00, 14.24MB/s]: \u001b[A\n",
            "████████████████████████████▍  98% | 360.00/366.94 MB [00:25<00:00, 14.24MB/s]: \u001b[A\n",
            "████████████████████████████▊  99% | 365.00/366.94 MB [00:25<00:00, 14.24MB/s]: \u001b[A\n",
            "█████████████████████████████ 100% | 366.94/366.94 MB [00:25<00:00, 13.74MB/s]: \u001b[A/usr/local/lib/python3.11/dist-packages/tqdm/std.py:636: TqdmWarning:\n",
            "\n",
            "clamping frac to range [0, 1]\n",
            "\n",
            "█████████████████████████████ 100% | 366.94/366.94 MB [00:28<00:00, 12.75MB/s]: \n"
          ]
        }
      ]
    },
    {
      "cell_type": "code",
      "source": [
        "!python /content/yiming/step3_train_model.py"
      ],
      "metadata": {
        "colab": {
          "base_uri": "https://localhost:8080/"
        },
        "id": "ajK0jyziqk-Z",
        "outputId": "07b5d84e-06c0-4d71-ea32-32910ca8e6fe"
      },
      "execution_count": null,
      "outputs": [
        {
          "output_type": "stream",
          "name": "stdout",
          "text": [
            "2025-05-03 20:36:16.018860: E external/local_xla/xla/stream_executor/cuda/cuda_fft.cc:477] Unable to register cuFFT factory: Attempting to register factory for plugin cuFFT when one has already been registered\n",
            "WARNING: All log messages before absl::InitializeLog() is called are written to STDERR\n",
            "E0000 00:00:1746304576.038873   12303 cuda_dnn.cc:8310] Unable to register cuDNN factory: Attempting to register factory for plugin cuDNN when one has already been registered\n",
            "E0000 00:00:1746304576.045099   12303 cuda_blas.cc:1418] Unable to register cuBLAS factory: Attempting to register factory for plugin cuBLAS when one has already been registered\n",
            "2025-05-03 20:36:16.064989: I tensorflow/core/platform/cpu_feature_guard.cc:210] This TensorFlow binary is optimized to use available CPU instructions in performance-critical operations.\n",
            "To enable the following instructions: AVX2 FMA, in other operations, rebuild TensorFlow with the appropriate compiler flags.\n",
            "ClearML Task: overwriting (reusing) task id=853aa22ec66d443097cd865d42b8df80\n",
            "ClearML results page: https://app.clear.ml/projects/dff39841e6c5453e90e8365dd7a56b7e/experiments/853aa22ec66d443097cd865d42b8df80/output/log\n",
            "/usr/local/lib/python3.11/dist-packages/keras/src/layers/convolutional/base_conv.py:107: UserWarning:\n",
            "\n",
            "Do not pass an `input_shape`/`input_dim` argument to a layer. When using Sequential models, prefer using an `Input(shape)` object as the first layer in the model instead.\n",
            "\n",
            "2025-05-03 20:36:34.414395: E external/local_xla/xla/stream_executor/cuda/cuda_driver.cc:152] failed call to cuInit: INTERNAL: CUDA error: Failed call to cuInit: CUDA_ERROR_NO_DEVICE: no CUDA-capable device is detected\n",
            "2025-05-03 20:36:34.414442: I external/local_xla/xla/stream_executor/cuda/cuda_diagnostics.cc:137] retrieving CUDA diagnostic information for host: e15cef437200\n",
            "2025-05-03 20:36:34.414452: I external/local_xla/xla/stream_executor/cuda/cuda_diagnostics.cc:144] hostname: e15cef437200\n",
            "2025-05-03 20:36:34.414537: I external/local_xla/xla/stream_executor/cuda/cuda_diagnostics.cc:168] libcuda reported version is: 550.54.15\n",
            "2025-05-03 20:36:34.414570: I external/local_xla/xla/stream_executor/cuda/cuda_diagnostics.cc:172] kernel reported version is: 550.54.15\n",
            "2025-05-03 20:36:34.414580: I external/local_xla/xla/stream_executor/cuda/cuda_diagnostics.cc:259] kernel version seems to match DSO: 550.54.15\n",
            "2025-05-03 20:36:35.039619: W external/local_xla/xla/tsl/framework/cpu_allocator_impl.cc:83] Allocation of 384761856 exceeds 10% of free system memory.\n",
            "Epoch 1/10\n",
            "2025-05-03 20:36:37.210576: W external/local_xla/xla/tsl/framework/cpu_allocator_impl.cc:83] Allocation of 268435456 exceeds 10% of free system memory.\n",
            "2025-05-03 20:36:37.348769: W external/local_xla/xla/tsl/framework/cpu_allocator_impl.cc:83] Allocation of 268435456 exceeds 10% of free system memory.\n",
            "2025-05-03 20:36:39.230518: W external/local_xla/xla/tsl/framework/cpu_allocator_impl.cc:83] Allocation of 268435456 exceeds 10% of free system memory.\n",
            "2025-05-03 20:36:39.426178: W external/local_xla/xla/tsl/framework/cpu_allocator_impl.cc:83] Allocation of 268435456 exceeds 10% of free system memory.\n",
            "\u001b[1m62/62\u001b[0m \u001b[32m━━━━━━━━━━━━━━━━━━━━\u001b[0m\u001b[37m\u001b[0m \u001b[1m0s\u001b[0m 3s/step - accuracy: 0.5833 - loss: 2.0873ClearML Monitor: Could not detect iteration reporting, falling back to iterations as seconds-from-start\n",
            "\u001b[1m62/62\u001b[0m \u001b[32m━━━━━━━━━━━━━━━━━━━━\u001b[0m\u001b[37m\u001b[0m \u001b[1m194s\u001b[0m 3s/step - accuracy: 0.5853 - loss: 2.0743 - val_accuracy: 0.8184 - val_loss: 0.5405\n",
            "Epoch 2/10\n",
            "\u001b[1m62/62\u001b[0m \u001b[32m━━━━━━━━━━━━━━━━━━━━\u001b[0m\u001b[37m\u001b[0m \u001b[1m191s\u001b[0m 3s/step - accuracy: 0.8490 - loss: 0.5495 - val_accuracy: 0.8837 - val_loss: 0.3217\n",
            "Epoch 3/10\n",
            "\u001b[1m62/62\u001b[0m \u001b[32m━━━━━━━━━━━━━━━━━━━━\u001b[0m\u001b[37m\u001b[0m \u001b[1m191s\u001b[0m 3s/step - accuracy: 0.8921 - loss: 0.3370 - val_accuracy: 0.9143 - val_loss: 0.2580\n",
            "Epoch 4/10\n",
            "\u001b[1m62/62\u001b[0m \u001b[32m━━━━━━━━━━━━━━━━━━━━\u001b[0m\u001b[37m\u001b[0m \u001b[1m191s\u001b[0m 3s/step - accuracy: 0.9084 - loss: 0.2818 - val_accuracy: 0.9122 - val_loss: 0.2736\n",
            "Epoch 5/10\n",
            "\u001b[1m62/62\u001b[0m \u001b[32m━━━━━━━━━━━━━━━━━━━━\u001b[0m\u001b[37m\u001b[0m \u001b[1m199s\u001b[0m 3s/step - accuracy: 0.9317 - loss: 0.2231 - val_accuracy: 0.9490 - val_loss: 0.1882\n",
            "Epoch 6/10\n",
            "\u001b[1m62/62\u001b[0m \u001b[32m━━━━━━━━━━━━━━━━━━━━\u001b[0m\u001b[37m\u001b[0m \u001b[1m191s\u001b[0m 3s/step - accuracy: 0.9602 - loss: 0.1437 - val_accuracy: 0.9612 - val_loss: 0.1667\n",
            "Epoch 7/10\n",
            "\u001b[1m62/62\u001b[0m \u001b[32m━━━━━━━━━━━━━━━━━━━━\u001b[0m\u001b[37m\u001b[0m \u001b[1m199s\u001b[0m 3s/step - accuracy: 0.9532 - loss: 0.1947 - val_accuracy: 0.9571 - val_loss: 0.1717\n",
            "Epoch 8/10\n",
            "\u001b[1m62/62\u001b[0m \u001b[32m━━━━━━━━━━━━━━━━━━━━\u001b[0m\u001b[37m\u001b[0m \u001b[1m190s\u001b[0m 3s/step - accuracy: 0.9662 - loss: 0.1169 - val_accuracy: 0.9592 - val_loss: 0.1635\n",
            "Epoch 9/10\n",
            "\u001b[1m62/62\u001b[0m \u001b[32m━━━━━━━━━━━━━━━━━━━━\u001b[0m\u001b[37m\u001b[0m \u001b[1m191s\u001b[0m 3s/step - accuracy: 0.9216 - loss: 0.2055 - val_accuracy: 0.9551 - val_loss: 0.1668\n",
            "Epoch 10/10\n",
            "\u001b[1m62/62\u001b[0m \u001b[32m━━━━━━━━━━━━━━━━━━━━\u001b[0m\u001b[37m\u001b[0m \u001b[1m190s\u001b[0m 3s/step - accuracy: 0.9644 - loss: 0.1463 - val_accuracy: 0.9612 - val_loss: 0.1605\n",
            "WARNING:absl:You are saving your model as an HDF5 file via `model.save()` or `keras.saving.save_model(model)`. This file format is considered legacy. We recommend using instead the native Keras format, e.g. `model.save('my_model.keras')` or `keras.saving.save_model(model, 'my_model.keras')`. \n",
            "2025-05-03 21:08:42,077 - clearml.frameworks - INFO - Found existing registered model id=bc3ec723d5884f189af32147096ed24f [/content/yiming/cnn_model.h5] reusing it.\n",
            "\u001b[1m16/16\u001b[0m \u001b[32m━━━━━━━━━━━━━━━━━━━━\u001b[0m\u001b[37m\u001b[0m \u001b[1m13s\u001b[0m 785ms/step\n",
            "/usr/local/lib/python3.11/dist-packages/sklearn/metrics/_classification.py:1509: UndefinedMetricWarning:\n",
            "\n",
            "Precision is ill-defined and being set to 0.0 in labels with no predicted samples. Use `zero_division` parameter to control this behavior.\n",
            "\n",
            "Accuracy  : 96.12%\n",
            "Precision : 62.22%\n",
            "Recall    : 61.03%\n",
            "✅ Model training completed. Metrics printed, model and plots uploaded to ClearML.\n"
          ]
        }
      ]
    },
    {
      "cell_type": "code",
      "source": [
        "ls"
      ],
      "metadata": {
        "colab": {
          "base_uri": "https://localhost:8080/"
        },
        "id": "rmrTXLS5r8AR",
        "outputId": "0b1a5a6d-9e70-4a47-ce5c-ba65e624d995"
      },
      "execution_count": null,
      "outputs": [
        {
          "output_type": "stream",
          "name": "stdout",
          "text": [
            " accuracy_curve.png      'Sprint_1_(POC).ipynb'\n",
            " cnn_model.h5             step1_dataset_artifact.py\n",
            " Code.docx               'step1_dataset_artifact(R).py'\n",
            " Dataset.docx             step2_data_preprocessing.py\n",
            " label2id.npy            'step2_data_preprocessing(R).py'\n",
            " Libraries                step3_train_model.py\n",
            " loss_curve.png          'step3_train_model(R).py'\n",
            " main.py                  task_hpo.py\n",
            " pipeline_from_tasks.py   X_test.npy\n",
            " README.md                X_train.npy\n",
            " requirements.txt         y_test.npy\n",
            "'Sprint 1 (POC) Code'     y_train.npy\n"
          ]
        }
      ]
    },
    {
      "cell_type": "code",
      "source": [
        "!pip install -r /content/yiming/requirements.txt"
      ],
      "metadata": {
        "colab": {
          "base_uri": "https://localhost:8080/"
        },
        "id": "ep4Sa7bVsCBv",
        "outputId": "1b595caa-b9ea-465c-9c94-954ffa14284a"
      },
      "execution_count": null,
      "outputs": [
        {
          "output_type": "stream",
          "name": "stdout",
          "text": [
            "Requirement already satisfied: clearml==1.18.0 in /usr/local/lib/python3.11/dist-packages (from -r /content/yiming/requirements.txt (line 1)) (1.18.0)\n",
            "Requirement already satisfied: matplotlib==3.7.1 in /usr/local/lib/python3.11/dist-packages (from -r /content/yiming/requirements.txt (line 2)) (3.7.1)\n",
            "Requirement already satisfied: numpy==1.25.0 in /usr/local/lib/python3.11/dist-packages (from -r /content/yiming/requirements.txt (line 3)) (1.25.0)\n",
            "Requirement already satisfied: pandas==1.5.3 in /usr/local/lib/python3.11/dist-packages (from -r /content/yiming/requirements.txt (line 4)) (1.5.3)\n",
            "Requirement already satisfied: scikit_learn==1.4.2 in /usr/local/lib/python3.11/dist-packages (from -r /content/yiming/requirements.txt (line 5)) (1.4.2)\n",
            "Requirement already satisfied: torch==2.3.1 in /usr/local/lib/python3.11/dist-packages (from -r /content/yiming/requirements.txt (line 6)) (2.3.1)\n",
            "Requirement already satisfied: optuna==4.3.0 in /usr/local/lib/python3.11/dist-packages (from -r /content/yiming/requirements.txt (line 7)) (4.3.0)\n",
            "Requirement already satisfied: attrs>=18.0 in /usr/local/lib/python3.11/dist-packages (from clearml==1.18.0->-r /content/yiming/requirements.txt (line 1)) (25.3.0)\n",
            "Requirement already satisfied: furl>=2.0.0 in /usr/local/lib/python3.11/dist-packages (from clearml==1.18.0->-r /content/yiming/requirements.txt (line 1)) (2.1.4)\n",
            "Requirement already satisfied: jsonschema>=2.6.0 in /usr/local/lib/python3.11/dist-packages (from clearml==1.18.0->-r /content/yiming/requirements.txt (line 1)) (4.23.0)\n",
            "Requirement already satisfied: pathlib2>=2.3.0 in /usr/local/lib/python3.11/dist-packages (from clearml==1.18.0->-r /content/yiming/requirements.txt (line 1)) (2.3.7.post1)\n",
            "Requirement already satisfied: Pillow>=4.1.1 in /usr/local/lib/python3.11/dist-packages (from clearml==1.18.0->-r /content/yiming/requirements.txt (line 1)) (11.2.1)\n",
            "Requirement already satisfied: psutil>=3.4.2 in /usr/local/lib/python3.11/dist-packages (from clearml==1.18.0->-r /content/yiming/requirements.txt (line 1)) (5.9.5)\n",
            "Requirement already satisfied: pyparsing>=2.0.3 in /usr/local/lib/python3.11/dist-packages (from clearml==1.18.0->-r /content/yiming/requirements.txt (line 1)) (3.2.3)\n",
            "Requirement already satisfied: python-dateutil>=2.6.1 in /usr/local/lib/python3.11/dist-packages (from clearml==1.18.0->-r /content/yiming/requirements.txt (line 1)) (2.9.0.post0)\n",
            "Requirement already satisfied: PyYAML>=3.12 in /usr/local/lib/python3.11/dist-packages (from clearml==1.18.0->-r /content/yiming/requirements.txt (line 1)) (6.0.2)\n",
            "Requirement already satisfied: requests>=2.20.0 in /usr/local/lib/python3.11/dist-packages (from clearml==1.18.0->-r /content/yiming/requirements.txt (line 1)) (2.32.3)\n",
            "Requirement already satisfied: six>=1.16.0 in /usr/local/lib/python3.11/dist-packages (from clearml==1.18.0->-r /content/yiming/requirements.txt (line 1)) (1.17.0)\n",
            "Requirement already satisfied: urllib3>=1.21.1 in /usr/local/lib/python3.11/dist-packages (from clearml==1.18.0->-r /content/yiming/requirements.txt (line 1)) (2.4.0)\n",
            "Requirement already satisfied: pyjwt<2.10.0,>=2.4.0 in /usr/local/lib/python3.11/dist-packages (from clearml==1.18.0->-r /content/yiming/requirements.txt (line 1)) (2.9.0)\n",
            "Requirement already satisfied: referencing<0.40 in /usr/local/lib/python3.11/dist-packages (from clearml==1.18.0->-r /content/yiming/requirements.txt (line 1)) (0.36.2)\n",
            "Requirement already satisfied: contourpy>=1.0.1 in /usr/local/lib/python3.11/dist-packages (from matplotlib==3.7.1->-r /content/yiming/requirements.txt (line 2)) (1.3.2)\n",
            "Requirement already satisfied: cycler>=0.10 in /usr/local/lib/python3.11/dist-packages (from matplotlib==3.7.1->-r /content/yiming/requirements.txt (line 2)) (0.12.1)\n",
            "Requirement already satisfied: fonttools>=4.22.0 in /usr/local/lib/python3.11/dist-packages (from matplotlib==3.7.1->-r /content/yiming/requirements.txt (line 2)) (4.57.0)\n",
            "Requirement already satisfied: kiwisolver>=1.0.1 in /usr/local/lib/python3.11/dist-packages (from matplotlib==3.7.1->-r /content/yiming/requirements.txt (line 2)) (1.4.8)\n",
            "Requirement already satisfied: packaging>=20.0 in /usr/local/lib/python3.11/dist-packages (from matplotlib==3.7.1->-r /content/yiming/requirements.txt (line 2)) (24.2)\n",
            "Requirement already satisfied: pytz>=2020.1 in /usr/local/lib/python3.11/dist-packages (from pandas==1.5.3->-r /content/yiming/requirements.txt (line 4)) (2025.2)\n",
            "Requirement already satisfied: scipy>=1.6.0 in /usr/local/lib/python3.11/dist-packages (from scikit_learn==1.4.2->-r /content/yiming/requirements.txt (line 5)) (1.15.2)\n",
            "Requirement already satisfied: joblib>=1.2.0 in /usr/local/lib/python3.11/dist-packages (from scikit_learn==1.4.2->-r /content/yiming/requirements.txt (line 5)) (1.4.2)\n",
            "Requirement already satisfied: threadpoolctl>=2.0.0 in /usr/local/lib/python3.11/dist-packages (from scikit_learn==1.4.2->-r /content/yiming/requirements.txt (line 5)) (3.6.0)\n",
            "Requirement already satisfied: filelock in /usr/local/lib/python3.11/dist-packages (from torch==2.3.1->-r /content/yiming/requirements.txt (line 6)) (3.18.0)\n",
            "Requirement already satisfied: typing-extensions>=4.8.0 in /usr/local/lib/python3.11/dist-packages (from torch==2.3.1->-r /content/yiming/requirements.txt (line 6)) (4.13.2)\n",
            "Requirement already satisfied: sympy in /usr/local/lib/python3.11/dist-packages (from torch==2.3.1->-r /content/yiming/requirements.txt (line 6)) (1.13.1)\n",
            "Requirement already satisfied: networkx in /usr/local/lib/python3.11/dist-packages (from torch==2.3.1->-r /content/yiming/requirements.txt (line 6)) (3.4.2)\n",
            "Requirement already satisfied: jinja2 in /usr/local/lib/python3.11/dist-packages (from torch==2.3.1->-r /content/yiming/requirements.txt (line 6)) (3.1.6)\n",
            "Requirement already satisfied: fsspec in /usr/local/lib/python3.11/dist-packages (from torch==2.3.1->-r /content/yiming/requirements.txt (line 6)) (2025.3.2)\n",
            "Requirement already satisfied: nvidia-cuda-nvrtc-cu12==12.1.105 in /usr/local/lib/python3.11/dist-packages (from torch==2.3.1->-r /content/yiming/requirements.txt (line 6)) (12.1.105)\n",
            "Requirement already satisfied: nvidia-cuda-runtime-cu12==12.1.105 in /usr/local/lib/python3.11/dist-packages (from torch==2.3.1->-r /content/yiming/requirements.txt (line 6)) (12.1.105)\n",
            "Requirement already satisfied: nvidia-cuda-cupti-cu12==12.1.105 in /usr/local/lib/python3.11/dist-packages (from torch==2.3.1->-r /content/yiming/requirements.txt (line 6)) (12.1.105)\n",
            "Requirement already satisfied: nvidia-cudnn-cu12==8.9.2.26 in /usr/local/lib/python3.11/dist-packages (from torch==2.3.1->-r /content/yiming/requirements.txt (line 6)) (8.9.2.26)\n",
            "Requirement already satisfied: nvidia-cublas-cu12==12.1.3.1 in /usr/local/lib/python3.11/dist-packages (from torch==2.3.1->-r /content/yiming/requirements.txt (line 6)) (12.1.3.1)\n",
            "Requirement already satisfied: nvidia-cufft-cu12==11.0.2.54 in /usr/local/lib/python3.11/dist-packages (from torch==2.3.1->-r /content/yiming/requirements.txt (line 6)) (11.0.2.54)\n",
            "Requirement already satisfied: nvidia-curand-cu12==10.3.2.106 in /usr/local/lib/python3.11/dist-packages (from torch==2.3.1->-r /content/yiming/requirements.txt (line 6)) (10.3.2.106)\n",
            "Requirement already satisfied: nvidia-cusolver-cu12==11.4.5.107 in /usr/local/lib/python3.11/dist-packages (from torch==2.3.1->-r /content/yiming/requirements.txt (line 6)) (11.4.5.107)\n",
            "Requirement already satisfied: nvidia-cusparse-cu12==12.1.0.106 in /usr/local/lib/python3.11/dist-packages (from torch==2.3.1->-r /content/yiming/requirements.txt (line 6)) (12.1.0.106)\n",
            "Requirement already satisfied: nvidia-nccl-cu12==2.20.5 in /usr/local/lib/python3.11/dist-packages (from torch==2.3.1->-r /content/yiming/requirements.txt (line 6)) (2.20.5)\n",
            "Requirement already satisfied: nvidia-nvtx-cu12==12.1.105 in /usr/local/lib/python3.11/dist-packages (from torch==2.3.1->-r /content/yiming/requirements.txt (line 6)) (12.1.105)\n",
            "Requirement already satisfied: triton==2.3.1 in /usr/local/lib/python3.11/dist-packages (from torch==2.3.1->-r /content/yiming/requirements.txt (line 6)) (2.3.1)\n",
            "Requirement already satisfied: alembic>=1.5.0 in /usr/local/lib/python3.11/dist-packages (from optuna==4.3.0->-r /content/yiming/requirements.txt (line 7)) (1.15.2)\n",
            "Requirement already satisfied: colorlog in /usr/local/lib/python3.11/dist-packages (from optuna==4.3.0->-r /content/yiming/requirements.txt (line 7)) (6.9.0)\n",
            "Requirement already satisfied: sqlalchemy>=1.4.2 in /usr/local/lib/python3.11/dist-packages (from optuna==4.3.0->-r /content/yiming/requirements.txt (line 7)) (2.0.40)\n",
            "Requirement already satisfied: tqdm in /usr/local/lib/python3.11/dist-packages (from optuna==4.3.0->-r /content/yiming/requirements.txt (line 7)) (4.67.1)\n",
            "Requirement already satisfied: nvidia-nvjitlink-cu12 in /usr/local/lib/python3.11/dist-packages (from nvidia-cusolver-cu12==11.4.5.107->torch==2.3.1->-r /content/yiming/requirements.txt (line 6)) (12.5.82)\n",
            "Requirement already satisfied: Mako in /usr/lib/python3/dist-packages (from alembic>=1.5.0->optuna==4.3.0->-r /content/yiming/requirements.txt (line 7)) (1.1.3)\n",
            "Requirement already satisfied: orderedmultidict>=1.0.1 in /usr/local/lib/python3.11/dist-packages (from furl>=2.0.0->clearml==1.18.0->-r /content/yiming/requirements.txt (line 1)) (1.0.1)\n",
            "Requirement already satisfied: jsonschema-specifications>=2023.03.6 in /usr/local/lib/python3.11/dist-packages (from jsonschema>=2.6.0->clearml==1.18.0->-r /content/yiming/requirements.txt (line 1)) (2025.4.1)\n",
            "Requirement already satisfied: rpds-py>=0.7.1 in /usr/local/lib/python3.11/dist-packages (from jsonschema>=2.6.0->clearml==1.18.0->-r /content/yiming/requirements.txt (line 1)) (0.24.0)\n",
            "Requirement already satisfied: charset-normalizer<4,>=2 in /usr/local/lib/python3.11/dist-packages (from requests>=2.20.0->clearml==1.18.0->-r /content/yiming/requirements.txt (line 1)) (3.4.1)\n",
            "Requirement already satisfied: idna<4,>=2.5 in /usr/local/lib/python3.11/dist-packages (from requests>=2.20.0->clearml==1.18.0->-r /content/yiming/requirements.txt (line 1)) (3.10)\n",
            "Requirement already satisfied: certifi>=2017.4.17 in /usr/local/lib/python3.11/dist-packages (from requests>=2.20.0->clearml==1.18.0->-r /content/yiming/requirements.txt (line 1)) (2025.4.26)\n",
            "Requirement already satisfied: greenlet>=1 in /usr/local/lib/python3.11/dist-packages (from sqlalchemy>=1.4.2->optuna==4.3.0->-r /content/yiming/requirements.txt (line 7)) (3.2.1)\n",
            "Requirement already satisfied: MarkupSafe>=2.0 in /usr/local/lib/python3.11/dist-packages (from jinja2->torch==2.3.1->-r /content/yiming/requirements.txt (line 6)) (3.0.2)\n",
            "Requirement already satisfied: mpmath<1.4,>=1.1.0 in /usr/local/lib/python3.11/dist-packages (from sympy->torch==2.3.1->-r /content/yiming/requirements.txt (line 6)) (1.3.0)\n"
          ]
        }
      ]
    },
    {
      "cell_type": "code",
      "source": [
        "!python main.py"
      ],
      "metadata": {
        "colab": {
          "base_uri": "https://localhost:8080/"
        },
        "id": "hJU_8-YSuEmZ",
        "outputId": "97d50ea6-8be3-4e82-b51a-86c478b83a8a"
      },
      "execution_count": null,
      "outputs": [
        {
          "output_type": "stream",
          "name": "stdout",
          "text": [
            "Hi, AI Studio\n",
            "ClearML Task: created new task id=60b1b4d9b5c34d22a56d5ab287b85284\n",
            "2025-05-03 21:12:35.140847: E external/local_xla/xla/stream_executor/cuda/cuda_fft.cc:477] Unable to register cuFFT factory: Attempting to register factory for plugin cuFFT when one has already been registered\n",
            "WARNING: All log messages before absl::InitializeLog() is called are written to STDERR\n",
            "E0000 00:00:1746306755.162325   21745 cuda_dnn.cc:8310] Unable to register cuDNN factory: Attempting to register factory for plugin cuDNN when one has already been registered\n",
            "E0000 00:00:1746306755.169116   21745 cuda_blas.cc:1418] Unable to register cuBLAS factory: Attempting to register factory for plugin cuBLAS when one has already been registered\n",
            "2025-05-03 21:12:35.190646: I tensorflow/core/platform/cpu_feature_guard.cc:210] This TensorFlow binary is optimized to use available CPU instructions in performance-critical operations.\n",
            "To enable the following instructions: AVX2 FMA, in other operations, rebuild TensorFlow with the appropriate compiler flags.\n",
            "ClearML results page: https://app.clear.ml/projects/1fb6de5d72734dfaa58968fc7763995b/experiments/60b1b4d9b5c34d22a56d5ab287b85284/output/log\n",
            "ClearML pipeline page: https://app.clear.ml/pipelines/1fb6de5d72734dfaa58968fc7763995b/experiments/60b1b4d9b5c34d22a56d5ab287b85284\n",
            "2025-05-03 21:12:46,458 - clearml.util - WARNING - 8 task found when searching for `{'project_name': 'examples', 'task_name': 'Step 1 - Load Uncompressed Pest Image Dataset', 'include_archived': True, 'task_filter': {'status': ['created', 'queued', 'in_progress', 'published', 'stopped', 'completed', 'closed']}}`\n",
            "2025-05-03 21:12:46,459 - clearml.util - WARNING - Selected task `Step 1 - Load Uncompressed Pest Image Dataset` (id=19baa4c44bf840a789ba158334aebbc6)\n",
            "2025-05-03 21:12:48,138 - clearml.util - WARNING - 11 task found when searching for `{'project_name': 'Agri-Pest-Detection', 'task_name': 'Step 2 - Preprocessing (artifact version)', 'include_archived': True, 'task_filter': {'status': ['created', 'queued', 'in_progress', 'published', 'stopped', 'completed', 'closed']}}`\n",
            "2025-05-03 21:12:48,138 - clearml.util - WARNING - Selected task `Step 2 - Preprocessing (artifact version)` (id=5eb86e27ce1f44da9b2386f33abbb1ce)\n",
            "2025-05-03 21:12:49,807 - clearml.util - WARNING - 9 task found when searching for `{'project_name': 'Agri-Pest-Detection', 'task_name': 'Step 3 - Model Training', 'include_archived': True, 'task_filter': {'status': ['created', 'queued', 'in_progress', 'published', 'stopped', 'completed', 'closed']}}`\n",
            "2025-05-03 21:12:49,808 - clearml.util - WARNING - Selected task `Step 3 - Model Training` (id=853aa22ec66d443097cd865d42b8df80)\n",
            "Launching the next 1 steps\n",
            "Launching step [stage_data]\n",
            "Launching step: stage_data\n",
            "Parameters:\n",
            "None\n",
            "Configurations:\n",
            "{}\n",
            "Overrides:\n",
            "{}\n",
            "Launching the next 1 steps\n",
            "Launching step [stage_process]\n",
            "Launching step: stage_process\n",
            "Parameters:\n",
            "{'General/dataset_task_id': '${stage_data.id}', 'General/test_size': 0.25, 'General/random_state': 42}\n",
            "Configurations:\n",
            "{}\n",
            "Overrides:\n",
            "{}\n",
            "Launching the next 1 steps\n",
            "Launching step [stage_train]\n",
            "Launching step: stage_train\n",
            "Parameters:\n",
            "{'General/dataset_task_id': '${stage_process.id}'}\n",
            "Configurations:\n",
            "{}\n",
            "Overrides:\n",
            "{}\n",
            "Launching the next 0 steps\n",
            "done\n"
          ]
        }
      ]
    }
  ]
}