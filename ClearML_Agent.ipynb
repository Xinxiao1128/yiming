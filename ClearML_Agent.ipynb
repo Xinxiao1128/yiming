{
  "cells": [
    {
      "cell_type": "code",
      "execution_count": null,
      "id": "sFi2klmSCM0uHzUGeZiI2Cgv",
      "metadata": {
        "colab": {
          "base_uri": "https://localhost:8080/"
        },
        "id": "sFi2klmSCM0uHzUGeZiI2Cgv",
        "outputId": "22c33bfb-75ae-490f-9edc-6558c09a4419"
      },
      "outputs": [
        {
          "output_type": "stream",
          "name": "stdout",
          "text": [
            "Requirement already satisfied: clearml in /usr/local/lib/python3.11/dist-packages (1.18.0)\n",
            "Requirement already satisfied: attrs>=18.0 in /usr/local/lib/python3.11/dist-packages (from clearml) (23.2.0)\n",
            "Requirement already satisfied: furl>=2.0.0 in /usr/local/lib/python3.11/dist-packages (from clearml) (2.1.4)\n",
            "Requirement already satisfied: jsonschema>=2.6.0 in /usr/local/lib/python3.11/dist-packages (from clearml) (4.23.0)\n",
            "Requirement already satisfied: numpy>=1.10 in /usr/local/lib/python3.11/dist-packages (from clearml) (2.0.2)\n",
            "Requirement already satisfied: pathlib2>=2.3.0 in /usr/local/lib/python3.11/dist-packages (from clearml) (2.3.7.post1)\n",
            "Requirement already satisfied: Pillow>=4.1.1 in /usr/local/lib/python3.11/dist-packages (from clearml) (11.2.1)\n",
            "Requirement already satisfied: psutil>=3.4.2 in /usr/local/lib/python3.11/dist-packages (from clearml) (5.9.5)\n",
            "Requirement already satisfied: pyparsing>=2.0.3 in /usr/local/lib/python3.11/dist-packages (from clearml) (3.1.4)\n",
            "Requirement already satisfied: python-dateutil>=2.6.1 in /usr/local/lib/python3.11/dist-packages (from clearml) (2.8.2)\n",
            "Requirement already satisfied: PyYAML>=3.12 in /usr/local/lib/python3.11/dist-packages (from clearml) (6.0.2)\n",
            "Requirement already satisfied: requests>=2.20.0 in /usr/local/lib/python3.11/dist-packages (from clearml) (2.31.0)\n",
            "Requirement already satisfied: six>=1.16.0 in /usr/local/lib/python3.11/dist-packages (from clearml) (1.16.0)\n",
            "Requirement already satisfied: urllib3>=1.21.1 in /usr/local/lib/python3.11/dist-packages (from clearml) (1.26.20)\n",
            "Requirement already satisfied: pyjwt<2.10.0,>=2.4.0 in /usr/local/lib/python3.11/dist-packages (from clearml) (2.8.0)\n",
            "Requirement already satisfied: referencing<0.40 in /usr/local/lib/python3.11/dist-packages (from clearml) (0.36.2)\n",
            "Requirement already satisfied: orderedmultidict>=1.0.1 in /usr/local/lib/python3.11/dist-packages (from furl>=2.0.0->clearml) (1.0.1)\n",
            "Requirement already satisfied: jsonschema-specifications>=2023.03.6 in /usr/local/lib/python3.11/dist-packages (from jsonschema>=2.6.0->clearml) (2025.4.1)\n",
            "Requirement already satisfied: rpds-py>=0.7.1 in /usr/local/lib/python3.11/dist-packages (from jsonschema>=2.6.0->clearml) (0.24.0)\n",
            "Requirement already satisfied: typing-extensions>=4.4.0 in /usr/local/lib/python3.11/dist-packages (from referencing<0.40->clearml) (4.13.2)\n",
            "Requirement already satisfied: charset-normalizer<4,>=2 in /usr/local/lib/python3.11/dist-packages (from requests>=2.20.0->clearml) (3.4.1)\n",
            "Requirement already satisfied: idna<4,>=2.5 in /usr/local/lib/python3.11/dist-packages (from requests>=2.20.0->clearml) (3.10)\n",
            "Requirement already satisfied: certifi>=2017.4.17 in /usr/local/lib/python3.11/dist-packages (from requests>=2.20.0->clearml) (2025.4.26)\n"
          ]
        }
      ],
      "source": [
        "!pip install clearml"
      ]
    },
    {
      "cell_type": "code",
      "execution_count": null,
      "id": "bVEsKdsqyJmX",
      "metadata": {
        "colab": {
          "base_uri": "https://localhost:8080/"
        },
        "id": "bVEsKdsqyJmX",
        "outputId": "03f7974d-c46b-44e4-9198-98525615a17a"
      },
      "outputs": [
        {
          "output_type": "stream",
          "name": "stdout",
          "text": [
            "Requirement already satisfied: clearml-agent in /usr/local/lib/python3.11/dist-packages (1.9.3)\n",
            "Requirement already satisfied: attrs<24.0.0,>=18.0 in /usr/local/lib/python3.11/dist-packages (from clearml-agent) (23.2.0)\n",
            "Requirement already satisfied: furl<2.2.0,>=2.0.0 in /usr/local/lib/python3.11/dist-packages (from clearml-agent) (2.1.4)\n",
            "Requirement already satisfied: jsonschema<5.0.0,>=2.6.0 in /usr/local/lib/python3.11/dist-packages (from clearml-agent) (4.23.0)\n",
            "Requirement already satisfied: pathlib2<2.4.0,>=2.3.0 in /usr/local/lib/python3.11/dist-packages (from clearml-agent) (2.3.7.post1)\n",
            "Requirement already satisfied: psutil<5.10.0,>=3.4.2 in /usr/local/lib/python3.11/dist-packages (from clearml-agent) (5.9.5)\n",
            "Requirement already satisfied: pyparsing<3.2.0,>=2.0.3 in /usr/local/lib/python3.11/dist-packages (from clearml-agent) (3.1.4)\n",
            "Requirement already satisfied: python-dateutil<2.9.0,>=2.4.2 in /usr/local/lib/python3.11/dist-packages (from clearml-agent) (2.8.2)\n",
            "Requirement already satisfied: pyjwt<2.9.0,>=2.4.0 in /usr/local/lib/python3.11/dist-packages (from clearml-agent) (2.8.0)\n",
            "Requirement already satisfied: PyYAML<6.1,>=3.12 in /usr/local/lib/python3.11/dist-packages (from clearml-agent) (6.0.2)\n",
            "Requirement already satisfied: requests<=2.31.0,>=2.20.0 in /usr/local/lib/python3.11/dist-packages (from clearml-agent) (2.31.0)\n",
            "Requirement already satisfied: six<1.17.0,>=1.13.0 in /usr/local/lib/python3.11/dist-packages (from clearml-agent) (1.16.0)\n",
            "Requirement already satisfied: urllib3<2,>=1.21.1 in /usr/local/lib/python3.11/dist-packages (from clearml-agent) (1.26.20)\n",
            "Requirement already satisfied: virtualenv<21,>=16 in /usr/local/lib/python3.11/dist-packages (from clearml-agent) (20.30.0)\n",
            "Requirement already satisfied: orderedmultidict>=1.0.1 in /usr/local/lib/python3.11/dist-packages (from furl<2.2.0,>=2.0.0->clearml-agent) (1.0.1)\n",
            "Requirement already satisfied: jsonschema-specifications>=2023.03.6 in /usr/local/lib/python3.11/dist-packages (from jsonschema<5.0.0,>=2.6.0->clearml-agent) (2025.4.1)\n",
            "Requirement already satisfied: referencing>=0.28.4 in /usr/local/lib/python3.11/dist-packages (from jsonschema<5.0.0,>=2.6.0->clearml-agent) (0.36.2)\n",
            "Requirement already satisfied: rpds-py>=0.7.1 in /usr/local/lib/python3.11/dist-packages (from jsonschema<5.0.0,>=2.6.0->clearml-agent) (0.24.0)\n",
            "Requirement already satisfied: charset-normalizer<4,>=2 in /usr/local/lib/python3.11/dist-packages (from requests<=2.31.0,>=2.20.0->clearml-agent) (3.4.1)\n",
            "Requirement already satisfied: idna<4,>=2.5 in /usr/local/lib/python3.11/dist-packages (from requests<=2.31.0,>=2.20.0->clearml-agent) (3.10)\n",
            "Requirement already satisfied: certifi>=2017.4.17 in /usr/local/lib/python3.11/dist-packages (from requests<=2.31.0,>=2.20.0->clearml-agent) (2025.4.26)\n",
            "Requirement already satisfied: distlib<1,>=0.3.7 in /usr/local/lib/python3.11/dist-packages (from virtualenv<21,>=16->clearml-agent) (0.3.9)\n",
            "Requirement already satisfied: filelock<4,>=3.12.2 in /usr/local/lib/python3.11/dist-packages (from virtualenv<21,>=16->clearml-agent) (3.18.0)\n",
            "Requirement already satisfied: platformdirs<5,>=3.9.1 in /usr/local/lib/python3.11/dist-packages (from virtualenv<21,>=16->clearml-agent) (4.3.7)\n",
            "Requirement already satisfied: typing-extensions>=4.4.0 in /usr/local/lib/python3.11/dist-packages (from referencing>=0.28.4->jsonschema<5.0.0,>=2.6.0->clearml-agent) (4.13.2)\n"
          ]
        }
      ],
      "source": [
        "!pip install clearml-agent"
      ]
    },
    {
      "cell_type": "code",
      "execution_count": null,
      "id": "3891OJGvyJoL",
      "metadata": {
        "colab": {
          "base_uri": "https://localhost:8080/"
        },
        "id": "3891OJGvyJoL",
        "outputId": "d4e75fdf-4365-4b7a-dcc4-3b9bef8977d9"
      },
      "outputs": [
        {
          "output_type": "stream",
          "name": "stdout",
          "text": [
            "CLEARML-AGENT setup process\n",
            "\n",
            "Please create new clearml credentials through the settings page in your `clearml-server` web app, \n",
            "or create a free account at https://app.clear.ml/settings/webapp-configuration\n",
            "    \n",
            "In the settings > workspace  page, press \"Create new credentials\", then press \"Copy to clipboard\".\n",
            "\n",
            "Paste copied configuration here: \n",
            "%env CLEARML_WEB_HOST=https://app.clear.ml/ %env CLEARML_API_HOST=https://api.clear.ml %env CLEARML_FILES_HOST=https://files.clear.ml %env CLEARML_API_ACCESS_KEY=J5SM29IR5AKGSOUSOY1JHYADJB7WDF %env CLEARML_API_SECRET_KEY=hKJ-2muyOa7AHfQ3k8xXiOcXNptRA_3jfJ7OuZoZBaGNQ6NZQPj-tz_eDopCKfa5CDQ\n",
            "\n",
            "Could not parse credentials, please try entering them manually.\n",
            "Enter user access key: J5SM29IR5AKGSOUSOY1JHYADJB7WDF\n",
            "Enter user secret: hKJ-2muyOa7AHfQ3k8xXiOcXNptRA_3jfJ7OuZoZBaGNQ6NZQPj-tz_eDopCKfa5CDQ\n",
            "Detected credentials key=\"J5SM29IR5AKGSOUSOY1JHYADJB7WDF\" secret=\"hKJ-***\"\n",
            "\n",
            "Editing configuration file: /root/clearml.conf\n",
            "Enter the url of the clearml-server's Web service, for example: http://localhost:8080 or https://app.clear.ml\n",
            "\n",
            "WEB Host configured to: [https://app.clear.ml] \n",
            "API Host configured to: [https://api.clear.ml] \n",
            "File Store Host configured to: [https://files.clear.ml] \n",
            "\n",
            "ClearML Hosts configuration:\n",
            "Web App: https://app.clear.ml\n",
            "API: https://api.clear.ml\n",
            "File Store: https://files.clear.ml\n",
            "\n",
            "Verifying credentials ...\n",
            "Credentials verified!\n",
            "Default Output URI (used to automatically store models and artifacts): (N)one/ClearML (S)erver/(C)ustom [None] \n",
            "\n",
            "Default Output URI: not set\n",
            "Enter git username for repository cloning (leave blank for SSH key authentication): [] \n",
            "\n",
            "Enter additional artifact repository (extra-index-url) to use when installing python packages (leave blank if not required):\n",
            "\n",
            "New configuration stored in /root/clearml.conf\n",
            "CLEARML-AGENT setup completed successfully.\n"
          ]
        }
      ],
      "source": [
        "!clearml-agent init"
      ]
    },
    {
      "cell_type": "code",
      "execution_count": null,
      "id": "hUEWSmACyJsV",
      "metadata": {
        "colab": {
          "base_uri": "https://localhost:8080/"
        },
        "id": "hUEWSmACyJsV",
        "outputId": "4da25f56-07ef-4d02-af9c-4e38e6ac6beb"
      },
      "outputs": [
        {
          "output_type": "stream",
          "name": "stdout",
          "text": [
            "Current configuration (clearml_agent v1.9.3, location: /root/clearml.conf):\n",
            "----------------------\n",
            "sdk.storage.cache.default_base_dir = ~/.clearml/cache\n",
            "sdk.storage.cache.size.min_free_bytes = 10GB\n",
            "sdk.storage.direct_access.0.url = file://*\n",
            "sdk.metrics.file_history_size = 100\n",
            "sdk.metrics.matplotlib_untitled_history_size = 100\n",
            "sdk.metrics.images.format = JPEG\n",
            "sdk.metrics.images.quality = 87\n",
            "sdk.metrics.images.subsampling = 0\n",
            "sdk.metrics.tensorboard_single_series_per_graph = false\n",
            "sdk.network.metrics.file_upload_threads = 4\n",
            "sdk.network.metrics.file_upload_starvation_warning_sec = 120\n",
            "sdk.network.iteration.max_retries_on_server_error = 5\n",
            "sdk.network.iteration.retry_backoff_factor_sec = 10\n",
            "sdk.aws.s3.key = \n",
            "sdk.aws.s3.secret = ****\n",
            "sdk.aws.s3.region = \n",
            "sdk.aws.boto3.pool_connections = 512\n",
            "sdk.aws.boto3.max_multipart_concurrency = 16\n",
            "sdk.log.null_log_propagate = false\n",
            "sdk.log.task_log_buffer_capacity = 66\n",
            "sdk.log.disable_urllib3_info = true\n",
            "sdk.development.task_reuse_time_window_in_hours = 72.0\n",
            "sdk.development.vcs_repo_detect_async = true\n",
            "sdk.development.store_uncommitted_code_diff = true\n",
            "sdk.development.support_stopping = true\n",
            "sdk.development.default_output_uri = \n",
            "sdk.development.force_analyze_entire_repo = false\n",
            "sdk.development.suppress_update_message = false\n",
            "sdk.development.detect_with_pip_freeze = false\n",
            "sdk.development.worker.report_period_sec = 2\n",
            "sdk.development.worker.ping_period_sec = 30\n",
            "sdk.development.worker.log_stdout = true\n",
            "sdk.development.worker.report_global_mem_used = false\n",
            "agent.worker_id = \n",
            "agent.worker_name = 586dc8422dea\n",
            "agent.force_git_ssh_protocol = false\n",
            "agent.python_binary = \n",
            "agent.package_manager.type = pip\n",
            "agent.package_manager.pip_version.0 = <20.2 ; python_version < '3.10'\n",
            "agent.package_manager.pip_version.1 = <22.3 ; python_version >\\= '3.10' and python_version <\\= '3.11'\n",
            "agent.package_manager.pip_version.2 = >\\=23,<24.3 ; python_version >\\= '3.12'\n",
            "agent.package_manager.system_site_packages = false\n",
            "agent.package_manager.force_upgrade = false\n",
            "agent.package_manager.pip_legacy_resolver.0 = >\\=20.3,<24.3\n",
            "agent.package_manager.conda_channels.0 = pytorch\n",
            "agent.package_manager.conda_channels.1 = conda-forge\n",
            "agent.package_manager.conda_channels.2 = nvidia\n",
            "agent.package_manager.conda_channels.3 = defaults\n",
            "agent.package_manager.priority_optional_packages.0 = pygobject\n",
            "agent.package_manager.torch_nightly = false\n",
            "agent.package_manager.poetry_files_from_repo_working_dir = false\n",
            "agent.package_manager.uv_files_from_repo_working_dir = false\n",
            "agent.venvs_dir = /root/.clearml/venvs-builds\n",
            "agent.venvs_cache.max_entries = 10\n",
            "agent.venvs_cache.free_space_threshold_gb = 2.0\n",
            "agent.venvs_cache.path = ~/.clearml/venvs-cache\n",
            "agent.vcs_cache.enabled = true\n",
            "agent.vcs_cache.path = /root/.clearml/vcs-cache\n",
            "agent.venv_update.enabled = false\n",
            "agent.pip_download_cache.enabled = true\n",
            "agent.pip_download_cache.path = /root/.clearml/pip-download-cache\n",
            "agent.translate_ssh = true\n",
            "agent.reload_config = false\n",
            "agent.docker_pip_cache = /root/.clearml/pip-cache\n",
            "agent.docker_apt_cache = /root/.clearml/apt-cache\n",
            "agent.docker_force_pull = false\n",
            "agent.default_docker.image = nvidia/cuda:11.0.3-cudnn8-runtime-ubuntu20.04\n",
            "agent.default_docker.match_rules.0.image = python:3.6-bullseye\n",
            "agent.default_docker.match_rules.0.arguments = --ipc\\=host\n",
            "agent.default_docker.match_rules.0.match.script.binary = python3.6$\n",
            "agent.default_docker.match_rules.1.image = python:3.7-bullseye\n",
            "agent.default_docker.match_rules.1.arguments = --ipc\\=host\n",
            "agent.default_docker.match_rules.1.match.script.binary = python3.7$\n",
            "agent.default_docker.match_rules.2.image = python:3.8-bullseye\n",
            "agent.default_docker.match_rules.2.arguments = --ipc\\=host\n",
            "agent.default_docker.match_rules.2.match.script.binary = python3.8$\n",
            "agent.default_docker.match_rules.3.image = python:3.9-bullseye\n",
            "agent.default_docker.match_rules.3.arguments = --ipc\\=host\n",
            "agent.default_docker.match_rules.3.match.script.binary = python3.9$\n",
            "agent.default_docker.match_rules.4.image = python:3.10-bullseye\n",
            "agent.default_docker.match_rules.4.arguments = --ipc\\=host\n",
            "agent.default_docker.match_rules.4.match.script.binary = python3.10$\n",
            "agent.default_docker.match_rules.5.image = python:3.11-bullseye\n",
            "agent.default_docker.match_rules.5.arguments = --ipc\\=host\n",
            "agent.default_docker.match_rules.5.match.script.binary = python3.11$\n",
            "agent.default_docker.match_rules.6.image = python:3.12-bullseye\n",
            "agent.default_docker.match_rules.6.arguments = --ipc\\=host\n",
            "agent.default_docker.match_rules.6.match.script.binary = python3.12$\n",
            "agent.enable_task_env = false\n",
            "agent.sanitize_config_printout = ****\n",
            "agent.hide_docker_command_env_vars.enabled = true\n",
            "agent.hide_docker_command_env_vars.parse_embedded_urls = true\n",
            "agent.abort_callback_max_timeout = 1800\n",
            "agent.docker_internal_mounts.sdk_cache = /clearml_agent_cache\n",
            "agent.docker_internal_mounts.apt_cache = /var/cache/apt/archives\n",
            "agent.docker_internal_mounts.ssh_folder = ~/.ssh\n",
            "agent.docker_internal_mounts.ssh_ro_folder = /.ssh\n",
            "agent.docker_internal_mounts.pip_cache = /root/.cache/pip\n",
            "agent.docker_internal_mounts.poetry_cache = /root/.cache/pypoetry\n",
            "agent.docker_internal_mounts.vcs_cache = /root/.clearml/vcs-cache\n",
            "agent.docker_internal_mounts.venvs_cache = /root/.clearml/venvs-cache\n",
            "agent.docker_internal_mounts.venv_build = ~/.clearml/venvs-builds\n",
            "agent.docker_internal_mounts.pip_download = /root/.clearml/pip-download-cache\n",
            "agent.apply_environment = true\n",
            "agent.apply_files = true\n",
            "agent.custom_build_script = \n",
            "agent.disable_task_docker_override = false\n",
            "agent.git_user = \n",
            "agent.git_pass = ****\n",
            "agent.default_python = 3.11\n",
            "agent.cuda_version = 125\n",
            "agent.cudnn_version = 0\n",
            "api.version = 1.5\n",
            "api.verify_certificate = true\n",
            "api.default_version = 1.5\n",
            "api.http.max_req_size = 15728640\n",
            "api.http.retries.total = 240\n",
            "api.http.retries.connect = 240\n",
            "api.http.retries.read = 240\n",
            "api.http.retries.redirect = 240\n",
            "api.http.retries.status = 240\n",
            "api.http.retries.backoff_factor = 1.0\n",
            "api.http.retries.backoff_max = 120.0\n",
            "api.http.wait_on_maintenance_forever = true\n",
            "api.http.pool_maxsize = 512\n",
            "api.http.pool_connections = 512\n",
            "api.auth.token_expiration_threshold_sec = ****\n",
            "api.api_server = https://api.clear.ml\n",
            "api.web_server = https://app.clear.ml\n",
            "api.files_server = https://files.clear.ml\n",
            "api.credentials.access_key = J5SM29IR5AKGSOUSOY1JHYADJB7WDF\n",
            "api.credentials.secret_key = ****\n",
            "api.host = https://api.clear.ml\n",
            "\n",
            "Worker \"586dc8422dea:gpuall\" - Listening to queues:\n",
            "+----------------------------------+----------+-------+\n",
            "| id                               | name     | tags  |\n",
            "+----------------------------------+----------+-------+\n",
            "| 3fdb75a49749490a8a8f1894e124f456 | pipeline |       |\n",
            "+----------------------------------+----------+-------+\n",
            "\n",
            "Running CLEARML-AGENT daemon in background mode, writing stdout/stderr to /tmp/.clearml_agent_daemon_outoxi9dsbn.txt\n"
          ]
        }
      ],
      "source": [
        "!clearml-agent daemon --queue \"pipeline\" --detached\n",
        "## To stop /kill the queue, you need make run another command: !clearml-agent daemon --queue \"pipeline\" --detached --stop"
      ]
    }
  ],
  "metadata": {
    "colab": {
      "provenance": [],
      "gpuType": "T4"
    },
    "kernelspec": {
      "display_name": "Python 3",
      "name": "python3"
    },
    "language_info": {
      "codemirror_mode": {
        "name": "ipython",
        "version": 3
      },
      "file_extension": ".py",
      "mimetype": "text/x-python",
      "name": "python",
      "nbconvert_exporter": "python",
      "pygments_lexer": "ipython3",
      "version": "3.10.10"
    },
    "accelerator": "GPU"
  },
  "nbformat": 4,
  "nbformat_minor": 5
}