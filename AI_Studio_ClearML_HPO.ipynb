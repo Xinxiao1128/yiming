{
  "cells": [
    {
      "cell_type": "code",
      "execution_count": null,
      "id": "BRLZH1TCt7jLFhocvi2S5q9d",
      "metadata": {
        "colab": {
          "base_uri": "https://localhost:8080/"
        },
        "id": "BRLZH1TCt7jLFhocvi2S5q9d",
        "outputId": "0fd9f868-f5ce-470d-e1d9-5efcf6a881f6"
      },
      "outputs": [
        {
          "name": "stdout",
          "output_type": "stream",
          "text": [
            "fatal: destination path 'HPO' already exists and is not an empty directory.\n"
          ]
        }
      ],
      "source": [
        "!git clone https://github.com/Xinxiao1128/yiming"
      ]
    },
    {
      "cell_type": "code",
      "execution_count": null,
      "id": "yZFvOdEOsBEh",
      "metadata": {
        "colab": {
          "base_uri": "https://localhost:8080/"
        },
        "id": "yZFvOdEOsBEh",
        "outputId": "de24ae8f-1d96-4de6-b7a0-90b6c346823f"
      },
      "outputs": [
        {
          "name": "stdout",
          "output_type": "stream",
          "text": [
            "/content\n"
          ]
        }
      ],
      "source": [
        "!pwd"
      ]
    },
    {
      "cell_type": "code",
      "execution_count": null,
      "id": "JdNyx-W-NTqT",
      "metadata": {
        "colab": {
          "base_uri": "https://localhost:8080/"
        },
        "id": "JdNyx-W-NTqT",
        "outputId": "10dc1368-cd8a-4de6-a70e-8290194211b6"
      },
      "outputs": [
        {
          "name": "stdout",
          "output_type": "stream",
          "text": [
            "/content/HPO\n"
          ]
        }
      ],
      "source": [
        "cd yiming/"
      ]
    },
    {
      "cell_type": "code",
      "execution_count": null,
      "id": "MsypW31bdjmH",
      "metadata": {
        "colab": {
          "base_uri": "https://localhost:8080/"
        },
        "id": "MsypW31bdjmH",
        "outputId": "3fb33cf3-5d98-4b72-fa41-616fc29f0135"
      },
      "outputs": [
        {
          "name": "stdout",
          "output_type": "stream",
          "text": [
            "final_model.py          README.md                  step2_data_preprocessing.py\n",
            "main.py                 requirements.txt           step3_train_model.py\n",
            "pipeline_from_tasks.py  step1_dataset_artifact.py  task_hpo.py\n"
          ]
        }
      ],
      "source": [
        "ls"
      ]
    },
    {
      "cell_type": "code",
      "execution_count": null,
      "id": "MW7PLF2_sBNL",
      "metadata": {
        "colab": {
          "base_uri": "https://localhost:8080/"
        },
        "id": "MW7PLF2_sBNL",
        "outputId": "1f5d2e33-c026-4d44-8d02-c688d6c1473d"
      },
      "outputs": [
        {
          "name": "stdout",
          "output_type": "stream",
          "text": [
            "Requirement already satisfied: clearml in /usr/local/lib/python3.11/dist-packages (1.18.0)\n",
            "Requirement already satisfied: attrs>=18.0 in /usr/local/lib/python3.11/dist-packages (from clearml) (25.3.0)\n",
            "Requirement already satisfied: furl>=2.0.0 in /usr/local/lib/python3.11/dist-packages (from clearml) (2.1.4)\n",
            "Requirement already satisfied: jsonschema>=2.6.0 in /usr/local/lib/python3.11/dist-packages (from clearml) (4.23.0)\n",
            "Requirement already satisfied: numpy>=1.10 in /usr/local/lib/python3.11/dist-packages (from clearml) (1.25.0)\n",
            "Requirement already satisfied: pathlib2>=2.3.0 in /usr/local/lib/python3.11/dist-packages (from clearml) (2.3.7.post1)\n",
            "Requirement already satisfied: Pillow>=4.1.1 in /usr/local/lib/python3.11/dist-packages (from clearml) (11.2.1)\n",
            "Requirement already satisfied: psutil>=3.4.2 in /usr/local/lib/python3.11/dist-packages (from clearml) (5.9.5)\n",
            "Requirement already satisfied: pyparsing>=2.0.3 in /usr/local/lib/python3.11/dist-packages (from clearml) (3.2.3)\n",
            "Requirement already satisfied: python-dateutil>=2.6.1 in /usr/local/lib/python3.11/dist-packages (from clearml) (2.9.0.post0)\n",
            "Requirement already satisfied: PyYAML>=3.12 in /usr/local/lib/python3.11/dist-packages (from clearml) (6.0.2)\n",
            "Requirement already satisfied: requests>=2.20.0 in /usr/local/lib/python3.11/dist-packages (from clearml) (2.32.3)\n",
            "Requirement already satisfied: six>=1.16.0 in /usr/local/lib/python3.11/dist-packages (from clearml) (1.17.0)\n",
            "Requirement already satisfied: urllib3>=1.21.1 in /usr/local/lib/python3.11/dist-packages (from clearml) (2.4.0)\n",
            "Requirement already satisfied: pyjwt<2.10.0,>=2.4.0 in /usr/local/lib/python3.11/dist-packages (from clearml) (2.9.0)\n",
            "Requirement already satisfied: referencing<0.40 in /usr/local/lib/python3.11/dist-packages (from clearml) (0.36.2)\n",
            "Requirement already satisfied: orderedmultidict>=1.0.1 in /usr/local/lib/python3.11/dist-packages (from furl>=2.0.0->clearml) (1.0.1)\n",
            "Requirement already satisfied: jsonschema-specifications>=2023.03.6 in /usr/local/lib/python3.11/dist-packages (from jsonschema>=2.6.0->clearml) (2025.4.1)\n",
            "Requirement already satisfied: rpds-py>=0.7.1 in /usr/local/lib/python3.11/dist-packages (from jsonschema>=2.6.0->clearml) (0.24.0)\n",
            "Requirement already satisfied: typing-extensions>=4.4.0 in /usr/local/lib/python3.11/dist-packages (from referencing<0.40->clearml) (4.13.2)\n",
            "Requirement already satisfied: charset-normalizer<4,>=2 in /usr/local/lib/python3.11/dist-packages (from requests>=2.20.0->clearml) (3.4.2)\n",
            "Requirement already satisfied: idna<4,>=2.5 in /usr/local/lib/python3.11/dist-packages (from requests>=2.20.0->clearml) (3.10)\n",
            "Requirement already satisfied: certifi>=2017.4.17 in /usr/local/lib/python3.11/dist-packages (from requests>=2.20.0->clearml) (2025.4.26)\n"
          ]
        }
      ],
      "source": [
        "!pip install clearml"
      ]
    },
    {
      "cell_type": "code",
      "execution_count": null,
      "id": "fOKk9LibsBPN",
      "metadata": {
        "colab": {
          "base_uri": "https://localhost:8080/"
        },
        "id": "fOKk9LibsBPN",
        "outputId": "abc0757b-c8cb-4899-8769-34ddd75a4f64"
      },
      "outputs": [
        {
          "name": "stdout",
          "output_type": "stream",
          "text": [
            "ClearML SDK setup process\n",
            "Configuration file already exists: /root/clearml.conf\n",
            "Leaving setup, feel free to edit the configuration file.\n"
          ]
        }
      ],
      "source": [
        "!clearml-init"
      ]
    },
    {
      "cell_type": "code",
      "execution_count": null,
      "id": "A1e_ZdV-njR_",
      "metadata": {
        "colab": {
          "base_uri": "https://localhost:8080/"
        },
        "id": "A1e_ZdV-njR_",
        "outputId": "d4362629-4602-472b-8777-bebd7801472f"
      },
      "outputs": [
        {
          "name": "stdout",
          "output_type": "stream",
          "text": [
            "Requirement already satisfied: clearml==1.18.0 in /usr/local/lib/python3.11/dist-packages (from -r requirements.txt (line 1)) (1.18.0)\n",
            "Requirement already satisfied: matplotlib==3.7.1 in /usr/local/lib/python3.11/dist-packages (from -r requirements.txt (line 2)) (3.7.1)\n",
            "Requirement already satisfied: numpy==1.25.0 in /usr/local/lib/python3.11/dist-packages (from -r requirements.txt (line 3)) (1.25.0)\n",
            "Requirement already satisfied: pandas==1.5.3 in /usr/local/lib/python3.11/dist-packages (from -r requirements.txt (line 4)) (1.5.3)\n",
            "Requirement already satisfied: scikit_learn==1.4.2 in /usr/local/lib/python3.11/dist-packages (from -r requirements.txt (line 5)) (1.4.2)\n",
            "Requirement already satisfied: torch==2.3.1 in /usr/local/lib/python3.11/dist-packages (from -r requirements.txt (line 6)) (2.3.1)\n",
            "Requirement already satisfied: optuna==4.3.0 in /usr/local/lib/python3.11/dist-packages (from -r requirements.txt (line 7)) (4.3.0)\n",
            "Requirement already satisfied: attrs>=18.0 in /usr/local/lib/python3.11/dist-packages (from clearml==1.18.0->-r requirements.txt (line 1)) (25.3.0)\n",
            "Requirement already satisfied: furl>=2.0.0 in /usr/local/lib/python3.11/dist-packages (from clearml==1.18.0->-r requirements.txt (line 1)) (2.1.4)\n",
            "Requirement already satisfied: jsonschema>=2.6.0 in /usr/local/lib/python3.11/dist-packages (from clearml==1.18.0->-r requirements.txt (line 1)) (4.23.0)\n",
            "Requirement already satisfied: pathlib2>=2.3.0 in /usr/local/lib/python3.11/dist-packages (from clearml==1.18.0->-r requirements.txt (line 1)) (2.3.7.post1)\n",
            "Requirement already satisfied: Pillow>=4.1.1 in /usr/local/lib/python3.11/dist-packages (from clearml==1.18.0->-r requirements.txt (line 1)) (11.2.1)\n",
            "Requirement already satisfied: psutil>=3.4.2 in /usr/local/lib/python3.11/dist-packages (from clearml==1.18.0->-r requirements.txt (line 1)) (5.9.5)\n",
            "Requirement already satisfied: pyparsing>=2.0.3 in /usr/local/lib/python3.11/dist-packages (from clearml==1.18.0->-r requirements.txt (line 1)) (3.2.3)\n",
            "Requirement already satisfied: python-dateutil>=2.6.1 in /usr/local/lib/python3.11/dist-packages (from clearml==1.18.0->-r requirements.txt (line 1)) (2.9.0.post0)\n",
            "Requirement already satisfied: PyYAML>=3.12 in /usr/local/lib/python3.11/dist-packages (from clearml==1.18.0->-r requirements.txt (line 1)) (6.0.2)\n",
            "Requirement already satisfied: requests>=2.20.0 in /usr/local/lib/python3.11/dist-packages (from clearml==1.18.0->-r requirements.txt (line 1)) (2.32.3)\n",
            "Requirement already satisfied: six>=1.16.0 in /usr/local/lib/python3.11/dist-packages (from clearml==1.18.0->-r requirements.txt (line 1)) (1.17.0)\n",
            "Requirement already satisfied: urllib3>=1.21.1 in /usr/local/lib/python3.11/dist-packages (from clearml==1.18.0->-r requirements.txt (line 1)) (2.4.0)\n",
            "Requirement already satisfied: pyjwt<2.10.0,>=2.4.0 in /usr/local/lib/python3.11/dist-packages (from clearml==1.18.0->-r requirements.txt (line 1)) (2.9.0)\n",
            "Requirement already satisfied: referencing<0.40 in /usr/local/lib/python3.11/dist-packages (from clearml==1.18.0->-r requirements.txt (line 1)) (0.36.2)\n",
            "Requirement already satisfied: contourpy>=1.0.1 in /usr/local/lib/python3.11/dist-packages (from matplotlib==3.7.1->-r requirements.txt (line 2)) (1.3.2)\n",
            "Requirement already satisfied: cycler>=0.10 in /usr/local/lib/python3.11/dist-packages (from matplotlib==3.7.1->-r requirements.txt (line 2)) (0.12.1)\n",
            "Requirement already satisfied: fonttools>=4.22.0 in /usr/local/lib/python3.11/dist-packages (from matplotlib==3.7.1->-r requirements.txt (line 2)) (4.58.0)\n",
            "Requirement already satisfied: kiwisolver>=1.0.1 in /usr/local/lib/python3.11/dist-packages (from matplotlib==3.7.1->-r requirements.txt (line 2)) (1.4.8)\n",
            "Requirement already satisfied: packaging>=20.0 in /usr/local/lib/python3.11/dist-packages (from matplotlib==3.7.1->-r requirements.txt (line 2)) (24.2)\n",
            "Requirement already satisfied: pytz>=2020.1 in /usr/local/lib/python3.11/dist-packages (from pandas==1.5.3->-r requirements.txt (line 4)) (2025.2)\n",
            "Requirement already satisfied: scipy>=1.6.0 in /usr/local/lib/python3.11/dist-packages (from scikit_learn==1.4.2->-r requirements.txt (line 5)) (1.15.3)\n",
            "Requirement already satisfied: joblib>=1.2.0 in /usr/local/lib/python3.11/dist-packages (from scikit_learn==1.4.2->-r requirements.txt (line 5)) (1.5.0)\n",
            "Requirement already satisfied: threadpoolctl>=2.0.0 in /usr/local/lib/python3.11/dist-packages (from scikit_learn==1.4.2->-r requirements.txt (line 5)) (3.6.0)\n",
            "Requirement already satisfied: filelock in /usr/local/lib/python3.11/dist-packages (from torch==2.3.1->-r requirements.txt (line 6)) (3.18.0)\n",
            "Requirement already satisfied: typing-extensions>=4.8.0 in /usr/local/lib/python3.11/dist-packages (from torch==2.3.1->-r requirements.txt (line 6)) (4.13.2)\n",
            "Requirement already satisfied: sympy in /usr/local/lib/python3.11/dist-packages (from torch==2.3.1->-r requirements.txt (line 6)) (1.13.1)\n",
            "Requirement already satisfied: networkx in /usr/local/lib/python3.11/dist-packages (from torch==2.3.1->-r requirements.txt (line 6)) (3.4.2)\n",
            "Requirement already satisfied: jinja2 in /usr/local/lib/python3.11/dist-packages (from torch==2.3.1->-r requirements.txt (line 6)) (3.1.6)\n",
            "Requirement already satisfied: fsspec in /usr/local/lib/python3.11/dist-packages (from torch==2.3.1->-r requirements.txt (line 6)) (2025.3.2)\n",
            "Requirement already satisfied: nvidia-cuda-nvrtc-cu12==12.1.105 in /usr/local/lib/python3.11/dist-packages (from torch==2.3.1->-r requirements.txt (line 6)) (12.1.105)\n",
            "Requirement already satisfied: nvidia-cuda-runtime-cu12==12.1.105 in /usr/local/lib/python3.11/dist-packages (from torch==2.3.1->-r requirements.txt (line 6)) (12.1.105)\n",
            "Requirement already satisfied: nvidia-cuda-cupti-cu12==12.1.105 in /usr/local/lib/python3.11/dist-packages (from torch==2.3.1->-r requirements.txt (line 6)) (12.1.105)\n",
            "Requirement already satisfied: nvidia-cudnn-cu12==8.9.2.26 in /usr/local/lib/python3.11/dist-packages (from torch==2.3.1->-r requirements.txt (line 6)) (8.9.2.26)\n",
            "Requirement already satisfied: nvidia-cublas-cu12==12.1.3.1 in /usr/local/lib/python3.11/dist-packages (from torch==2.3.1->-r requirements.txt (line 6)) (12.1.3.1)\n",
            "Requirement already satisfied: nvidia-cufft-cu12==11.0.2.54 in /usr/local/lib/python3.11/dist-packages (from torch==2.3.1->-r requirements.txt (line 6)) (11.0.2.54)\n",
            "Requirement already satisfied: nvidia-curand-cu12==10.3.2.106 in /usr/local/lib/python3.11/dist-packages (from torch==2.3.1->-r requirements.txt (line 6)) (10.3.2.106)\n",
            "Requirement already satisfied: nvidia-cusolver-cu12==11.4.5.107 in /usr/local/lib/python3.11/dist-packages (from torch==2.3.1->-r requirements.txt (line 6)) (11.4.5.107)\n",
            "Requirement already satisfied: nvidia-cusparse-cu12==12.1.0.106 in /usr/local/lib/python3.11/dist-packages (from torch==2.3.1->-r requirements.txt (line 6)) (12.1.0.106)\n",
            "Requirement already satisfied: nvidia-nccl-cu12==2.20.5 in /usr/local/lib/python3.11/dist-packages (from torch==2.3.1->-r requirements.txt (line 6)) (2.20.5)\n",
            "Requirement already satisfied: nvidia-nvtx-cu12==12.1.105 in /usr/local/lib/python3.11/dist-packages (from torch==2.3.1->-r requirements.txt (line 6)) (12.1.105)\n",
            "Requirement already satisfied: triton==2.3.1 in /usr/local/lib/python3.11/dist-packages (from torch==2.3.1->-r requirements.txt (line 6)) (2.3.1)\n",
            "Requirement already satisfied: alembic>=1.5.0 in /usr/local/lib/python3.11/dist-packages (from optuna==4.3.0->-r requirements.txt (line 7)) (1.16.1)\n",
            "Requirement already satisfied: colorlog in /usr/local/lib/python3.11/dist-packages (from optuna==4.3.0->-r requirements.txt (line 7)) (6.9.0)\n",
            "Requirement already satisfied: sqlalchemy>=1.4.2 in /usr/local/lib/python3.11/dist-packages (from optuna==4.3.0->-r requirements.txt (line 7)) (2.0.40)\n",
            "Requirement already satisfied: tqdm in /usr/local/lib/python3.11/dist-packages (from optuna==4.3.0->-r requirements.txt (line 7)) (4.67.1)\n",
            "Requirement already satisfied: nvidia-nvjitlink-cu12 in /usr/local/lib/python3.11/dist-packages (from nvidia-cusolver-cu12==11.4.5.107->torch==2.3.1->-r requirements.txt (line 6)) (12.5.82)\n",
            "Requirement already satisfied: Mako in /usr/lib/python3/dist-packages (from alembic>=1.5.0->optuna==4.3.0->-r requirements.txt (line 7)) (1.1.3)\n",
            "Requirement already satisfied: orderedmultidict>=1.0.1 in /usr/local/lib/python3.11/dist-packages (from furl>=2.0.0->clearml==1.18.0->-r requirements.txt (line 1)) (1.0.1)\n",
            "Requirement already satisfied: jsonschema-specifications>=2023.03.6 in /usr/local/lib/python3.11/dist-packages (from jsonschema>=2.6.0->clearml==1.18.0->-r requirements.txt (line 1)) (2025.4.1)\n",
            "Requirement already satisfied: rpds-py>=0.7.1 in /usr/local/lib/python3.11/dist-packages (from jsonschema>=2.6.0->clearml==1.18.0->-r requirements.txt (line 1)) (0.24.0)\n",
            "Requirement already satisfied: charset-normalizer<4,>=2 in /usr/local/lib/python3.11/dist-packages (from requests>=2.20.0->clearml==1.18.0->-r requirements.txt (line 1)) (3.4.2)\n",
            "Requirement already satisfied: idna<4,>=2.5 in /usr/local/lib/python3.11/dist-packages (from requests>=2.20.0->clearml==1.18.0->-r requirements.txt (line 1)) (3.10)\n",
            "Requirement already satisfied: certifi>=2017.4.17 in /usr/local/lib/python3.11/dist-packages (from requests>=2.20.0->clearml==1.18.0->-r requirements.txt (line 1)) (2025.4.26)\n",
            "Requirement already satisfied: greenlet>=1 in /usr/local/lib/python3.11/dist-packages (from sqlalchemy>=1.4.2->optuna==4.3.0->-r requirements.txt (line 7)) (3.2.2)\n",
            "Requirement already satisfied: MarkupSafe>=2.0 in /usr/local/lib/python3.11/dist-packages (from jinja2->torch==2.3.1->-r requirements.txt (line 6)) (3.0.2)\n",
            "Requirement already satisfied: mpmath<1.4,>=1.1.0 in /usr/local/lib/python3.11/dist-packages (from sympy->torch==2.3.1->-r requirements.txt (line 6)) (1.3.0)\n"
          ]
        }
      ],
      "source": [
        "!pip install -r requirements.txt"
      ]
    },
    {
      "cell_type": "code",
      "execution_count": null,
      "id": "Yti93S8XsBTI",
      "metadata": {
        "colab": {
          "base_uri": "https://localhost:8080/"
        },
        "id": "Yti93S8XsBTI",
        "outputId": "5b8734fb-574e-4ddc-f434-8a050e8e458f"
      },
      "outputs": [
        {
          "name": "stdout",
          "output_type": "stream",
          "text": [
            "ClearML Task: created new task id=bd5995b712fb4c0ca9a5207e3dab5406\n",
            "2025-05-24 02:10:13.355628: E external/local_xla/xla/stream_executor/cuda/cuda_fft.cc:477] Unable to register cuFFT factory: Attempting to register factory for plugin cuFFT when one has already been registered\n",
            "WARNING: All log messages before absl::InitializeLog() is called are written to STDERR\n",
            "E0000 00:00:1748052613.685830    4260 cuda_dnn.cc:8310] Unable to register cuDNN factory: Attempting to register factory for plugin cuDNN when one has already been registered\n",
            "E0000 00:00:1748052613.775801    4260 cuda_blas.cc:1418] Unable to register cuBLAS factory: Attempting to register factory for plugin cuBLAS when one has already been registered\n",
            "2025-05-24 02:10:13.989236: I tensorflow/core/platform/cpu_feature_guard.cc:210] This TensorFlow binary is optimized to use available CPU instructions in performance-critical operations.\n",
            "To enable the following instructions: AVX2 FMA, in other operations, rebuild TensorFlow with the appropriate compiler flags.\n",
            "ClearML results page: https://app.clear.ml/projects/2f3ca10377a544f7a1e06f4440fd0203/experiments/bd5995b712fb4c0ca9a5207e3dab5406/output/log\n",
            "🔍 Loading Dataset: Pest Image Dataset vv1.0\n",
            "2025-05-24 02:10:17,734 - clearml - INFO - Dataset.get() did not specify alias. Dataset information will not be automatically logged in ClearML Server.\n",
            "2025-05-24 02:10:18,619 - clearml.storage - INFO - Downloading: 6.28MB from https://files.clear.ml/Agricultural%20identification/.datasets/Pest%20Image%20Dataset/Pest%20Image%20Dataset.cfb7ab80bbf648588080c5e1e62a7f87/artifacts/state/state.json\n",
            "                                            0% | 0.00/6.28 MB [00:00<?, ?MB/s]: /usr/local/lib/python3.11/dist-packages/tqdm/std.py:636: TqdmWarning:\n",
            "\n",
            "clamping frac to range [0, 1]\n",
            "\n",
            "                             -992% | -62.32/6.28 MB [00:00<00:00, -920.45MB/s]: \n",
            "2025-05-24 02:10:18,691 - clearml.storage - INFO - Downloaded 6.28 MB successfully from https://files.clear.ml/Agricultural%20identification/.datasets/Pest%20Image%20Dataset/Pest%20Image%20Dataset.cfb7ab80bbf648588080c5e1e62a7f87/artifacts/state/state.json , saved to /root/.clearml/cache/storage_manager/datasets/8a37b48149a75c8584d93c28f8777a02.state.json\n",
            "ClearML Monitor: GPU monitoring failed getting GPU reading, switching off GPU monitoring\n",
            "2025-05-24 02:10:20,489 - clearml.storage - INFO - Downloading: 515.77MB from https://files.clear.ml/Agricultural%20identification/.datasets/Pest%20Image%20Dataset/Pest%20Image%20Dataset.cfb7ab80bbf648588080c5e1e62a7f87/artifacts/data/dataset.cfb7ab80bbf648588080c5e1e62a7f87.mc65vdyu.zip\n",
            "████████████████████████████ 100% | 515.77/515.77 MB [00:01<00:00, 388.29MB/s]: \n",
            "2025-05-24 02:10:21,819 - clearml.storage - INFO - Downloaded 515.77 MB successfully from https://files.clear.ml/Agricultural%20identification/.datasets/Pest%20Image%20Dataset/Pest%20Image%20Dataset.cfb7ab80bbf648588080c5e1e62a7f87/artifacts/data/dataset.cfb7ab80bbf648588080c5e1e62a7f87.mc65vdyu.zip , saved to /root/.clearml/cache/storage_manager/datasets/96d868f5cdadb005b65b416694704f5c.dataset.cfb7ab80bbf648588080c5e1e62a7f87.mc65vdyu.zip\n",
            "2025-05-24 02:10:22,108 - clearml.storage - INFO - Downloading: 515.79MB from https://files.clear.ml/Agricultural%20identification/.datasets/Pest%20Image%20Dataset/Pest%20Image%20Dataset.cfb7ab80bbf648588080c5e1e62a7f87/artifacts/data_001/dataset.cfb7ab80bbf648588080c5e1e62a7f87.5e__coly.zip\n",
            "████████████████████████████ 100% | 515.79/515.79 MB [00:01<00:00, 300.27MB/s]: \n",
            "2025-05-24 02:10:23,828 - clearml.storage - INFO - Downloaded 515.79 MB successfully from https://files.clear.ml/Agricultural%20identification/.datasets/Pest%20Image%20Dataset/Pest%20Image%20Dataset.cfb7ab80bbf648588080c5e1e62a7f87/artifacts/data_001/dataset.cfb7ab80bbf648588080c5e1e62a7f87.5e__coly.zip , saved to /root/.clearml/cache/storage_manager/datasets/000af47384f7d24fe3a9e608c520f7bf.dataset.cfb7ab80bbf648588080c5e1e62a7f87.5e__coly.zip\n",
            "2025-05-24 02:10:24,060 - clearml.storage - INFO - Downloading: 336.71MB from https://files.clear.ml/Agricultural%20identification/.datasets/Pest%20Image%20Dataset/Pest%20Image%20Dataset.cfb7ab80bbf648588080c5e1e62a7f87/artifacts/data_002/dataset.cfb7ab80bbf648588080c5e1e62a7f87.va2uuyzf.zip\n",
            "████████████████████████████ 100% | 336.71/336.71 MB [00:02<00:00, 154.39MB/s]: \n",
            "2025-05-24 02:10:26,243 - clearml.storage - INFO - Downloaded 336.71 MB successfully from https://files.clear.ml/Agricultural%20identification/.datasets/Pest%20Image%20Dataset/Pest%20Image%20Dataset.cfb7ab80bbf648588080c5e1e62a7f87/artifacts/data_002/dataset.cfb7ab80bbf648588080c5e1e62a7f87.va2uuyzf.zip , saved to /root/.clearml/cache/storage_manager/datasets/2978943c9e172ab278b706b47981ba1d.dataset.cfb7ab80bbf648588080c5e1e62a7f87.va2uuyzf.zip\n",
            "✅ Dataset retrieved, local path: /root/.clearml/cache/storage_manager/datasets/ds_cfb7ab80bbf648588080c5e1e62a7f87\n",
            "📁 'train' directory detected: /root/.clearml/cache/storage_manager/datasets/ds_cfb7ab80bbf648588080c5e1e62a7f87/train\n",
            "✅ Successfully uploaded artifact: image_dataset_dir ✅\n",
            "2025-05-24 02:11:53,782 - clearml.storage - INFO - Uploading: 1365.33MB to /tmp/ds_cfb7ab80bbf648588080c5e1e62a7f87.adxsr90p.zip\n",
            "██████████████████████████▉ 100% | 1365.33/1365.33 MB [00:23<00:00, 57.97MB/s]: \n"
          ]
        }
      ],
      "source": [
        "!python step1_dataset_artifact.py"
      ]
    },
    {
      "cell_type": "code",
      "execution_count": null,
      "id": "dn2PH1bQuCW6",
      "metadata": {
        "colab": {
          "base_uri": "https://localhost:8080/"
        },
        "id": "dn2PH1bQuCW6",
        "outputId": "f361d66f-a515-4f56-fa89-438e28bffa32"
      },
      "outputs": [
        {
          "name": "stdout",
          "output_type": "stream",
          "text": [
            "2025-05-24 02:13:05.803400: E external/local_xla/xla/stream_executor/cuda/cuda_fft.cc:477] Unable to register cuFFT factory: Attempting to register factory for plugin cuFFT when one has already been registered\n",
            "WARNING: All log messages before absl::InitializeLog() is called are written to STDERR\n",
            "E0000 00:00:1748052785.827985    5032 cuda_dnn.cc:8310] Unable to register cuDNN factory: Attempting to register factory for plugin cuDNN when one has already been registered\n",
            "E0000 00:00:1748052785.835768    5032 cuda_blas.cc:1418] Unable to register cuBLAS factory: Attempting to register factory for plugin cuBLAS when one has already been registered\n",
            "2025-05-24 02:13:05.859734: I tensorflow/core/platform/cpu_feature_guard.cc:210] This TensorFlow binary is optimized to use available CPU instructions in performance-critical operations.\n",
            "To enable the following instructions: AVX2 FMA, in other operations, rebuild TensorFlow with the appropriate compiler flags.\n",
            "ClearML Task: created new task id=97b92047cc62415e860d96e531e9dbd4\n",
            "ClearML results page: https://app.clear.ml/projects/dff39841e6c5453e90e8365dd7a56b7e/experiments/97b92047cc62415e860d96e531e9dbd4/output/log\n",
            "2025-05-24 02:13:11,015 - clearml.storage - INFO - Downloading: 1365.33MB from https://files.clear.ml/examples/Step%201%20-%20Load%20Uncompressed%20Pest%20Image%20Dataset.bd5995b712fb4c0ca9a5207e3dab5406/artifacts/image_dataset_dir/ds_cfb7ab80bbf648588080c5e1e62a7f87.zip\n",
            "█████▏                       19% | 265.00/1365.33 MB [00:00<00:03, 319.77MB/s]: ClearML Monitor: GPU monitoring failed getting GPU reading, switching off GPU monitoring\n",
            "██████████████████████████ 100% | 1365.33/1365.33 MB [00:04<00:00, 329.49MB/s]: \n",
            "2025-05-24 02:13:15,166 - clearml.storage - INFO - Downloaded 1365.33 MB successfully from https://files.clear.ml/examples/Step%201%20-%20Load%20Uncompressed%20Pest%20Image%20Dataset.bd5995b712fb4c0ca9a5207e3dab5406/artifacts/image_dataset_dir/ds_cfb7ab80bbf648588080c5e1e62a7f87.zip , saved to /root/.clearml/cache/storage_manager/global/cf4bb99f3254b9c4ee95914c839db653.ds_cfb7ab80bbf648588080c5e1e62a7f87.zip\n",
            "✅ Preprocessing complete. 5 .npy files uploaded as artifacts, ready for Step 3.\n",
            "2025-05-24 02:13:46,371 - clearml.storage - INFO - Uploading: 91.88MB to /content/HPO/X_test.npy\n",
            "███████████▍                    38% | 35.00/91.88 MB [00:00<00:00, 118.33MB/s]: 2025-05-24 02:13:46,698 - clearml.storage - INFO - Uploading: 366.94MB to /content/HPO/X_train.npy\n",
            "\n",
            "█████████████████████▏          71% | 65.00/91.88 MB [00:00<00:00, 104.91MB/s]: \n",
            "███████████████████████████████ 100% | 91.88/91.88 MB [00:00<00:00, 97.80MB/s]: \n",
            "█▏                               4% | 15.00/366.94 MB [00:00<00:13, 26.40MB/s]: \u001b[A\n",
            "██                               7% | 25.00/366.94 MB [00:00<00:08, 42.69MB/s]: \u001b[A\n",
            "███▎                            11% | 40.00/366.94 MB [00:00<00:05, 63.92MB/s]: \u001b[A\n",
            "████▍                           15% | 55.00/366.94 MB [00:00<00:03, 78.46MB/s]: \u001b[A/usr/local/lib/python3.11/dist-packages/tqdm/std.py:636: TqdmWarning:\n",
            "\n",
            "clamping frac to range [0, 1]\n",
            "\n",
            "███████████████████████████████ 100% | 91.89/91.88 MB [00:01<00:00, 72.26MB/s]: \n",
            "\n",
            "█████▋                          19% | 70.00/366.94 MB [00:01<00:03, 88.23MB/s]: \u001b[A\n",
            "██████▉                         23% | 85.00/366.94 MB [00:01<00:02, 95.25MB/s]: \u001b[A\n",
            "███████▉                       27% | 100.00/366.94 MB [00:01<00:02, 99.71MB/s]: \u001b[A\n",
            "████████▊                     31% | 115.00/366.94 MB [00:01<00:02, 103.37MB/s]: \u001b[A\n",
            "█████████▉                    35% | 130.00/366.94 MB [00:01<00:02, 105.47MB/s]: \u001b[A\n",
            "███████████                   40% | 145.00/366.94 MB [00:01<00:02, 107.16MB/s]: \u001b[A\n",
            "████████████▏                 44% | 160.00/366.94 MB [00:01<00:01, 108.14MB/s]: \u001b[A\n",
            "█████████████▎                48% | 175.00/366.94 MB [00:02<00:01, 108.96MB/s]: \u001b[A\n",
            "██████████████▍               52% | 190.00/366.94 MB [00:02<00:01, 109.31MB/s]: \u001b[A\n",
            "███████████████▋              56% | 205.00/366.94 MB [00:02<00:01, 109.40MB/s]: \u001b[A\n",
            "████████████████▊             60% | 220.00/366.94 MB [00:02<00:01, 109.89MB/s]: \u001b[A\n",
            "█████████████████▉            64% | 235.00/366.94 MB [00:02<00:01, 110.53MB/s]: \u001b[A\n",
            "███████████████████           68% | 250.00/366.94 MB [00:02<00:01, 110.98MB/s]: \u001b[A\n",
            "████████████████████▏         72% | 265.00/366.94 MB [00:02<00:00, 111.20MB/s]: \u001b[A\n",
            "█████████████████████▎        76% | 280.00/366.94 MB [00:02<00:00, 111.16MB/s]: \u001b[A\n",
            "██████████████████████▌       80% | 295.00/366.94 MB [00:03<00:00, 111.27MB/s]: \u001b[A\n",
            "███████████████████████▋      84% | 310.00/366.94 MB [00:03<00:00, 111.41MB/s]: \u001b[A\n",
            "████████████████████████▊     89% | 325.00/366.94 MB [00:03<00:00, 111.55MB/s]: \u001b[A\n",
            "█████████████████████████▉    93% | 340.00/366.94 MB [00:03<00:00, 111.74MB/s]: \u001b[A\n",
            "███████████████████████████   97% | 355.00/366.94 MB [00:03<00:00, 111.93MB/s]: \u001b[A\n",
            "████████████████████████████ 100% | 366.94/366.94 MB [00:03<00:00, 111.91MB/s]: \u001b[A/usr/local/lib/python3.11/dist-packages/tqdm/std.py:636: TqdmWarning:\n",
            "\n",
            "clamping frac to range [0, 1]\n",
            "\n",
            "█████████████████████████████ 100% | 366.94/366.94 MB [00:06<00:00, 59.25MB/s]: \n"
          ]
        }
      ],
      "source": [
        "#!python s2_data_preprocessing.py\n",
        "!python step2_data_preprocessing.py"
      ]
    },
    {
      "cell_type": "code",
      "execution_count": null,
      "id": "vAY3ayM8uCg3",
      "metadata": {
        "colab": {
          "base_uri": "https://localhost:8080/"
        },
        "id": "vAY3ayM8uCg3",
        "outputId": "69a1202c-5b9a-4353-9c83-023006620692"
      },
      "outputs": [
        {
          "name": "stdout",
          "output_type": "stream",
          "text": [
            "ClearML Task: created new task id=8a99258673cd4e02a2b788d5b9437d9a\n",
            "2025-05-24 02:15:54.094361: E external/local_xla/xla/stream_executor/cuda/cuda_fft.cc:477] Unable to register cuFFT factory: Attempting to register factory for plugin cuFFT when one has already been registered\n",
            "WARNING: All log messages before absl::InitializeLog() is called are written to STDERR\n",
            "E0000 00:00:1748052954.118165    5824 cuda_dnn.cc:8310] Unable to register cuDNN factory: Attempting to register factory for plugin cuDNN when one has already been registered\n",
            "E0000 00:00:1748052954.125346    5824 cuda_blas.cc:1418] Unable to register cuBLAS factory: Attempting to register factory for plugin cuBLAS when one has already been registered\n",
            "2025-05-24 02:15:54.149007: I tensorflow/core/platform/cpu_feature_guard.cc:210] This TensorFlow binary is optimized to use available CPU instructions in performance-critical operations.\n",
            "To enable the following instructions: AVX2 FMA, in other operations, rebuild TensorFlow with the appropriate compiler flags.\n",
            "ClearML results page: https://app.clear.ml/projects/dff39841e6c5453e90e8365dd7a56b7e/experiments/8a99258673cd4e02a2b788d5b9437d9a/output/log\n",
            "INFO:__main__:Using Step 2 task ID: 97b92047cc62415e860d96e531e9dbd4\n",
            "INFO:__main__:Training configuration:\n",
            "INFO:__main__:  step2_task_id: 97b92047cc62415e860d96e531e9dbd4\n",
            "INFO:__main__:  processed_dataset_id: 97b92047cc62415e860d96e531e9dbd4\n",
            "INFO:__main__:  batch_size: 32\n",
            "INFO:__main__:  num_epochs: 10\n",
            "INFO:__main__:  learning_rate: 0.001\n",
            "INFO:__main__:  weight_decay: 1e-05\n",
            "INFO:__main__:  dropout_rate: 0.5\n",
            "INFO:__main__:  test_queue: pipeline\n",
            "INFO:__main__:  device: cpu\n",
            "2025-05-24 02:15:57,877 - clearml.storage - INFO - Downloading: 366.94MB from https://files.clear.ml/Agri-Pest-Detection/Step%202%20-%20Preprocessing%20%28artifact%20version%29.97b92047cc62415e860d96e531e9dbd4/artifacts/X_train.npy/X_train.npy\n",
            "███████████████████████████▊  99% | 365.00/366.94 MB [00:00<00:00, 419.95MB/s]: /usr/local/lib/python3.11/dist-packages/tqdm/std.py:636: TqdmWarning:\n",
            "\n",
            "clamping frac to range [0, 1]\n",
            "\n",
            "████████████████████████████ 100% | 366.94/366.94 MB [00:00<00:00, 386.20MB/s]: \n",
            "2025-05-24 02:15:58,830 - clearml.storage - INFO - Downloaded 366.94 MB successfully from https://files.clear.ml/Agri-Pest-Detection/Step%202%20-%20Preprocessing%20%28artifact%20version%29.97b92047cc62415e860d96e531e9dbd4/artifacts/X_train.npy/X_train.npy , saved to /root/.clearml/cache/storage_manager/global/e16930a1e8b7738c261365c4100a6be3.X_train.npy\n",
            "ClearML Monitor: GPU monitoring failed getting GPU reading, switching off GPU monitoring\n",
            "2025-05-24 02:15:59,100 - clearml.storage - INFO - Downloading: 91.88MB from https://files.clear.ml/Agri-Pest-Detection/Step%202%20-%20Preprocessing%20%28artifact%20version%29.97b92047cc62415e860d96e531e9dbd4/artifacts/X_test.npy/X_test.npy\n",
            "██████████████████████████████ 100% | 91.88/91.88 MB [00:00<00:00, 321.89MB/s]: \n",
            "2025-05-24 02:15:59,387 - clearml.storage - INFO - Downloaded 91.88 MB successfully from https://files.clear.ml/Agri-Pest-Detection/Step%202%20-%20Preprocessing%20%28artifact%20version%29.97b92047cc62415e860d96e531e9dbd4/artifacts/X_test.npy/X_test.npy , saved to /root/.clearml/cache/storage_manager/global/2bb5b72e49f6698729623b2bbb16a4df.X_test.npy\n",
            "INFO:__main__:Loaded data - Train: (1957, 256, 256, 3), Test: (490, 256, 256, 3)\n",
            "INFO:__main__:Number of classes: 38\n",
            "INFO:__main__:Starting training for 10 epochs...\n",
            "ClearML Monitor: Could not detect iteration reporting, falling back to iterations as seconds-from-start\n",
            "2025-05-24 02:22:31,993 - clearml.frameworks - INFO - Found existing registered model id=7b9c7402d12340a9a0fa73b565b72d18 [/content/HPO/best_model_checkpoint.pth] reusing it.\n",
            "INFO:__main__:Epoch 1/10 - Train Loss: 0.6178, Train Acc: 0.8457, Val Loss: 0.2139, Val Acc: 0.8959\n",
            "INFO:__main__:Epoch 2/10 - Train Loss: 0.2430, Train Acc: 0.9101, Val Loss: 0.3006, Val Acc: 0.9163\n",
            "INFO:__main__:Epoch 3/10 - Train Loss: 0.2287, Train Acc: 0.9203, Val Loss: 0.2574, Val Acc: 0.9041\n",
            "INFO:__main__:Epoch 4/10 - Train Loss: 0.1839, Train Acc: 0.9387, Val Loss: 0.1431, Val Acc: 0.9612\n",
            "INFO:__main__:Epoch 5/10 - Train Loss: 0.1626, Train Acc: 0.9469, Val Loss: 0.1472, Val Acc: 0.9551\n",
            "INFO:__main__:Epoch 6/10 - Train Loss: 0.1410, Train Acc: 0.9484, Val Loss: 0.2164, Val Acc: 0.9265\n",
            "INFO:__main__:Epoch 7/10 - Train Loss: 0.1556, Train Acc: 0.9407, Val Loss: 0.2293, Val Acc: 0.9367\n",
            "INFO:__main__:Epoch 8/10 - Train Loss: 0.1620, Train Acc: 0.9489, Val Loss: 0.3838, Val Acc: 0.8878\n",
            "INFO:__main__:Epoch 9/10 - Train Loss: 0.1422, Train Acc: 0.9530, Val Loss: 0.1827, Val Acc: 0.9490\n",
            "INFO:__main__:Epoch 10/10 - Train Loss: 0.1409, Train Acc: 0.9525, Val Loss: 0.4732, Val Acc: 0.9041\n",
            "/usr/local/lib/python3.11/dist-packages/sklearn/metrics/_classification.py:1509: UndefinedMetricWarning:\n",
            "\n",
            "Precision is ill-defined and being set to 0.0 in labels with no predicted samples. Use `zero_division` parameter to control this behavior.\n",
            "\n",
            "INFO:__main__:\n",
            "Final Test Results:\n",
            "INFO:__main__:Test Loss: 0.4732\n",
            "INFO:__main__:Test Accuracy: 0.9041\n",
            "INFO:__main__:Precision: 0.5868\n",
            "INFO:__main__:Recall: 0.5160\n",
            "INFO:__main__:Best Validation Accuracy: 0.9612 at epoch 4\n",
            "2025-05-24 03:22:03,037 - clearml.frameworks - INFO - Found existing registered model id=c881472d91bd4ebca434b20e6dec6d44 [/content/HPO/pest_cnn_model.pth] reusing it.\n",
            "INFO:__main__:✅ Model training completed successfully!\n"
          ]
        }
      ],
      "source": [
        "!python step3_train_model.py"
      ]
    },
    {
      "cell_type": "code",
      "execution_count": null,
      "id": "45upDPrsnELe",
      "metadata": {
        "colab": {
          "base_uri": "https://localhost:8080/"
        },
        "id": "45upDPrsnELe",
        "outputId": "bc7128cb-d220-42ab-bd48-1f75d451dbb2"
      },
      "outputs": [
        {
          "name": "stdout",
          "output_type": "stream",
          "text": [
            "ClearML Task: created new task id=1e8002e4b10b48a6853caea309e5fae7\n",
            "2025-05-24 03:23:45.470295: E external/local_xla/xla/stream_executor/cuda/cuda_fft.cc:477] Unable to register cuFFT factory: Attempting to register factory for plugin cuFFT when one has already been registered\n",
            "WARNING: All log messages before absl::InitializeLog() is called are written to STDERR\n",
            "E0000 00:00:1748057025.500726   22086 cuda_dnn.cc:8310] Unable to register cuDNN factory: Attempting to register factory for plugin cuDNN when one has already been registered\n",
            "E0000 00:00:1748057025.509941   22086 cuda_blas.cc:1418] Unable to register cuBLAS factory: Attempting to register factory for plugin cuBLAS when one has already been registered\n",
            "2025-05-24 03:23:45.547583: I tensorflow/core/platform/cpu_feature_guard.cc:210] This TensorFlow binary is optimized to use available CPU instructions in performance-critical operations.\n",
            "To enable the following instructions: AVX2 FMA, in other operations, rebuild TensorFlow with the appropriate compiler flags.\n",
            "ClearML results page: https://app.clear.ml/projects/dff39841e6c5453e90e8365dd7a56b7e/experiments/1e8002e4b10b48a6853caea309e5fae7/output/log\n",
            "INFO:__main__:🚀 Starting HPO...\n",
            "\u001b[32m[I 2025-05-24 03:23:49,744]\u001b[0m A new study created in memory with name: 1e8002e4b10b48a6853caea309e5fae7\u001b[0m\n",
            "Progress report #0 completed, sleeping for 0.25 minutes\n",
            "2025-05-24 03:23:50,180 - clearml.automation.optimization - INFO - Creating new Task: {'General/learning_rate': 0.0001, 'General/batch_size': 16, 'General/weight_decay': 1e-05, 'General/num_epochs': 5, 'General/dropout_rate': 0.5}\n",
            "ClearML Monitor: GPU monitoring failed getting GPU reading, switching off GPU monitoring\n",
            "2025-05-24 03:23:56.221549: E external/local_xla/xla/stream_executor/cuda/cuda_fft.cc:477] Unable to register cuFFT factory: Attempting to register factory for plugin cuFFT when one has already been registered\n",
            "WARNING: All log messages before absl::InitializeLog() is called are written to STDERR\n",
            "E0000 00:00:1748057036.246870   22196 cuda_dnn.cc:8310] Unable to register cuDNN factory: Attempting to register factory for plugin cuDNN when one has already been registered\n",
            "E0000 00:00:1748057036.254536   22196 cuda_blas.cc:1418] Unable to register cuBLAS factory: Attempting to register factory for plugin cuBLAS when one has already been registered\n",
            "ClearML results page: https://app.clear.ml/projects/dff39841e6c5453e90e8365dd7a56b7e/experiments/f72d6ad0a4644464834da91ad1b5bc64/output/log\n",
            "INFO:__main__:Using Step 2 task ID: 97b92047cc62415e860d96e531e9dbd4\n",
            "INFO:__main__:Training configuration:\n",
            "INFO:__main__:  step2_task_id: 97b92047cc62415e860d96e531e9dbd4\n",
            "INFO:__main__:  processed_dataset_id: 97b92047cc62415e860d96e531e9dbd4\n",
            "INFO:__main__:  batch_size: 16\n",
            "INFO:__main__:  num_epochs: 5\n",
            "INFO:__main__:  learning_rate: 0.0001\n",
            "INFO:__main__:  weight_decay: 1e-05\n",
            "INFO:__main__:  dropout_rate: 0.5\n",
            "INFO:__main__:  test_queue: pipeline\n",
            "INFO:__main__:  device: cpu\n",
            "INFO:__main__:Loaded data - Train: (1957, 256, 256, 3), Test: (490, 256, 256, 3)\n",
            "INFO:__main__:Number of classes: 38\n",
            "ClearML Monitor: GPU monitoring failed getting GPU reading, switching off GPU monitoring\n",
            "INFO:__main__:Starting training for 5 epochs...\n",
            "Progress report #1 completed, sleeping for 5.0 minutes\n",
            "ClearML Monitor: Could not detect iteration reporting, falling back to iterations as seconds-from-start\n",
            "Progress report #2 completed, sleeping for 5.0 minutes\n",
            "2025-05-24 03:31:05,040 - clearml.frameworks - INFO - Found existing registered model id=7b9c7402d12340a9a0fa73b565b72d18 [/content/HPO/best_model_checkpoint.pth] reusing it.\n",
            "INFO:__main__:Epoch 1/5 - Train Loss: 1.4788, Train Acc: 0.7936, Val Loss: 0.3406, Val Acc: 0.9020\n",
            "/usr/local/lib/python3.11/dist-packages/optuna/trial/_trial.py:497: UserWarning:\n",
            "\n",
            "The reported value is ignored because this `step` 0 is already reported.\n",
            "\n",
            "Progress report #3 completed, sleeping for 5.0 minutes\n",
            "INFO:__main__:Epoch 2/5 - Train Loss: 0.3529, Train Acc: 0.8820, Val Loss: 0.2213, Val Acc: 0.9490\n",
            "Progress report #4 completed, sleeping for 5.0 minutes\n",
            "/usr/local/lib/python3.11/dist-packages/optuna/trial/_trial.py:497: UserWarning:\n",
            "\n",
            "The reported value is ignored because this `step` 1 is already reported.\n",
            "\n",
            "INFO:__main__:Epoch 3/5 - Train Loss: 0.2743, Train Acc: 0.8947, Val Loss: 0.2009, Val Acc: 0.9224\n",
            "Progress report #5 completed, sleeping for 5.0 minutes\n",
            "/usr/local/lib/python3.11/dist-packages/optuna/trial/_trial.py:497: UserWarning:\n",
            "\n",
            "The reported value is ignored because this `step` 2 is already reported.\n",
            "\n",
            "Progress report #6 completed, sleeping for 5.0 minutes\n",
            "INFO:__main__:Epoch 4/5 - Train Loss: 0.2375, Train Acc: 0.9106, Val Loss: 0.1825, Val Acc: 0.9122\n",
            "/usr/local/lib/python3.11/dist-packages/optuna/trial/_trial.py:497: UserWarning:\n",
            "\n",
            "The reported value is ignored because this `step` 3 is already reported.\n",
            "\n",
            "Progress report #7 completed, sleeping for 5.0 minutes\n",
            "INFO:__main__:Epoch 5/5 - Train Loss: 0.2160, Train Acc: 0.9213, Val Loss: 0.1450, Val Acc: 0.9571\n",
            "/usr/local/lib/python3.11/dist-packages/sklearn/metrics/_classification.py:1509: UndefinedMetricWarning:\n",
            "\n",
            "Precision is ill-defined and being set to 0.0 in labels with no predicted samples. Use `zero_division` parameter to control this behavior.\n",
            "\n",
            "INFO:__main__:\n",
            "Final Test Results:\n",
            "INFO:__main__:Test Loss: 0.1450\n",
            "INFO:__main__:Test Accuracy: 0.9571\n",
            "INFO:__main__:Precision: 0.6067\n",
            "INFO:__main__:Recall: 0.6023\n",
            "INFO:__main__:Best Validation Accuracy: 0.9571 at epoch 5\n",
            "2025-05-24 03:57:41,005 - clearml.frameworks - INFO - Found existing registered model id=c881472d91bd4ebca434b20e6dec6d44 [/content/HPO/pest_cnn_model.pth] reusing it.\n",
            "INFO:__main__:✅ Model training completed successfully!\n",
            "Progress report #8 completed, sleeping for 5.0 minutes\n",
            "/usr/local/lib/python3.11/dist-packages/optuna/trial/_trial.py:497: UserWarning:\n",
            "\n",
            "The reported value is ignored because this `step` 4 is already reported.\n",
            "\n",
            "OptunaObjective result metric=0.9571428571428572, iteration (4, 0.9571428298950195)\n",
            "\u001b[32m[I 2025-05-24 03:59:09,974]\u001b[0m Trial 0 finished with value: 0.9571428571428572 and parameters: {'General/learning_rate': 0.0001, 'General/batch_size': 16, 'General/weight_decay': 1e-05, 'General/num_epochs': 5, 'General/dropout_rate': 0.5}. Best is trial 0 with value: 0.9571428571428572.\u001b[0m\n",
            "2025-05-24 03:59:10,467 - clearml.automation.optimization - INFO - Creating new Task: {'General/learning_rate': 0.0005, 'General/batch_size': 16, 'General/weight_decay': 1e-05, 'General/num_epochs': 10, 'General/dropout_rate': 0.5}\n",
            "2025-05-24 03:59:16.783729: E external/local_xla/xla/stream_executor/cuda/cuda_fft.cc:477] Unable to register cuFFT factory: Attempting to register factory for plugin cuFFT when one has already been registered\n",
            "WARNING: All log messages before absl::InitializeLog() is called are written to STDERR\n",
            "E0000 00:00:1748059156.809151   30691 cuda_dnn.cc:8310] Unable to register cuDNN factory: Attempting to register factory for plugin cuDNN when one has already been registered\n",
            "E0000 00:00:1748059156.817135   30691 cuda_blas.cc:1418] Unable to register cuBLAS factory: Attempting to register factory for plugin cuBLAS when one has already been registered\n",
            "ClearML results page: https://app.clear.ml/projects/dff39841e6c5453e90e8365dd7a56b7e/experiments/7d6f0066663c4cfbbee5ab7096b1e76e/output/log\n",
            "INFO:__main__:Using Step 2 task ID: 97b92047cc62415e860d96e531e9dbd4\n",
            "INFO:__main__:Training configuration:\n",
            "INFO:__main__:  step2_task_id: 97b92047cc62415e860d96e531e9dbd4\n",
            "INFO:__main__:  processed_dataset_id: 97b92047cc62415e860d96e531e9dbd4\n",
            "INFO:__main__:  batch_size: 16\n",
            "INFO:__main__:  num_epochs: 10\n",
            "INFO:__main__:  learning_rate: 0.0005\n",
            "INFO:__main__:  weight_decay: 1e-05\n",
            "INFO:__main__:  dropout_rate: 0.5\n",
            "INFO:__main__:  test_queue: pipeline\n",
            "INFO:__main__:  device: cpu\n",
            "INFO:__main__:Loaded data - Train: (1957, 256, 256, 3), Test: (490, 256, 256, 3)\n",
            "INFO:__main__:Number of classes: 38\n",
            "ClearML Monitor: GPU monitoring failed getting GPU reading, switching off GPU monitoring\n",
            "INFO:__main__:Starting training for 10 epochs...\n",
            "ClearML Monitor: Could not detect iteration reporting, falling back to iterations as seconds-from-start\n",
            "Updating job performance summary plot/table\n",
            "Progress report #9 completed, sleeping for 5.0 minutes\n",
            "2025-05-24 04:06:19,375 - clearml.frameworks - INFO - Found existing registered model id=7b9c7402d12340a9a0fa73b565b72d18 [/content/HPO/best_model_checkpoint.pth] reusing it.\n",
            "INFO:__main__:Epoch 1/10 - Train Loss: 0.6478, Train Acc: 0.8385, Val Loss: 0.2688, Val Acc: 0.9306\n",
            "Progress report #10 completed, sleeping for 5.0 minutes\n",
            "INFO:__main__:Epoch 2/10 - Train Loss: 0.2574, Train Acc: 0.8988, Val Loss: 0.1630, Val Acc: 0.9245\n",
            "Progress report #11 completed, sleeping for 5.0 minutes\n",
            "INFO:__main__:Epoch 3/10 - Train Loss: 0.2306, Train Acc: 0.9039, Val Loss: 0.1858, Val Acc: 0.9265\n",
            "Progress report #12 completed, sleeping for 5.0 minutes\n",
            "Progress report #13 completed, sleeping for 5.0 minutes\n",
            "INFO:__main__:Epoch 4/10 - Train Loss: 0.2087, Train Acc: 0.9162, Val Loss: 0.1768, Val Acc: 0.9388\n",
            "Progress report #14 completed, sleeping for 5.0 minutes\n",
            "INFO:__main__:Epoch 5/10 - Train Loss: 0.1950, Train Acc: 0.9325, Val Loss: 0.1265, Val Acc: 0.9551\n",
            "Progress report #15 completed, sleeping for 5.0 minutes\n",
            "INFO:__main__:Epoch 6/10 - Train Loss: 0.1589, Train Acc: 0.9448, Val Loss: 0.1339, Val Acc: 0.9571\n",
            "Progress report #16 completed, sleeping for 5.0 minutes\n",
            "/usr/local/lib/python3.11/dist-packages/optuna/trial/_trial.py:497: UserWarning:\n",
            "\n",
            "The reported value is ignored because this `step` 5 is already reported.\n",
            "\n",
            "INFO:__main__:Epoch 7/10 - Train Loss: 0.1319, Train Acc: 0.9555, Val Loss: 0.1819, Val Acc: 0.9367\n",
            "Progress report #17 completed, sleeping for 5.0 minutes\n",
            "/usr/local/lib/python3.11/dist-packages/optuna/trial/_trial.py:497: UserWarning:\n",
            "\n",
            "The reported value is ignored because this `step` 6 is already reported.\n",
            "\n",
            "Progress report #18 completed, sleeping for 5.0 minutes\n",
            "INFO:__main__:Epoch 8/10 - Train Loss: 0.1216, Train Acc: 0.9581, Val Loss: 0.1306, Val Acc: 0.9592\n",
            "/usr/local/lib/python3.11/dist-packages/optuna/trial/_trial.py:497: UserWarning:\n",
            "\n",
            "The reported value is ignored because this `step` 7 is already reported.\n",
            "\n",
            "Progress report #19 completed, sleeping for 5.0 minutes\n",
            "INFO:__main__:Epoch 9/10 - Train Loss: 0.1322, Train Acc: 0.9586, Val Loss: 0.1265, Val Acc: 0.9633\n",
            "/usr/local/lib/python3.11/dist-packages/optuna/trial/_trial.py:497: UserWarning:\n",
            "\n",
            "The reported value is ignored because this `step` 8 is already reported.\n",
            "\n",
            "Progress report #20 completed, sleeping for 5.0 minutes\n",
            "INFO:__main__:Epoch 10/10 - Train Loss: 0.1287, Train Acc: 0.9612, Val Loss: 0.3586, Val Acc: 0.9041\n",
            "/usr/local/lib/python3.11/dist-packages/sklearn/metrics/_classification.py:1509: UndefinedMetricWarning:\n",
            "\n",
            "Precision is ill-defined and being set to 0.0 in labels with no predicted samples. Use `zero_division` parameter to control this behavior.\n",
            "\n",
            "INFO:__main__:\n",
            "Final Test Results:\n",
            "INFO:__main__:Test Loss: 0.3586\n",
            "INFO:__main__:Test Accuracy: 0.9041\n",
            "INFO:__main__:Precision: 0.5568\n",
            "INFO:__main__:Recall: 0.5779\n",
            "INFO:__main__:Best Validation Accuracy: 0.9633 at epoch 9\n",
            "2025-05-24 05:03:34,794 - clearml.frameworks - INFO - Found existing registered model id=c881472d91bd4ebca434b20e6dec6d44 [/content/HPO/pest_cnn_model.pth] reusing it.\n",
            "INFO:__main__:✅ Model training completed successfully!\n",
            "Progress report #21 completed, sleeping for 5.0 minutes\n",
            "OptunaObjective result metric=0.9040816326530612, iteration (9, 0.9040816426277161)\n",
            "\u001b[32m[I 2025-05-24 05:04:30,479]\u001b[0m Trial 1 finished with value: 0.9040816326530612 and parameters: {'General/learning_rate': 0.0005, 'General/batch_size': 16, 'General/weight_decay': 1e-05, 'General/num_epochs': 10, 'General/dropout_rate': 0.5}. Best is trial 0 with value: 0.9571428571428572.\u001b[0m\n",
            "2025-05-24 05:04:30,888 - clearml.automation.optimization - INFO - Creating new Task: {'General/learning_rate': 0.0001, 'General/batch_size': 16, 'General/weight_decay': 1e-05, 'General/num_epochs': 5, 'General/dropout_rate': 0.4}\n",
            "2025-05-24 05:04:37.858454: E external/local_xla/xla/stream_executor/cuda/cuda_fft.cc:477] Unable to register cuFFT factory: Attempting to register factory for plugin cuFFT when one has already been registered\n",
            "WARNING: All log messages before absl::InitializeLog() is called are written to STDERR\n",
            "E0000 00:00:1748063077.890384   46343 cuda_dnn.cc:8310] Unable to register cuDNN factory: Attempting to register factory for plugin cuDNN when one has already been registered\n",
            "E0000 00:00:1748063077.900287   46343 cuda_blas.cc:1418] Unable to register cuBLAS factory: Attempting to register factory for plugin cuBLAS when one has already been registered\n",
            "ClearML results page: https://app.clear.ml/projects/dff39841e6c5453e90e8365dd7a56b7e/experiments/4105c21c6208472281ce77a01659d2a6/output/log\n",
            "INFO:__main__:Using Step 2 task ID: 97b92047cc62415e860d96e531e9dbd4\n",
            "INFO:__main__:Training configuration:\n",
            "INFO:__main__:  step2_task_id: 97b92047cc62415e860d96e531e9dbd4\n",
            "INFO:__main__:  processed_dataset_id: 97b92047cc62415e860d96e531e9dbd4\n",
            "INFO:__main__:  batch_size: 16\n",
            "INFO:__main__:  num_epochs: 5\n",
            "INFO:__main__:  learning_rate: 0.0001\n",
            "INFO:__main__:  weight_decay: 1e-05\n",
            "INFO:__main__:  dropout_rate: 0.4\n",
            "INFO:__main__:  test_queue: pipeline\n",
            "INFO:__main__:  device: cpu\n",
            "INFO:__main__:Loaded data - Train: (1957, 256, 256, 3), Test: (490, 256, 256, 3)\n",
            "INFO:__main__:Number of classes: 38\n",
            "ClearML Monitor: GPU monitoring failed getting GPU reading, switching off GPU monitoring\n",
            "INFO:__main__:Starting training for 5 epochs...\n",
            "ClearML Monitor: Could not detect iteration reporting, falling back to iterations as seconds-from-start\n",
            "Updating job performance summary plot/table\n",
            "Progress report #22 completed, sleeping for 5.0 minutes\n",
            "2025-05-24 05:10:50,564 - clearml.frameworks - INFO - Found existing registered model id=7b9c7402d12340a9a0fa73b565b72d18 [/content/HPO/best_model_checkpoint.pth] reusing it.\n",
            "INFO:__main__:Epoch 1/5 - Train Loss: 1.4300, Train Acc: 0.8099, Val Loss: 0.3262, Val Acc: 0.9041\n",
            "Progress report #23 completed, sleeping for 5.0 minutes\n",
            "INFO:__main__:Epoch 2/5 - Train Loss: 0.3365, Train Acc: 0.8855, Val Loss: 0.2140, Val Acc: 0.9327\n",
            "Progress report #24 completed, sleeping for 5.0 minutes\n",
            "INFO:__main__:Epoch 3/5 - Train Loss: 0.2631, Train Acc: 0.9009, Val Loss: 0.2068, Val Acc: 0.9286\n",
            "Progress report #25 completed, sleeping for 5.0 minutes\n",
            "Progress report #26 completed, sleeping for 5.0 minutes\n",
            "INFO:__main__:Epoch 4/5 - Train Loss: 0.2198, Train Acc: 0.9218, Val Loss: 0.1881, Val Acc: 0.9041\n",
            "Progress report #27 completed, sleeping for 5.0 minutes\n",
            "INFO:__main__:Epoch 5/5 - Train Loss: 0.2046, Train Acc: 0.9310, Val Loss: 0.1402, Val Acc: 0.9571\n",
            "/usr/local/lib/python3.11/dist-packages/sklearn/metrics/_classification.py:1509: UndefinedMetricWarning:\n",
            "\n",
            "Precision is ill-defined and being set to 0.0 in labels with no predicted samples. Use `zero_division` parameter to control this behavior.\n",
            "\n",
            "INFO:__main__:\n",
            "Final Test Results:\n",
            "INFO:__main__:Test Loss: 0.1402\n",
            "INFO:__main__:Test Accuracy: 0.9571\n",
            "INFO:__main__:Precision: 0.6129\n",
            "INFO:__main__:Recall: 0.6008\n",
            "INFO:__main__:Best Validation Accuracy: 0.9571 at epoch 5\n",
            "2025-05-24 05:37:42,295 - clearml.frameworks - INFO - Found existing registered model id=c881472d91bd4ebca434b20e6dec6d44 [/content/HPO/pest_cnn_model.pth] reusing it.\n",
            "INFO:__main__:✅ Model training completed successfully!\n",
            "OptunaObjective result metric=0.9571428571428572, iteration (4, 0.9571428298950195)\n",
            "\u001b[32m[I 2025-05-24 05:38:56,912]\u001b[0m Trial 2 finished with value: 0.9571428571428572 and parameters: {'General/learning_rate': 0.0001, 'General/batch_size': 16, 'General/weight_decay': 1e-05, 'General/num_epochs': 5, 'General/dropout_rate': 0.4}. Best is trial 0 with value: 0.9571428571428572.\u001b[0m\n",
            "2025-05-24 05:38:57,339 - clearml.automation.optimization - INFO - Creating new Task: {'General/learning_rate': 0.0001, 'General/batch_size': 64, 'General/weight_decay': 1e-06, 'General/num_epochs': 5, 'General/dropout_rate': 0.6}\n",
            "2025-05-24 05:39:03.838932: E external/local_xla/xla/stream_executor/cuda/cuda_fft.cc:477] Unable to register cuFFT factory: Attempting to register factory for plugin cuFFT when one has already been registered\n",
            "WARNING: All log messages before absl::InitializeLog() is called are written to STDERR\n",
            "E0000 00:00:1748065143.866846   54623 cuda_dnn.cc:8310] Unable to register cuDNN factory: Attempting to register factory for plugin cuDNN when one has already been registered\n",
            "E0000 00:00:1748065143.875765   54623 cuda_blas.cc:1418] Unable to register cuBLAS factory: Attempting to register factory for plugin cuBLAS when one has already been registered\n",
            "ClearML results page: https://app.clear.ml/projects/dff39841e6c5453e90e8365dd7a56b7e/experiments/bf0a5dd44bd74bf2ae3c9fe2dfd330b0/output/log\n",
            "INFO:__main__:Using Step 2 task ID: 97b92047cc62415e860d96e531e9dbd4\n",
            "INFO:__main__:Training configuration:\n",
            "INFO:__main__:  step2_task_id: 97b92047cc62415e860d96e531e9dbd4\n",
            "INFO:__main__:  processed_dataset_id: 97b92047cc62415e860d96e531e9dbd4\n",
            "INFO:__main__:  batch_size: 64\n",
            "INFO:__main__:  num_epochs: 5\n",
            "INFO:__main__:  learning_rate: 0.0001\n",
            "INFO:__main__:  weight_decay: 1e-06\n",
            "INFO:__main__:  dropout_rate: 0.6\n",
            "INFO:__main__:  test_queue: pipeline\n",
            "INFO:__main__:  device: cpu\n",
            "INFO:__main__:Loaded data - Train: (1957, 256, 256, 3), Test: (490, 256, 256, 3)\n",
            "INFO:__main__:Number of classes: 38\n",
            "ClearML Monitor: GPU monitoring failed getting GPU reading, switching off GPU monitoring\n",
            "INFO:__main__:Starting training for 5 epochs...\n",
            "Updating job performance summary plot/table\n",
            "Progress report #28 completed, sleeping for 5.0 minutes\n",
            "ClearML Monitor: Could not detect iteration reporting, falling back to iterations as seconds-from-start\n",
            "Progress report #29 completed, sleeping for 5.0 minutes\n",
            "2025-05-24 05:45:23,469 - clearml.frameworks - INFO - Found existing registered model id=7b9c7402d12340a9a0fa73b565b72d18 [/content/HPO/best_model_checkpoint.pth] reusing it.\n",
            "INFO:__main__:Epoch 1/5 - Train Loss: 2.7767, Train Acc: 0.6403, Val Loss: 2.9178, Val Acc: 0.7571\n",
            "Progress report #30 completed, sleeping for 5.0 minutes\n",
            "INFO:__main__:Epoch 2/5 - Train Loss: 1.4351, Train Acc: 0.8815, Val Loss: 1.0032, Val Acc: 0.9204\n",
            "Progress report #31 completed, sleeping for 5.0 minutes\n",
            "INFO:__main__:Epoch 3/5 - Train Loss: 0.6218, Train Acc: 0.8830, Val Loss: 0.3623, Val Acc: 0.9224\n",
            "Progress report #32 completed, sleeping for 5.0 minutes\n",
            "Progress report #33 completed, sleeping for 5.0 minutes\n",
            "INFO:__main__:Epoch 4/5 - Train Loss: 0.3953, Train Acc: 0.8886, Val Loss: 0.2623, Val Acc: 0.9327\n",
            "Progress report #34 completed, sleeping for 5.0 minutes\n",
            "INFO:__main__:Epoch 5/5 - Train Loss: 0.3137, Train Acc: 0.8988, Val Loss: 0.2201, Val Acc: 0.9286\n",
            "/usr/local/lib/python3.11/dist-packages/sklearn/metrics/_classification.py:1509: UndefinedMetricWarning:\n",
            "\n",
            "Precision is ill-defined and being set to 0.0 in labels with no predicted samples. Use `zero_division` parameter to control this behavior.\n",
            "\n",
            "INFO:__main__:\n",
            "Final Test Results:\n",
            "INFO:__main__:Test Loss: 0.2201\n",
            "INFO:__main__:Test Accuracy: 0.9286\n",
            "INFO:__main__:Precision: 0.5741\n",
            "INFO:__main__:Recall: 0.5623\n",
            "INFO:__main__:Best Validation Accuracy: 0.9327 at epoch 4\n",
            "2025-05-24 06:12:21,887 - clearml.frameworks - INFO - Found existing registered model id=c881472d91bd4ebca434b20e6dec6d44 [/content/HPO/pest_cnn_model.pth] reusing it.\n",
            "INFO:__main__:✅ Model training completed successfully!\n",
            "OptunaObjective result metric=0.9285714285714286, iteration (4, 0.9285714030265808)\n",
            "\u001b[32m[I 2025-05-24 06:13:32,641]\u001b[0m Trial 3 finished with value: 0.9285714285714286 and parameters: {'General/learning_rate': 0.0001, 'General/batch_size': 64, 'General/weight_decay': 1e-06, 'General/num_epochs': 5, 'General/dropout_rate': 0.6}. Best is trial 0 with value: 0.9571428571428572.\u001b[0m\n",
            "2025-05-24 06:13:33,059 - clearml.automation.optimization - INFO - Creating new Task: {'General/learning_rate': 0.0005, 'General/batch_size': 64, 'General/weight_decay': 1e-06, 'General/num_epochs': 5, 'General/dropout_rate': 0.4}\n",
            "2025-05-24 06:13:39.605324: E external/local_xla/xla/stream_executor/cuda/cuda_fft.cc:477] Unable to register cuFFT factory: Attempting to register factory for plugin cuFFT when one has already been registered\n",
            "WARNING: All log messages before absl::InitializeLog() is called are written to STDERR\n",
            "E0000 00:00:1748067219.639623   62939 cuda_dnn.cc:8310] Unable to register cuDNN factory: Attempting to register factory for plugin cuDNN when one has already been registered\n",
            "E0000 00:00:1748067219.647530   62939 cuda_blas.cc:1418] Unable to register cuBLAS factory: Attempting to register factory for plugin cuBLAS when one has already been registered\n",
            "ClearML results page: https://app.clear.ml/projects/dff39841e6c5453e90e8365dd7a56b7e/experiments/6494282ed8c449c18596d6d8f6c2321c/output/log\n",
            "INFO:__main__:Using Step 2 task ID: 97b92047cc62415e860d96e531e9dbd4\n",
            "INFO:__main__:Training configuration:\n",
            "INFO:__main__:  step2_task_id: 97b92047cc62415e860d96e531e9dbd4\n",
            "INFO:__main__:  processed_dataset_id: 97b92047cc62415e860d96e531e9dbd4\n",
            "INFO:__main__:  batch_size: 64\n",
            "INFO:__main__:  num_epochs: 5\n",
            "INFO:__main__:  learning_rate: 0.0005\n",
            "INFO:__main__:  weight_decay: 1e-06\n",
            "INFO:__main__:  dropout_rate: 0.4\n",
            "INFO:__main__:  test_queue: pipeline\n",
            "INFO:__main__:  device: cpu\n",
            "INFO:__main__:Loaded data - Train: (1957, 256, 256, 3), Test: (490, 256, 256, 3)\n",
            "INFO:__main__:Number of classes: 38\n",
            "ClearML Monitor: GPU monitoring failed getting GPU reading, switching off GPU monitoring\n",
            "INFO:__main__:Starting training for 5 epochs...\n",
            "Updating job performance summary plot/table\n",
            "Progress report #35 completed, sleeping for 5.0 minutes\n",
            "ClearML Monitor: Could not detect iteration reporting, falling back to iterations as seconds-from-start\n",
            "Progress report #36 completed, sleeping for 5.0 minutes\n",
            "2025-05-24 06:19:59,534 - clearml.frameworks - INFO - Found existing registered model id=7b9c7402d12340a9a0fa73b565b72d18 [/content/HPO/best_model_checkpoint.pth] reusing it.\n",
            "INFO:__main__:Epoch 1/5 - Train Loss: 1.2420, Train Acc: 0.8227, Val Loss: 1.0351, Val Acc: 0.8347\n",
            "Progress report #37 completed, sleeping for 5.0 minutes\n",
            "INFO:__main__:Epoch 2/5 - Train Loss: 0.2504, Train Acc: 0.9019, Val Loss: 0.3610, Val Acc: 0.8694\n",
            "Progress report #38 completed, sleeping for 5.0 minutes\n",
            "INFO:__main__:Epoch 3/5 - Train Loss: 0.2148, Train Acc: 0.9254, Val Loss: 0.1639, Val Acc: 0.9469\n",
            "Progress report #39 completed, sleeping for 5.0 minutes\n",
            "INFO:__main__:Epoch 4/5 - Train Loss: 0.1731, Train Acc: 0.9356, Val Loss: 0.1480, Val Acc: 0.9408\n",
            "Progress report #40 completed, sleeping for 5.0 minutes\n",
            "Progress report #41 completed, sleeping for 5.0 minutes\n",
            "INFO:__main__:Epoch 5/5 - Train Loss: 0.1561, Train Acc: 0.9458, Val Loss: 0.1369, Val Acc: 0.9531\n",
            "/usr/local/lib/python3.11/dist-packages/sklearn/metrics/_classification.py:1509: UndefinedMetricWarning:\n",
            "\n",
            "Precision is ill-defined and being set to 0.0 in labels with no predicted samples. Use `zero_division` parameter to control this behavior.\n",
            "\n",
            "INFO:__main__:\n",
            "Final Test Results:\n",
            "INFO:__main__:Test Loss: 0.1369\n",
            "INFO:__main__:Test Accuracy: 0.9531\n",
            "INFO:__main__:Precision: 0.5948\n",
            "INFO:__main__:Recall: 0.6074\n",
            "INFO:__main__:Best Validation Accuracy: 0.9531 at epoch 5\n",
            "2025-05-24 06:46:49,343 - clearml.frameworks - INFO - Found existing registered model id=c881472d91bd4ebca434b20e6dec6d44 [/content/HPO/pest_cnn_model.pth] reusing it.\n",
            "INFO:__main__:✅ Model training completed successfully!\n",
            "OptunaObjective result metric=0.9530612244897959, iteration (4, 0.9530612230300903)\n",
            "\u001b[32m[I 2025-05-24 06:48:08,700]\u001b[0m Trial 4 finished with value: 0.9530612244897959 and parameters: {'General/learning_rate': 0.0005, 'General/batch_size': 64, 'General/weight_decay': 1e-06, 'General/num_epochs': 5, 'General/dropout_rate': 0.4}. Best is trial 0 with value: 0.9571428571428572.\u001b[0m\n",
            "INFO:__main__:✅ HPO Finished. Processing results...\n",
            "INFO:__main__:🏆 Best Model: 0.9571 (Step 3 - Model Training: General/batch_size=16 General/dropout_rate=0.4 General/learning_rate=0.0001 General/num_epochs=5 General/weight_decay=1e-05)\n",
            "INFO:__main__:✅ Artifacts uploaded successfully in subtask.\n",
            "INFO:__main__:📦 Artifacts saved in subtask: {'best_accuracy': {'name': 'best_accuracy', 'size': 21, 'type': 'pickle', 'mode': <ArtifactModeEnum.output: 'output'>, 'url': 'https://files.clear.ml/Agri-Pest-Detection/Step%204%20-%20HPO%20Artifact%20Upload.39b5d93fd48b4418904218b46950ed56/artifacts/best_accuracy/best_accuracy.pkl', 'hash': '558dd089c7a5f4bbc9bdc44812dbf78ea0f264347ce39b7b52c5eb0b40b8ed0a', 'timestamp': datetime.datetime(2025, 5, 24, 6, 48, 9), 'metadata': {}, 'preview': '0.9571428571428572'}, 'best_experiment_id': {'name': 'best_experiment_id', 'size': 32, 'type': 'string', 'mode': <ArtifactModeEnum.output: 'output'>, 'url': 'https://files.clear.ml/Agri-Pest-Detection/Step%204%20-%20HPO%20Artifact%20Upload.39b5d93fd48b4418904218b46950ed56/artifacts/best_experiment_id/best_experiment_id.txt', 'hash': '53cac7dc429276813101e113b2bbf8c1289145365fd4d0ccc9648901d341711c', 'timestamp': datetime.datetime(2025, 5, 24, 6, 48, 9), 'metadata': {}, 'preview': '4105c21c6208472281ce77a01659d2a6'}, 'best_hyperparameters': {'name': 'best_hyperparameters', 'size': 2, 'type': 'dict', 'mode': <ArtifactModeEnum.output: 'output'>, 'url': 'https://files.clear.ml/Agri-Pest-Detection/Step%204%20-%20HPO%20Artifact%20Upload.39b5d93fd48b4418904218b46950ed56/artifacts/best_hyperparameters/best_hyperparameters.json', 'hash': '44136fa355b3678a1146ad16f7e8649e94fb4fc21fe77e8310c060f61caaff8a', 'timestamp': datetime.datetime(2025, 5, 24, 6, 48, 9), 'metadata': {}, 'preview': '{}'}}\n",
            "INFO:__main__:✅ Step 4 - HPO completed.\n"
          ]
        }
      ],
      "source": [
        "!python task_hpo.py"
      ]
    },
    {
      "cell_type": "code",
      "execution_count": null,
      "id": "d9yp4AyJLvuD",
      "metadata": {
        "colab": {
          "base_uri": "https://localhost:8080/"
        },
        "id": "d9yp4AyJLvuD",
        "outputId": "eb1bae20-f1b2-4436-d725-10bed547dd83"
      },
      "outputs": [
        {
          "name": "stdout",
          "output_type": "stream",
          "text": [
            "ClearML Task: created new task id=ac19488ce2ae4ad4a5b98519679eca52\n",
            "2025-05-24 07:43:16.310178: E external/local_xla/xla/stream_executor/cuda/cuda_fft.cc:477] Unable to register cuFFT factory: Attempting to register factory for plugin cuFFT when one has already been registered\n",
            "WARNING: All log messages before absl::InitializeLog() is called are written to STDERR\n",
            "E0000 00:00:1748072596.335702   84480 cuda_dnn.cc:8310] Unable to register cuDNN factory: Attempting to register factory for plugin cuDNN when one has already been registered\n",
            "E0000 00:00:1748072596.343281   84480 cuda_blas.cc:1418] Unable to register cuBLAS factory: Attempting to register factory for plugin cuBLAS when one has already been registered\n",
            "2025-05-24 07:43:16.367910: I tensorflow/core/platform/cpu_feature_guard.cc:210] This TensorFlow binary is optimized to use available CPU instructions in performance-critical operations.\n",
            "To enable the following instructions: AVX2 FMA, in other operations, rebuild TensorFlow with the appropriate compiler flags.\n",
            "ClearML results page: https://app.clear.ml/projects/dff39841e6c5453e90e8365dd7a56b7e/experiments/ac19488ce2ae4ad4a5b98519679eca52/output/log\n",
            "ClearML Monitor: GPU monitoring failed getting GPU reading, switching off GPU monitoring\n",
            "ClearML Monitor: Could not detect iteration reporting, falling back to iterations as seconds-from-start\n",
            "/usr/local/lib/python3.11/dist-packages/sklearn/metrics/_classification.py:1509: UndefinedMetricWarning:\n",
            "\n",
            "Precision is ill-defined and being set to 0.0 in labels with no predicted samples. Use `zero_division` parameter to control this behavior.\n",
            "\n",
            "[Epoch 1/10] Train Acc: 0.8457 | Val Acc: 0.8959\n",
            "/usr/local/lib/python3.11/dist-packages/sklearn/metrics/_classification.py:1509: UndefinedMetricWarning:\n",
            "\n",
            "Precision is ill-defined and being set to 0.0 in labels with no predicted samples. Use `zero_division` parameter to control this behavior.\n",
            "\n",
            "[Epoch 2/10] Train Acc: 0.9101 | Val Acc: 0.9163\n",
            "/usr/local/lib/python3.11/dist-packages/sklearn/metrics/_classification.py:1509: UndefinedMetricWarning:\n",
            "\n",
            "Precision is ill-defined and being set to 0.0 in labels with no predicted samples. Use `zero_division` parameter to control this behavior.\n",
            "\n",
            "[Epoch 3/10] Train Acc: 0.9203 | Val Acc: 0.9041\n",
            "/usr/local/lib/python3.11/dist-packages/sklearn/metrics/_classification.py:1509: UndefinedMetricWarning:\n",
            "\n",
            "Precision is ill-defined and being set to 0.0 in labels with no predicted samples. Use `zero_division` parameter to control this behavior.\n",
            "\n",
            "[Epoch 4/10] Train Acc: 0.9387 | Val Acc: 0.9612\n",
            "/usr/local/lib/python3.11/dist-packages/sklearn/metrics/_classification.py:1509: UndefinedMetricWarning:\n",
            "\n",
            "Precision is ill-defined and being set to 0.0 in labels with no predicted samples. Use `zero_division` parameter to control this behavior.\n",
            "\n",
            "[Epoch 5/10] Train Acc: 0.9469 | Val Acc: 0.9551\n",
            "/usr/local/lib/python3.11/dist-packages/sklearn/metrics/_classification.py:1509: UndefinedMetricWarning:\n",
            "\n",
            "Precision is ill-defined and being set to 0.0 in labels with no predicted samples. Use `zero_division` parameter to control this behavior.\n",
            "\n",
            "[Epoch 6/10] Train Acc: 0.9484 | Val Acc: 0.9265\n",
            "/usr/local/lib/python3.11/dist-packages/sklearn/metrics/_classification.py:1509: UndefinedMetricWarning:\n",
            "\n",
            "Precision is ill-defined and being set to 0.0 in labels with no predicted samples. Use `zero_division` parameter to control this behavior.\n",
            "\n",
            "[Epoch 7/10] Train Acc: 0.9407 | Val Acc: 0.9367\n",
            "/usr/local/lib/python3.11/dist-packages/sklearn/metrics/_classification.py:1509: UndefinedMetricWarning:\n",
            "\n",
            "Precision is ill-defined and being set to 0.0 in labels with no predicted samples. Use `zero_division` parameter to control this behavior.\n",
            "\n",
            "[Epoch 8/10] Train Acc: 0.9489 | Val Acc: 0.8878\n",
            "/usr/local/lib/python3.11/dist-packages/sklearn/metrics/_classification.py:1509: UndefinedMetricWarning:\n",
            "\n",
            "Precision is ill-defined and being set to 0.0 in labels with no predicted samples. Use `zero_division` parameter to control this behavior.\n",
            "\n",
            "[Epoch 9/10] Train Acc: 0.9530 | Val Acc: 0.9490\n",
            "/usr/local/lib/python3.11/dist-packages/sklearn/metrics/_classification.py:1509: UndefinedMetricWarning:\n",
            "\n",
            "Precision is ill-defined and being set to 0.0 in labels with no predicted samples. Use `zero_division` parameter to control this behavior.\n",
            "\n",
            "[Epoch 10/10] Train Acc: 0.9525 | Val Acc: 0.9041\n",
            "2025-05-24 08:40:44,257 - clearml.frameworks - INFO - Found existing registered model id=1ba6d9ab63eb4ca58e05d9d761913e77 [/content/HPO/final_model.pth] reusing it.\n",
            "✅ Final model training completed.\n"
          ]
        }
      ],
      "source": [
        "!python final_model.py"
      ]
    },
    {
      "cell_type": "code",
      "execution_count": null,
      "id": "E1o1KyZPAxik",
      "metadata": {
        "colab": {
          "base_uri": "https://localhost:8080/"
        },
        "id": "E1o1KyZPAxik",
        "outputId": "f5c77f5d-80fc-448e-dfd5-107a85d3268e"
      },
      "outputs": [
        {
          "name": "stdout",
          "output_type": "stream",
          "text": [
            "best_model_checkpoint.pth  pipeline_from_tasks.py       training_curves.png\n",
            "final_acc_curve.png        README.md                    X_test.npy\n",
            "final_model.pth            requirements.txt             X_train.npy\n",
            "final_model.py             step1_dataset_artifact.py    y_test.npy\n",
            "label2id.npy               step2_data_preprocessing.py  y_train.npy\n",
            "main.py                    step3_train_model.py\n",
            "pest_cnn_model.pth         task_hpo.py\n"
          ]
        }
      ],
      "source": [
        "ls"
      ]
    },
    {
      "cell_type": "code",
      "execution_count": null,
      "id": "KHNoCjYuuCkr",
      "metadata": {
        "colab": {
          "background_save": true,
          "base_uri": "https://localhost:8080/"
        },
        "id": "KHNoCjYuuCkr",
        "outputId": "83a57516-0182-4179-9c11-e4274839cfb2"
      },
      "outputs": [
        {
          "name": "stdout",
          "output_type": "stream",
          "text": [
            "Hi, AI Studio\n",
            "ClearML Task: created new task id=3636b80d647847d98bcc848cb9aab038\n",
            "2025-05-24 08:54:18.742808: E external/local_xla/xla/stream_executor/cuda/cuda_fft.cc:477] Unable to register cuFFT factory: Attempting to register factory for plugin cuFFT when one has already been registered\n",
            "WARNING: All log messages before absl::InitializeLog() is called are written to STDERR\n",
            "E0000 00:00:1748076858.779350  101595 cuda_dnn.cc:8310] Unable to register cuDNN factory: Attempting to register factory for plugin cuDNN when one has already been registered\n",
            "E0000 00:00:1748076858.790154  101595 cuda_blas.cc:1418] Unable to register cuBLAS factory: Attempting to register factory for plugin cuBLAS when one has already been registered\n",
            "2025-05-24 08:54:18.826835: I tensorflow/core/platform/cpu_feature_guard.cc:210] This TensorFlow binary is optimized to use available CPU instructions in performance-critical operations.\n",
            "To enable the following instructions: AVX2 FMA, in other operations, rebuild TensorFlow with the appropriate compiler flags.\n",
            "ClearML results page: https://app.clear.ml/projects/e24d65d21da243178b14b9592f2ebd36/experiments/3636b80d647847d98bcc848cb9aab038/output/log\n",
            "ClearML pipeline page: https://app.clear.ml/pipelines/e24d65d21da243178b14b9592f2ebd36/experiments/3636b80d647847d98bcc848cb9aab038\n",
            "INFO:pipeline_from_tasks:Set default execution queue to: pipeline\n",
            "2025-05-24 08:54:23,062 - clearml.util - WARNING - 2 task found when searching for `{'project_name': 'Agri-Pest-Detection', 'task_name': 'Step 1 - Load Uncompressed Pest Image Dataset', 'include_archived': True, 'task_filter': {'status': ['created', 'queued', 'in_progress', 'published', 'stopped', 'completed', 'closed']}}`\n",
            "2025-05-24 08:54:23,063 - clearml.util - WARNING - Selected task `Step 1 - Load Uncompressed Pest Image Dataset` (id=f45491b5b2cb464895e4fbe6362ad7b6)\n",
            "2025-05-24 08:54:23,349 - clearml.util - WARNING - 40 task found when searching for `{'project_name': 'Agri-Pest-Detection', 'task_name': 'Step 2 - Preprocessing (artifact version)', 'include_archived': True, 'task_filter': {'status': ['created', 'queued', 'in_progress', 'published', 'stopped', 'completed', 'closed']}}`\n",
            "2025-05-24 08:54:23,350 - clearml.util - WARNING - Selected task `Step 2 - Preprocessing (artifact version)` (id=97b92047cc62415e860d96e531e9dbd4)\n",
            "2025-05-24 08:54:23,504 - clearml.util - WARNING - 44 task found when searching for `{'project_name': 'Agri-Pest-Detection', 'task_name': 'Step 3 - Model Training', 'include_archived': True, 'task_filter': {'status': ['created', 'queued', 'in_progress', 'published', 'stopped', 'completed', 'closed']}}`\n",
            "2025-05-24 08:54:23,504 - clearml.util - WARNING - Selected task `Step 3 - Model Training` (id=9ad39481bf0c4e9a8dede14de39de190)\n",
            "2025-05-24 08:54:23,629 - clearml.util - WARNING - 27 task found when searching for `{'project_name': 'Agri-Pest-Detection', 'task_name': 'Step 4 - HPO: Train Model', 'include_archived': True, 'task_filter': {'status': ['created', 'queued', 'in_progress', 'published', 'stopped', 'completed', 'closed']}}`\n",
            "2025-05-24 08:54:23,629 - clearml.util - WARNING - Selected task `Step 4 - HPO: Train Model` (id=1e8002e4b10b48a6853caea309e5fae7)\n",
            "2025-05-24 08:54:23,741 - clearml.util - WARNING - 8 task found when searching for `{'project_name': 'Agri-Pest-Detection', 'task_name': 'Step 5 - Final Model Training', 'include_archived': True, 'task_filter': {'status': ['created', 'queued', 'in_progress', 'published', 'stopped', 'completed', 'closed']}}`\n",
            "2025-05-24 08:54:23,742 - clearml.util - WARNING - Selected task `Step 5 - Final Model Training` (id=ac19488ce2ae4ad4a5b98519679eca52)\n",
            "INFO:pipeline_from_tasks:Starting pipeline locally with tasks on queue: pipeline\n",
            "Launching the next 1 steps\n",
            "Launching step [stage_data]\n",
            "Launching step: stage_data\n",
            "Parameters:\n",
            "None\n",
            "Configurations:\n",
            "{}\n",
            "Overrides:\n",
            "{}\n",
            "Launching the next 1 steps\n",
            "Launching step [stage_process]\n",
            "Launching step: stage_process\n",
            "Parameters:\n",
            "{'General/dataset_task_id': '${stage_data.id}', 'General/test_size': 0.25, 'General/random_state': 42}\n",
            "Configurations:\n",
            "{}\n",
            "Overrides:\n",
            "{}\n",
            "Launching the next 1 steps\n",
            "Launching step [stage_train]\n",
            "Launching step: stage_train\n",
            "Parameters:\n",
            "{'General/processed_dataset_id': '${stage_process.id}', 'General/test_queue': 'pipeline', 'General/num_epochs': 20, 'General/batch_size': 16, 'General/learning_rate': 0.001, 'General/weight_decay': 1e-05}\n",
            "Configurations:\n",
            "{}\n",
            "Overrides:\n",
            "{}\n",
            "Launching the next 1 steps\n",
            "Launching step [stage_hpo]\n",
            "Launching step: stage_hpo\n",
            "Parameters:\n",
            "{'General/processed_dataset_id': '${stage_process.id}', 'General/test_queue': 'pipeline', 'General/num_trials': 4, 'General/time_limit_minutes': 20, 'General/run_as_service': False, 'General/dataset_task_id': '${stage_data.id}', 'General/base_train_task_id': '${stage_train.id}'}\n",
            "Configurations:\n",
            "{}\n",
            "Overrides:\n",
            "{}\n"
          ]
        }
      ],
      "source": [
        "!python main.py"
      ]
    }
  ],
  "metadata": {
    "colab": {
      "machine_shape": "hm",
      "provenance": []
    },
    "kernelspec": {
      "display_name": "Python 3",
      "name": "python3"
    },
    "language_info": {
      "codemirror_mode": {
        "name": "ipython",
        "version": 3
      },
      "file_extension": ".py",
      "mimetype": "text/x-python",
      "name": "python",
      "nbconvert_exporter": "python",
      "pygments_lexer": "ipython3",
      "version": "3.10.10"
    }
  },
  "nbformat": 4,
  "nbformat_minor": 5
}